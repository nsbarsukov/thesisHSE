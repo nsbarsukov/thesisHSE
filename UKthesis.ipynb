{
 "cells": [
  {
   "cell_type": "markdown",
   "metadata": {},
   "source": [
    "<div style='flex-wrap: nowrap; display:flex; margin: 0 3vw'>\n",
    "<section class='universityLogo' style='display: inline-block; margin: 0 2vw'>\n",
    "<img src='https://www.hse.ru/data/2012/01/19/1263884289/logo_%D1%81_hse_cmyk_e.png' width=\"100vw\">\n",
    "</section>\n",
    "\n",
    "<section id='text' style='display:inline-block; font-size: 1vw'>\n",
    "<div class='title' style='font-style: italic; text-align: center'>\n",
    "    Скрипт эмпирической части выпускной квалификационной работы\n",
    "</div>\n",
    "<div id='cwName' style='margin: 1vw auto; color: #23C7ED'>\n",
    "    <div id='cwNameMain' align = 'center' style='font-size: 1.25vw; font-weight: bold;'>\n",
    "        Парламентские выборы Великобритании в 2015 и 2017 годах:\n",
    "    </div>\n",
    "    <div id= 'cwNameSub' align = 'center' style='font-size: 1vw; font-weight: bold'>\n",
    "        чем объясняется голосование вопреки предпочтениям избирателей\n",
    "    </div>\n",
    "</div>\n",
    "<div id='university' align = 'center' style='font-style: italic'>Студента \"Высшей Школы Экономики\" ОП \"Политология\"</div>\n",
    "<div id='authorName' align = 'center' style='color: #0C92B1; font-size: 1.5vw; font-weight: bold; margin: 1vw auto'>\n",
    "    Барсукова Никиты Сергеевича\n",
    "</div>\n",
    "</section>\n",
    "\n",
    "<section class='universityLogo' style='display: inline-block; margin: 0 2vw'>\n",
    "<img src='https://www.hse.ru/data/2012/01/19/1263884289/logo_%D1%81_hse_cmyk_e.png' width=\"100vw\">\n",
    "</section>\n",
    "</div>"
   ]
  },
  {
   "cell_type": "markdown",
   "metadata": {},
   "source": [
    "## Загрузка данных и пакетов"
   ]
  },
  {
   "cell_type": "code",
   "execution_count": 1,
   "metadata": {},
   "outputs": [],
   "source": [
    "from tqdm.notebook import tqdm\n",
    "from IPython.display import display, HTML, Image\n",
    "import pandas as pd\n",
    "import numpy as np\n",
    "import matplotlib.pyplot as plt\n",
    "\n",
    "pd.options.mode.chained_assignment = None \n",
    "pd.set_option('display.max_columns', 50)"
   ]
  },
  {
   "cell_type": "markdown",
   "metadata": {},
   "source": [
    "Здесь можно загрузить любую из 14 волн<br>\n",
    "Получить их все можно на сайте [British Election Studies](https://www.britishelectionstudy.com/data-objects/panel-study-data/)"
   ]
  },
  {
   "cell_type": "markdown",
   "metadata": {},
   "source": [
    "Чтобы проще понять, какая нужна, то здесь можно найти даты их проведения<br>\n",
    "Для напоминания:\n",
    "* Парламентские выборы были 07.05.2015\n",
    "* Внеочередные парламентские выборы были 08.06.2017"
   ]
  },
  {
   "cell_type": "code",
   "execution_count": 2,
   "metadata": {
    "code_folding": []
   },
   "outputs": [],
   "source": [
    "from datetime import datetime\n",
    "waves_time = {\"W01\" : {'start': \"20.02.2014\", 'finish': \"09.03.2014\"},\n",
    "              \"W02\" : {'start': \"22.05.2014\", 'finish': \"25.06.2014\"},\n",
    "              \"W03\" : {'start': \"19.09.2014\", 'finish': \"17.10.2014\"},\n",
    "              \"W04\" : {'start': \"04.03.2015\", 'finish': \"30.03.2015\"},\n",
    "              \"W05\" : {'start': \"31.03.2015\", 'finish': \"06.05.2015\"}, #прям перед выборами 2015\n",
    "              \"W06\" : {'start': \"08.05.2015\", 'finish': \"26.05.2015\"},\n",
    "              \"W07\" : {'start': \"14.04.2016\", 'finish': \"04.05.2016\"},\n",
    "              \"W08\" : {'start': \"06.05.2016\", 'finish': \"22.06.2016\"},\n",
    "              \"W09\" : {'start': \"24.06.2016\", 'finish': \"04.07.2016\"},\n",
    "              \"W10\" : {'start': \"24.11.2016\", 'finish': \"12.12.2016\"},\n",
    "              \"W11\" : {'start': \"24.04.2017\", 'finish': \"03.05.2017\"},\n",
    "              \"W12\" : {'start': \"05.05.2017\", 'finish': \"07.06.2017\"}, #прям перед выборами 2017\n",
    "              \"W13\" : {'start': \"09.06.2017\", 'finish': \"23.06.2017\"},\n",
    "              \"W14\" : {'start': \"04.05.2018\", 'finish': \"21.05.2018\"}}\n",
    "\n",
    "for wave in waves_time:\n",
    "    waves_time[wave]['start'] = datetime.strptime(waves_time[wave]['start'], \"%d.%m.%Y\")\n",
    "    waves_time[wave]['finish'] = datetime.strptime(waves_time[wave]['finish'], \"%d.%m.%Y\")"
   ]
  },
  {
   "cell_type": "markdown",
   "metadata": {},
   "source": [
    "### Загрузка путём чтения файла с компьютера"
   ]
  },
  {
   "cell_type": "markdown",
   "metadata": {},
   "source": [
    "Это можно сделать \"ручками\", сложив файлы в папку `data`, рядом с этим скриптом, и исполнив следующий чанк."
   ]
  },
  {
   "cell_type": "code",
   "execution_count": 3,
   "metadata": {
    "code_folding": []
   },
   "outputs": [],
   "source": [
    "dataW04 = pd.read_stata(\"data/BES2015_W4_v3.9.dta\")\n",
    "dataW12 = pd.read_stata(\"data/BES2015_W12_v1.5.dta\")"
   ]
  },
  {
   "cell_type": "markdown",
   "metadata": {},
   "source": [
    "Либо ... "
   ]
  },
  {
   "cell_type": "markdown",
   "metadata": {},
   "source": [
    "### Загрузка напрямую с интернета (используем только ссылку)"
   ]
  },
  {
   "cell_type": "markdown",
   "metadata": {},
   "source": [
    "...либо есть вот эта замечательная функция, которая автоматически загрузит с интернета датасет в рабочую среду <br>\n",
    "**НО:** нужно учесть, что особенно последние волны часто обновляются (а следовательно и меняются ссылки => чтобы работала функция нужно обновить ссылки внутри функции) <br>\n",
    "*Файл не сохраняется нигде на компьютере*"
   ]
  },
  {
   "cell_type": "code",
   "execution_count": 4,
   "metadata": {
    "code_folding": [
     2,
     4
    ]
   },
   "outputs": [],
   "source": [
    "import urllib.request\n",
    "\n",
    "def download_n_wave(n_wave = 4):\n",
    "    #здесь ссылки на все волны\n",
    "    urls_waves = ['https://www.britishelectionstudy.com/wp-content/uploads/2018/09/BES2015_W1_v7.9.dta',\n",
    "                  'https://www.britishelectionstudy.com/wp-content/uploads/2018/09/BES2015_W2_v6.9.dta',\n",
    "                  'https://www.britishelectionstudy.com/wp-content/uploads/2018/09/BES2015_W3_v4.9.dta',\n",
    "                  'https://www.britishelectionstudy.com/wp-content/uploads/2018/09/BES2015_W4_v3.9.dta',\n",
    "                  'https://www.britishelectionstudy.com/wp-content/uploads/2018/09/BES2015_W5_v3.9.dta',\n",
    "                  'https://www.britishelectionstudy.com/wp-content/uploads/2018/09/BES2015_W6_v3.9.dta',\n",
    "                  'https://www.britishelectionstudy.com/wp-content/uploads/2018/09/BES2015_W7_v2.2-1.dta',\n",
    "                  'https://www.britishelectionstudy.com/wp-content/uploads/2018/09/BES2015_W8_v2.3.dta',\n",
    "                  'https://www.britishelectionstudy.com/wp-content/uploads/2018/09/BES2015_W9_v1.7.dta',\n",
    "                  'https://www.britishelectionstudy.com/wp-content/uploads/2019/03/BES2015_W10_v0.8.dta',\n",
    "                  'https://www.britishelectionstudy.com/wp-content/uploads/2019/03/BES2015_W11_v1.5.dta',\n",
    "                  'https://www.britishelectionstudy.com/wp-content/uploads/2019/03/BES2015_W12_v1.5.dta',\n",
    "                  'https://www.britishelectionstudy.com/wp-content/uploads/2019/03/BES2017_W13_v1.5.dta',\n",
    "                  'https://www.britishelectionstudy.com/wp-content/uploads/2019/03/BES2017_W14_v0.3.dta']\n",
    "    \n",
    "    #отсылает те данные, как это делает и любой браузер (имитируем повседневный вход, чтобы избежать httpError 403)\n",
    "    myHeaders = {'User-Agent': 'Mozilla/5.0 (Macintosh; Intel Mac OS X 10_11_5) AppleWebKit/537.36 (KHTML, like Gecko) Chrome/50.0.2661.102 Safari/537.36'}\n",
    "    \n",
    "    \n",
    "    url_request  = urllib.request.Request(urls_waves[n_wave - 1], headers=myHeaders)\n",
    "    data = urllib.request.urlopen(url_request)\n",
    "\n",
    "    return pd.read_stata(data)"
   ]
  },
  {
   "cell_type": "code",
   "execution_count": null,
   "metadata": {},
   "outputs": [],
   "source": [
    "# dataW04 = download_n_wave(4)\n",
    "# dataW12 = download_n_wave(12)"
   ]
  },
  {
   "cell_type": "markdown",
   "metadata": {},
   "source": [
    "*Примечание*: взята была 4 волна, а не 5 (которая казалось бы ближе к выборам), потому что в 5 отсутствует интересуемая нас зависимая переменная. Разница в пару месяцев в данном случае не критична."
   ]
  },
  {
   "cell_type": "markdown",
   "metadata": {},
   "source": [
    "## Отсечение нужных переменных"
   ]
  },
  {
   "cell_type": "markdown",
   "metadata": {},
   "source": [
    "<section style=''>\n",
    "<div style='font-weight: bold; text-align: center'> Для зависимой </div>\n",
    "</section>"
   ]
  },
  {
   "cell_type": "markdown",
   "metadata": {},
   "source": [
    "* partyId - Generally speaking, do you think of yourself as Labour, Conservative, Liberal Democrat or what?\n",
    "* generalElectionVote - And if there were a UK General Election tomorrow, which party would you vote for?\n",
    "<hr>\n",
    "\n",
    "<hr>\n",
    "\n",
    "<section style=''>\n",
    "<div style='font-weight: bold; text-align: center'> Гипотеза 1: малая вера в успех партии </div>\n",
    "</section>\n",
    "\n",
    "* winConstituencyPlacement - How likely is it that each of these parties will win the General Election in your local constituency? (0-Very unlikely to win; 100-Very likely to win)\n",
    "\n",
    "* noChanceCoalition - Which of these parties do you think has no real chanceof being part of the next UK government (either forming a government by itself or as part of a coalition)? Tick all that apply\n",
    "\n",
    "\n",
    "<hr>\n",
    "\n",
    "<hr>\n",
    "\n",
    "<section style=''>\n",
    "<div style='font-weight: bold; text-align: center'> Гипотеза 3: экономическое голосование </div>\n",
    "</section>\n",
    "\n",
    "* changeEconomy (W12, W04) - Do you think that Economy is getting better, getting worse or staying about the same?\n",
    "\n",
    "<hr>\n",
    "\n",
    "<hr>\n",
    "\n",
    "<section style=''>\n",
    "<div style='font-weight: bold; text-align: center'> Гипотеза 4: нарушение иерархии ценностей </div>\n",
    "</section>\n",
    "\n",
    "* mii - As far as you're concerned, what is the SINGLE MOST important issue facing the country at the present time? (open question)\n",
    "* bestOnMII - Which party is best able to handle this issue? (if mii is not None or Don't know)\n",
    "* handleMII - Earlier you said that the single most important issue facing the country was: ... How well do you think that each of the parties is able to handle that issue? (0 –Very badly)\n",
    "\n",
    "<hr>\n",
    "\n",
    "<section style=''>\n",
    "<div style='font-weight: bold; text-align: center'> Контрольные </div>\n",
    "</section>\n",
    "\n",
    "* country (England, Scotland, Wales)\n",
    "* gender\n",
    "* age\n",
    "\n",
    "<hr>\n",
    "<hr>"
   ]
  },
  {
   "cell_type": "code",
   "execution_count": 5,
   "metadata": {},
   "outputs": [],
   "source": [
    "chosenVar = [\"partyId\", \"generalElectionVote\", #для создания зависимой переменной\n",
    "             \n",
    "             #гипотеза 1: успех партии\n",
    "             'winConstituencyCon', 'winConstituencyLab', 'winConstituencyLD', 'winConstituencyUKIP',\n",
    "             'winConstituencyGreen', 'winConstituencySNP', 'winConstituencyPC',\n",
    "             \n",
    "             'noChanceCoalitionLab', 'noChanceCoalitionCon', 'noChanceCoalitionLD','noChanceCoalitionSNP',\n",
    "             'noChanceCoalitionPC', 'noChanceCoalitionGrn', 'noChanceCoalitionUKIP', 'noChanceCoalitionNone',\n",
    "             #-----------------------#\n",
    "             \n",
    "             #гипотеза 3: экономическое голосование\n",
    "             'changeEconomy', 'econPersonalRetro', 'econGenRetro',\n",
    "             #------------------------------------#\n",
    "             \n",
    "             #Гипотезы 2 и 4: сигнальное голосование и про иерархию ценностей\n",
    "             'mii', 'bestOnMII', \n",
    "             'handleMIICon', 'handleMIILab', 'handleMIILD', 'handleMIIUKIP', 'handleMIIGrn',\n",
    "             'mii_cat', 'small_mii_cat',\n",
    "             #--------------------------------------------------------------#\n",
    "             \n",
    "             #Контрольные переменные\n",
    "             'country', 'gender']\n",
    "             #---------------------#\n",
    "    \n",
    "chosenVar_W04_only = ['Age']\n",
    "chosenVar_W12_only = ['age']"
   ]
  },
  {
   "cell_type": "code",
   "execution_count": 6,
   "metadata": {},
   "outputs": [],
   "source": [
    "dataW04 = dataW04[chosenVar + chosenVar_W04_only]\n",
    "dataW12 = dataW12[chosenVar + chosenVar_W12_only]"
   ]
  },
  {
   "cell_type": "code",
   "execution_count": 7,
   "metadata": {},
   "outputs": [],
   "source": [
    "dataW04 = dataW04.dropna(subset=[\"partyId\", \"generalElectionVote\"]).reset_index(drop = True)\n",
    "dataW12 = dataW12.dropna(subset=[\"partyId\", \"generalElectionVote\"]).reset_index(drop = True)"
   ]
  },
  {
   "cell_type": "markdown",
   "metadata": {},
   "source": [
    "## Перекодировка переменных"
   ]
  },
  {
   "cell_type": "code",
   "execution_count": 8,
   "metadata": {
    "code_folding": [
     0
    ]
   },
   "outputs": [],
   "source": [
    "transcodingVariables = {\n",
    "    \"mii\" : {\"Issue stated\": 1, \"Don't know\": 0, 'None': 0},\n",
    "    \n",
    "    \"handleMIICon\": {\"Very badly\": 0, \"Very well\": 10, \"Don't know\": np.nan},\n",
    "    \"handleMIILab\": {\"Very badly\": 0, \"Very well\": 10, \"Don't know\": np.nan},\n",
    "    \"handleMIILD\": {\"Very badly\": 0, \"Very well\": 10, \"Don't know\": np.nan},\n",
    "    \"handleMIIUKIP\": {\"Very badly\": 0, \"Very well\": 10, \"Don't know\": np.nan},\n",
    "    \"handleMIIGrn\": {\"Very badly\": 0, \"Very well\": 10, \"Don't know\": np.nan},\n",
    "    \n",
    "    \"winConstituencyCon\": {\"0 - Very unlikely to win\": 0, \"100 - Very likely to win\": 100, \"Don't know\": np.nan},\n",
    "    \"winConstituencyLab\": {\"0 - Very unlikely to win\": 0, \"100 - Very likely to win\": 100, \"Don't know\": np.nan},\n",
    "    \"winConstituencyLD\": {\"0 - Very unlikely to win\": 0, \"100 - Very likely to win\": 100, \"Don't know\": np.nan},\n",
    "    \"winConstituencyUKIP\": {\"0 - Very unlikely to win\": 0, \"100 - Very likely to win\": 100, \"Don't know\": np.nan},\n",
    "    \"winConstituencyGreen\": {\"0 - Very unlikely to win\": 0, \"100 - Very likely to win\": 100, \"Don't know\": np.nan},\n",
    "    \"winConstituencySNP\": {\"0 - Very unlikely to win\": 0, \"100 - Very likely to win\": 100, \"Don't know\": np.nan},\n",
    "    \"winConstituencyPC\": {\"0 - Very unlikely to win\": 0, \"100 - Very likely to win\": 100, \"Don't know\": np.nan},\n",
    "    \n",
    "    \"noChanceCoalitionLab\": {\"Yes\": 1, \"No\": 0, \"Don't know\": np.nan},\n",
    "    \"noChanceCoalitionCon\": {\"Yes\": 1, \"No\": 0, \"Don't know\": np.nan},\n",
    "    \"noChanceCoalitionLD\": {\"Yes\": 1, \"No\": 0, \"Don't know\": np.nan},\n",
    "    \"noChanceCoalitionSNP\": {\"Yes\": 1, \"No\": 0, \"Don't know\": np.nan},\n",
    "    \"noChanceCoalitionPC\": {\"Yes\": 1, \"No\": 0, \"Don't know\": np.nan},\n",
    "    \"noChanceCoalitionGrn\": {\"Yes\": 1, \"No\": 0, \"Don't know\": np.nan},\n",
    "    \"noChanceCoalitionUKIP\": {\"Yes\": 1, \"No\": 0, \"Don't know\": np.nan},\n",
    "    \"noChanceCoalitionNone\": {\"Yes\": 1, \"No\": 0, \"Don't know\": np.nan},\n",
    "    \n",
    "    \"majorityPartyCon\": {\"Very unlikely\": 0, \"Very likely\": 10, \"Don't know\": np.nan},\n",
    "    \"majorityPartyLab\": {\"Very unlikely\": 0, \"Very likely\": 10, \"Don't know\": np.nan},\n",
    "    \n",
    "    \"changeEconomy\": {\"Getting a lot worse\": -2, \"Getting a little worse\": -1,\n",
    "                      \"Staying about the same\": 0, \"Don't know\": np.nan,\n",
    "                      \"Getting a little better\": 1, \"Getting a lot better\": 2},\n",
    "    \n",
    "    'econPersonalRetro': {\"Got a lot worse\": -2, \"Got a little worse\": -1,\n",
    "                          \"Stayed the same\": 0, \"Don't know\": np.nan,\n",
    "                          \"Got a little better\": 1, \"Got a lot better\": 2},\n",
    "    \n",
    "    'econGenRetro': {\"Got a lot worse\": -2, \"Got a little worse\": -1,\n",
    "                     \"Stayed the same\": 0, \"Don't know\": np.nan,\n",
    "                     \"Got a little better\": 1, \"Got a lot better\": 2},\n",
    "    \n",
    "    \"govtHandleCostLive\": {\"Very badly\": -2, \"Fairly badly\": -1,\n",
    "                           \"Neither well nor badly\": 0, \"Don't know\": np.nan,\n",
    "                           \"Fairly well\": 1, \"Very well\": 2},\n",
    "    \n",
    "    \"govtHandleEcon\": {\"Very badly\": -2, \"Fairly badly\": -1,\n",
    "                       \"Neither well nor badly\": 0, \"Don't know\": np.nan,\n",
    "                       \"Fairly well\": 1, \"Very well\": 2}\n",
    "    \n",
    "    \n",
    "}\n",
    "\n",
    "dataW04.replace(to_replace=transcodingVariables, inplace = True)\n",
    "dataW12.replace(to_replace=transcodingVariables, inplace = True)"
   ]
  },
  {
   "cell_type": "markdown",
   "metadata": {},
   "source": [
    "Сокращение имён переменных (чтобы они умещались в регрессионной выдаче)"
   ]
  },
  {
   "cell_type": "code",
   "execution_count": 9,
   "metadata": {},
   "outputs": [],
   "source": [
    "renameDictionary = {\"generalElectionVote\": \"GEV\",\n",
    "                    \"econPersonalRetro\": \"econPersonal\", \"econGenRetro\" : \"econGen\",\n",
    "                    'Age': 'age',\n",
    "                    #Green Party везде по-разному прописана (делаем везде одинаково)\n",
    "                    \"winConstituencyGreen\": \"winConstituencyGrn\"}\n",
    "dataW12 = dataW12.rename(columns = renameDictionary)\n",
    "dataW04 = dataW04.rename(columns = renameDictionary)"
   ]
  },
  {
   "cell_type": "markdown",
   "metadata": {},
   "source": [
    "convert some var types"
   ]
  },
  {
   "cell_type": "code",
   "execution_count": 10,
   "metadata": {
    "code_folding": []
   },
   "outputs": [],
   "source": [
    "def transform_str2num(data):\n",
    "    varToNum = ['winConstituencyCon', 'winConstituencyLab', 'winConstituencyLD', 'winConstituencyUKIP',\n",
    "                'winConstituencyGrn', 'winConstituencySNP', 'winConstituencyPC', 'age']\n",
    "    for var in varToNum:\n",
    "        data[var] = pd.to_numeric(data[var])\n",
    "    return data\n",
    "\n",
    "dataW04 = transform_str2num(dataW04)\n",
    "dataW12 = transform_str2num(dataW12)"
   ]
  },
  {
   "cell_type": "markdown",
   "metadata": {},
   "source": [
    "## Зависимая переменная DV"
   ]
  },
  {
   "cell_type": "code",
   "execution_count": 11,
   "metadata": {},
   "outputs": [
    {
     "data": {
      "text/html": [
       "<h4>partyId</h4>"
      ],
      "text/plain": [
       "<IPython.core.display.HTML object>"
      ]
     },
     "metadata": {},
     "output_type": "display_data"
    },
    {
     "name": "stdout",
     "output_type": "stream",
     "text": [
      "Labour                                      9135\n",
      "Conservative                                8190\n",
      "No - none                                   5610\n",
      "Liberal Democrat                            2056\n",
      "Scottish National Party (SNP)               1675\n",
      "United Kingdom Independence Party (UKIP)    1605\n",
      "Don't know                                  1455\n",
      "Green Party                                  997\n",
      "Other                                        299\n",
      "Plaid Cymru                                  205\n",
      "British National Party (BNP)                  97\n",
      "Name: partyId, dtype: int64\n",
      "_________________________________________________\n"
     ]
    },
    {
     "data": {
      "text/html": [
       "<h4>generalElectionVote</h4>"
      ],
      "text/plain": [
       "<IPython.core.display.HTML object>"
      ]
     },
     "metadata": {},
     "output_type": "display_data"
    },
    {
     "name": "stdout",
     "output_type": "stream",
     "text": [
      "Labour                                      8735\n",
      "Conservative                                8216\n",
      "United Kingdom Independence Party (UKIP)    3927\n",
      "Don't know                                  2918\n",
      "Scottish National Party (SNP)               2306\n",
      "Liberal Democrat                            1668\n",
      "Green Party                                 1647\n",
      "I would not vote                            1299\n",
      "Plaid Cymru                                  299\n",
      "Other                                        231\n",
      "British National Party (BNP)                  78\n",
      "Name: GEV, dtype: int64\n"
     ]
    }
   ],
   "source": [
    "display(HTML(\"<h4>partyId</h4>\"))\n",
    "print(dataW04['partyId'].value_counts())\n",
    "print(\"_________________________________________________\")\n",
    "display(HTML(\"<h4>generalElectionVote</h4>\"))\n",
    "print(dataW04['GEV'].value_counts())"
   ]
  },
  {
   "cell_type": "markdown",
   "metadata": {},
   "source": [
    "Уберём No - none, Don't know, I would not vote"
   ]
  },
  {
   "cell_type": "code",
   "execution_count": 12,
   "metadata": {},
   "outputs": [],
   "source": [
    "filterWords = [\"No - none\", \"Don't know\", \"I would not vote\"]\n",
    "dataW04 = dataW04[~dataW04['partyId'].isin(filterWords)]\n",
    "dataW04 = dataW04[~dataW04['GEV'].isin(filterWords)].reset_index(drop = True)"
   ]
  },
  {
   "cell_type": "code",
   "execution_count": 13,
   "metadata": {},
   "outputs": [
    {
     "data": {
      "text/html": [
       "<h4>partyId</h4>"
      ],
      "text/plain": [
       "<IPython.core.display.HTML object>"
      ]
     },
     "metadata": {},
     "output_type": "display_data"
    },
    {
     "name": "stdout",
     "output_type": "stream",
     "text": [
      "Labour                                      8558\n",
      "Conservative                                7761\n",
      "Liberal Democrat                            1816\n",
      "Scottish National Party (SNP)               1647\n",
      "United Kingdom Independence Party (UKIP)    1538\n",
      "Green Party                                  946\n",
      "Other                                        257\n",
      "Plaid Cymru                                  196\n",
      "British National Party (BNP)                  83\n",
      "No - none                                      0\n",
      "Don't know                                     0\n",
      "Name: partyId, dtype: int64\n",
      "_________________________________________________\n"
     ]
    },
    {
     "data": {
      "text/html": [
       "<h4>generalElectionVote</h4>"
      ],
      "text/plain": [
       "<IPython.core.display.HTML object>"
      ]
     },
     "metadata": {},
     "output_type": "display_data"
    },
    {
     "name": "stdout",
     "output_type": "stream",
     "text": [
      "Labour                                      7681\n",
      "Conservative                                7047\n",
      "United Kingdom Independence Party (UKIP)    3104\n",
      "Scottish National Party (SNP)               2018\n",
      "Liberal Democrat                            1351\n",
      "Green Party                                 1145\n",
      "Plaid Cymru                                  247\n",
      "Other                                        146\n",
      "British National Party (BNP)                  63\n",
      "I would not vote                               0\n",
      "Don't know                                     0\n",
      "Name: GEV, dtype: int64\n"
     ]
    }
   ],
   "source": [
    "display(HTML(\"<h4>partyId</h4>\"))\n",
    "print(dataW04['partyId'].value_counts())\n",
    "print(\"_________________________________________________\")\n",
    "display(HTML(\"<h4>generalElectionVote</h4>\"))\n",
    "print(dataW04['GEV'].value_counts())"
   ]
  },
  {
   "cell_type": "markdown",
   "metadata": {},
   "source": [
    "Повторим всё с 12 волной"
   ]
  },
  {
   "cell_type": "code",
   "execution_count": 14,
   "metadata": {},
   "outputs": [],
   "source": [
    "dataW12 = dataW12[~dataW12['partyId'].isin(filterWords)]\n",
    "dataW12 = dataW12[~dataW12['GEV'].isin(filterWords)].reset_index(drop = True)"
   ]
  },
  {
   "cell_type": "markdown",
   "metadata": {},
   "source": [
    "Глянем на 12 волну"
   ]
  },
  {
   "cell_type": "code",
   "execution_count": 15,
   "metadata": {},
   "outputs": [
    {
     "data": {
      "text/html": [
       "<h4>partyId</h4>"
      ],
      "text/plain": [
       "<IPython.core.display.HTML object>"
      ]
     },
     "metadata": {},
     "output_type": "display_data"
    },
    {
     "name": "stdout",
     "output_type": "stream",
     "text": [
      "Conservative                                9207\n",
      "Labour                                      8938\n",
      "Liberal Democrat                            2298\n",
      "United Kingdom Independence Party (UKIP)    1446\n",
      "Scottish National Party (SNP)               1121\n",
      "Green Party                                  914\n",
      "Other                                        288\n",
      "Plaid Cymru                                  156\n",
      "No - none                                      0\n",
      "Don't know                                     0\n",
      "Name: partyId, dtype: int64\n",
      "_________________________________________________\n"
     ]
    },
    {
     "data": {
      "text/html": [
       "<h4>generalElectionVote</h4>"
      ],
      "text/plain": [
       "<IPython.core.display.HTML object>"
      ]
     },
     "metadata": {},
     "output_type": "display_data"
    },
    {
     "name": "stdout",
     "output_type": "stream",
     "text": [
      "Conservative                                10445\n",
      "Labour                                       8423\n",
      "Liberal Democrat                             2359\n",
      "Scottish National Party (SNP)                1329\n",
      "United Kingdom Independence Party (UKIP)      934\n",
      "Green Party                                   514\n",
      "Other                                         192\n",
      "Plaid Cymru                                   172\n",
      "I would not vote                                0\n",
      "Don't know                                      0\n",
      "Name: GEV, dtype: int64\n"
     ]
    }
   ],
   "source": [
    "display(HTML(\"<h4>partyId</h4>\"))\n",
    "print(dataW12['partyId'].value_counts())\n",
    "print(\"_________________________________________________\")\n",
    "display(HTML(\"<h4>generalElectionVote</h4>\"))\n",
    "print(dataW12['GEV'].value_counts())"
   ]
  },
  {
   "cell_type": "markdown",
   "metadata": {},
   "source": [
    "<div align='center' style='font-weight: bold'>DV = (partyId != generalElectionVote)</div>"
   ]
  },
  {
   "cell_type": "code",
   "execution_count": 16,
   "metadata": {
    "code_folding": []
   },
   "outputs": [],
   "source": [
    "def make_DV_var(data, label = \"\"):\n",
    "    for row in tqdm(range(len(data)), desc = label):\n",
    "        if data.loc[row, 'partyId'] == data.loc[row, 'GEV']:\n",
    "            data.loc[row, 'DV_hasContradictions'] = False\n",
    "        else:\n",
    "            data.loc[row, 'DV_hasContradictions'] = True"
   ]
  },
  {
   "cell_type": "code",
   "execution_count": 17,
   "metadata": {},
   "outputs": [
    {
     "data": {
      "application/vnd.jupyter.widget-view+json": {
       "model_id": "42a4d28addfe4213999bf4f51e70a698",
       "version_major": 2,
       "version_minor": 0
      },
      "text/plain": [
       "Выборы 2015 года:   0%|          | 0/22802 [00:00<?, ?it/s]"
      ]
     },
     "metadata": {},
     "output_type": "display_data"
    },
    {
     "data": {
      "application/vnd.jupyter.widget-view+json": {
       "model_id": "6ba47dd0c54b4802846217cc4e280f54",
       "version_major": 2,
       "version_minor": 0
      },
      "text/plain": [
       "Выборы 2017 года:   0%|          | 0/24368 [00:00<?, ?it/s]"
      ]
     },
     "metadata": {},
     "output_type": "display_data"
    }
   ],
   "source": [
    "make_DV_var(dataW04, label=\"Выборы 2015 года\")\n",
    "make_DV_var(dataW12, label=\"Выборы 2017 года\")"
   ]
  },
  {
   "cell_type": "code",
   "execution_count": 18,
   "metadata": {},
   "outputs": [
    {
     "data": {
      "text/html": [
       "<h4>2015 год</h4>"
      ],
      "text/plain": [
       "<IPython.core.display.HTML object>"
      ]
     },
     "metadata": {},
     "output_type": "display_data"
    },
    {
     "name": "stdout",
     "output_type": "stream",
     "text": [
      "False    18223\n",
      "True      4579\n",
      "Name: DV_hasContradictions, dtype: int64\n"
     ]
    },
    {
     "data": {
      "text/html": [
       "<h4>2017 год</h4>"
      ],
      "text/plain": [
       "<IPython.core.display.HTML object>"
      ]
     },
     "metadata": {},
     "output_type": "display_data"
    },
    {
     "name": "stdout",
     "output_type": "stream",
     "text": [
      "False    19063\n",
      "True      5305\n",
      "Name: DV_hasContradictions, dtype: int64\n"
     ]
    }
   ],
   "source": [
    "display(HTML(\"<h4>2015 год</h4>\"))\n",
    "print(dataW04['DV_hasContradictions'].value_counts())\n",
    "display(HTML(\"<h4>2017 год</h4>\"))\n",
    "print(dataW12['DV_hasContradictions'].value_counts())"
   ]
  },
  {
   "cell_type": "markdown",
   "metadata": {},
   "source": [
    "Преобразуем True и False у DV в 1 и 0 (так нужно для построения модели)"
   ]
  },
  {
   "cell_type": "code",
   "execution_count": 19,
   "metadata": {},
   "outputs": [],
   "source": [
    "dataW04['DV_hasContradictions'] = dataW04['DV_hasContradictions']*1\n",
    "dataW12['DV_hasContradictions'] = dataW12['DV_hasContradictions']*1\n",
    "\n",
    "dataW04['DV_hasContradictions'] = dataW04['DV_hasContradictions'].astype(int)\n",
    "dataW12['DV_hasContradictions'] = dataW12['DV_hasContradictions'].astype(int)"
   ]
  },
  {
   "cell_type": "markdown",
   "metadata": {},
   "source": [
    "## Гипотеза 1: малая вера в успех партии"
   ]
  },
  {
   "cell_type": "markdown",
   "metadata": {},
   "source": [
    "Здесь будет проверяться гипотеза о том, что респонденты голосуют вопреки своим предпчотениям, потому что их истинные предпочтения - партии, которые имеют малый шанс на успех"
   ]
  },
  {
   "cell_type": "markdown",
   "metadata": {},
   "source": [
    "### Голос отдан за более крупную партию?"
   ]
  },
  {
   "cell_type": "markdown",
   "metadata": {},
   "source": [
    "Для начала стоит обозначить, какие партии мы будем считать мелкими, а какие крупными"
   ]
  },
  {
   "cell_type": "code",
   "execution_count": 20,
   "metadata": {},
   "outputs": [],
   "source": [
    "largeParties = ['Conservative', 'Labour', 'Liberal Democrat']\n",
    "smallParties = ['United Kingdom Independence Party (UKIP)', 'Scottish National Party (SNP)',\n",
    "                'Green Party', 'Plaid Cymru']\n",
    "ultraSmall = ['British National Party (BNP)', 'Other']"
   ]
  },
  {
   "cell_type": "markdown",
   "metadata": {},
   "source": [
    "Интересно было бы создать переменную sizeComparison c тремя уровнями:\n",
    "\n",
    "* larger (1) - истинные предпочтения - мелкая партия, а голосует избиратель за крупную\n",
    "* smaller (-1) - истинные предпочтения - партия, которая более крупная, чем за ту, что голосует\n",
    "* no difference (0) - нет разницы в размерах (но партии разные)\n",
    "* the same - партия и там, и там одинаковая"
   ]
  },
  {
   "cell_type": "code",
   "execution_count": 21,
   "metadata": {
    "code_folding": [
     0
    ]
   },
   "outputs": [],
   "source": [
    "def make_sizeComparison(data, labelBar = ''):\n",
    "    for row in tqdm(range(len(data)), desc=labelBar):\n",
    "        \n",
    "        #the same\n",
    "        if (data.loc[row, 'DV_hasContradictions'] == False):\n",
    "            data.loc[row, 'sizeComparison'] = 'the same'\n",
    "            data.loc[row, 'sizeComparisonD'] = 0\n",
    "        \n",
    "        #no difference    \n",
    "        elif (data.loc[row, 'GEV'] in largeParties) and (data.loc[row, 'partyId'] in largeParties):\n",
    "            data.loc[row, 'sizeComparison'] = 'no difference'\n",
    "            data.loc[row, 'sizeComparisonD'] = 0\n",
    "        elif (data.loc[row, 'GEV'] in smallParties) and (data.loc[row, 'partyId'] in smallParties):\n",
    "            data.loc[row, 'sizeComparison'] = 'no difference'\n",
    "            data.loc[row, 'sizeComparisonD'] = 0\n",
    "        elif (data.loc[row, 'GEV'] in ultraSmall) and (data.loc[row, 'partyId'] in ultraSmall):\n",
    "            data.loc[row, 'sizeComparison'] = 'no difference'\n",
    "            data.loc[row, 'sizeComparisonD'] = 0\n",
    "        \n",
    "        #larger\n",
    "        elif (data.loc[row, 'GEV'] in largeParties) and (data.loc[row, 'partyId'] not in largeParties):\n",
    "            data.loc[row, 'sizeComparison'] = 'larger'\n",
    "            data.loc[row, 'sizeComparisonD'] = 1\n",
    "        elif (data.loc[row, 'GEV'] in smallParties) and (data.loc[row, 'partyId'] in ultraSmall):\n",
    "            data.loc[row, 'sizeComparison'] = 'larger'\n",
    "            data.loc[row, 'sizeComparisonD'] = 1\n",
    "            \n",
    "        else:\n",
    "            data.loc[row, 'sizeComparison'] = 'smaller'\n",
    "            data.loc[row, 'sizeComparisonD'] = -1"
   ]
  },
  {
   "cell_type": "code",
   "execution_count": 22,
   "metadata": {},
   "outputs": [
    {
     "data": {
      "application/vnd.jupyter.widget-view+json": {
       "model_id": "deab878548ee413384bda863282d6ce3",
       "version_major": 2,
       "version_minor": 0
      },
      "text/plain": [
       "2015:   0%|          | 0/22802 [00:00<?, ?it/s]"
      ]
     },
     "metadata": {},
     "output_type": "display_data"
    },
    {
     "data": {
      "application/vnd.jupyter.widget-view+json": {
       "model_id": "b7cadacebf3d4bf58b64ec791343d142",
       "version_major": 2,
       "version_minor": 0
      },
      "text/plain": [
       "2017:   0%|          | 0/24368 [00:00<?, ?it/s]"
      ]
     },
     "metadata": {},
     "output_type": "display_data"
    }
   ],
   "source": [
    "make_sizeComparison(dataW04, labelBar = '2015')\n",
    "make_sizeComparison(dataW12, labelBar = '2017')"
   ]
  },
  {
   "cell_type": "code",
   "execution_count": 23,
   "metadata": {},
   "outputs": [
    {
     "data": {
      "text/html": [
       "<h4>2015 год</h4>"
      ],
      "text/plain": [
       "<IPython.core.display.HTML object>"
      ]
     },
     "metadata": {},
     "output_type": "display_data"
    },
    {
     "name": "stdout",
     "output_type": "stream",
     "text": [
      "the same         18223\n",
      "smaller           2553\n",
      "no difference     1408\n",
      "larger             618\n",
      "Name: sizeComparison, dtype: int64\n"
     ]
    },
    {
     "data": {
      "text/html": [
       "<h4>2017 год</h4>"
      ],
      "text/plain": [
       "<IPython.core.display.HTML object>"
      ]
     },
     "metadata": {},
     "output_type": "display_data"
    },
    {
     "name": "stdout",
     "output_type": "stream",
     "text": [
      "the same         19063\n",
      "no difference     2933\n",
      "larger            1589\n",
      "smaller            783\n",
      "Name: sizeComparison, dtype: int64\n"
     ]
    }
   ],
   "source": [
    "display(HTML(\"<h4>2015 год</h4>\"))\n",
    "print(dataW04['sizeComparison'].value_counts())\n",
    "display(HTML(\"<h4>2017 год</h4>\"))\n",
    "print(dataW12['sizeComparison'].value_counts())"
   ]
  },
  {
   "cell_type": "markdown",
   "metadata": {},
   "source": [
    "### Оценка респондента шансов на успех у партии"
   ]
  },
  {
   "cell_type": "markdown",
   "metadata": {},
   "source": [
    "Работаем с данными переменными:\n",
    "\n",
    "* winConstituencyPlacement - How likely is it that each of these parties will win the General Election in your local constituency? (0-Very unlikely to win; 100-Very likely to win)\n",
    "\n",
    "* noChanceCoalition - Which of these parties do you think has no real chanceof being part of the next UK government (either forming a government by itself or as part of a coalition)? Tick all that apply"
   ]
  },
  {
   "cell_type": "markdown",
   "metadata": {},
   "source": [
    "Создаются переменные partyIdSuccess, generalElectionVoteSuccess.<br>\n",
    "В них респондент говорит о том, верит ли он в то, что его партия (к которой себя относит и за которую голосуют) сможет выиграть или нет\n",
    "\n",
    "<br>\n",
    "\n",
    "Также создаё аналогичные переменные partyIdFailure и generalElectionVoteFailure.<br>\n",
    "Говорит о том, думает ли респондент о провале данных партий\n",
    "\n",
    "<br>\n",
    "\n",
    "Переменные, говорящие об успехи партии, измеряется по шкале от 0 до 100.\n",
    "\n",
    "Перемеменные, говорящие о провале, являются бинарными.\n"
   ]
  },
  {
   "cell_type": "code",
   "execution_count": 24,
   "metadata": {
    "code_folding": [
     0,
     4
    ]
   },
   "outputs": [],
   "source": [
    "party_abbr = {\"Conservative\" : \"Con\", \"Labour\": \"Lab\", \"Liberal Democrat\": \"LD\",\n",
    "                          \"Green Party\": \"Grn\", \"United Kingdom Independence Party (UKIP)\": \"UKIP\",\n",
    "                          \"Scottish National Party (SNP)\": \"SNP\", \"Plaid Cymru\": \"PC\"}\n",
    "\n",
    "def makeFailureSuccessVars(data, labelBar=''):\n",
    "    for row in tqdm(range(len(data)), desc = labelBar):\n",
    "        try:\n",
    "            if data.loc[row, \"partyId\"] in party_abbr:\n",
    "                data.loc[row, \"PIdSuccess\"] = data.loc[row,\"winConstituency\" + party_abbr[data.loc[row, \"partyId\"]]]\n",
    "                data.loc[row, \"PIdFailure\"] = data.loc[row,\"noChanceCoalition\" + party_abbr[data.loc[row, \"partyId\"]]]\n",
    "\n",
    "            if data.loc[row, \"GEV\"] in party_abbr:\n",
    "                data.loc[row, \"GEVSuccess\"] = data.loc[row,\"winConstituency\" + party_abbr[data.loc[row, \"GEV\"]]]\n",
    "                data.loc[row, \"GEVFailure\"] = data.loc[row,\"noChanceCoalition\" + party_abbr[data.loc[row, \"GEV\"]]]\n",
    "        except:\n",
    "            print(\"Возникли проблемы со строчкой № \", row)"
   ]
  },
  {
   "cell_type": "code",
   "execution_count": 25,
   "metadata": {},
   "outputs": [
    {
     "data": {
      "application/vnd.jupyter.widget-view+json": {
       "model_id": "4b557057d3a04b33ad4f4abdec652dff",
       "version_major": 2,
       "version_minor": 0
      },
      "text/plain": [
       "2015:   0%|          | 0/22802 [00:00<?, ?it/s]"
      ]
     },
     "metadata": {},
     "output_type": "display_data"
    },
    {
     "data": {
      "application/vnd.jupyter.widget-view+json": {
       "model_id": "b242d46f627c44d79c307a115b7f86ea",
       "version_major": 2,
       "version_minor": 0
      },
      "text/plain": [
       "2017:   0%|          | 0/24368 [00:00<?, ?it/s]"
      ]
     },
     "metadata": {},
     "output_type": "display_data"
    }
   ],
   "source": [
    "makeFailureSuccessVars(dataW04, labelBar=\"2015\")\n",
    "makeFailureSuccessVars(dataW12, labelBar=\"2017\")"
   ]
  },
  {
   "cell_type": "markdown",
   "metadata": {},
   "source": [
    "### Logit. Проверка $H_1$"
   ]
  },
  {
   "cell_type": "code",
   "execution_count": 26,
   "metadata": {},
   "outputs": [],
   "source": [
    "import statsmodels.api as sm\n",
    "import statsmodels.formula.api as smf"
   ]
  },
  {
   "cell_type": "markdown",
   "metadata": {},
   "source": [
    "* **Зависимая переменная**: DV_hasContradictions - голосует ли избиратель вопреки предпчотениям? (1 - да, 0 - нет)\n",
    "* **Независимые переменные**:\n",
    "    <hr>\n",
    "    \n",
    "    + partyIdSuccess - оценка шансов на успех партии, к которой избиратель близок идеологически (0 - низкие шансы, 100 - максимальные)\n",
    "    + generalElectionVoteSuccess - оценка шансов на успех партии,за которую избиратель голосует (аналогично, от 0 до 100)\n",
    "    <hr>\n",
    "    + partyIdFailure - есть ли шанс (по мнению избирателя) у партии (к которой он близок идеологически) шанса быть частью парламента Великобритании (бинарная переменная: 1 - да, 0 - нет)\n",
    "    \n",
    "    + generalElectionVoteFailure - есть ли шанс (по мнению избирателя) у партии (за которую он голосует) шанса быть частью парламента Великобритании (бинарная переменная: 1 - да, 0 - нет)"
   ]
  },
  {
   "cell_type": "markdown",
   "metadata": {},
   "source": [
    "#### 2017"
   ]
  },
  {
   "cell_type": "markdown",
   "metadata": {},
   "source": [
    "Без интеракции"
   ]
  },
  {
   "cell_type": "code",
   "execution_count": 27,
   "metadata": {},
   "outputs": [
    {
     "name": "stdout",
     "output_type": "stream",
     "text": [
      "Optimization terminated successfully.\n",
      "         Current function value: 0.397737\n",
      "         Iterations 6\n",
      "                           Results: Logit\n",
      "=====================================================================\n",
      "Model:              Logit                Pseudo R-squared: 0.222     \n",
      "Dependent Variable: DV_hasContradictions AIC:              17765.7801\n",
      "Date:               2021-12-05 15:21     BIC:              17805.8465\n",
      "No. Observations:   22321                Log-Likelihood:   -8877.9   \n",
      "Df Model:           4                    LL-Null:          -11410.   \n",
      "Df Residuals:       22316                LLR p-value:      0.0000    \n",
      "Converged:          1.0000               Scale:            1.0000    \n",
      "No. Iterations:     6.0000                                           \n",
      "-----------------------------------------------------------------------\n",
      "              Coef.    Std.Err.      z       P>|z|     [0.025    0.975]\n",
      "-----------------------------------------------------------------------\n",
      "Intercept    -0.7558     0.0455   -16.6167   0.0000   -0.8449   -0.6666\n",
      "PIdSuccess   -0.0437     0.0010   -45.9648   0.0000   -0.0456   -0.0419\n",
      "GEVSuccess    0.0250     0.0010    25.3738   0.0000    0.0231    0.0269\n",
      "PIdFailure    1.4142     0.0703    20.1075   0.0000    1.2763    1.5520\n",
      "GEVFailure   -0.7756     0.0781    -9.9260   0.0000   -0.9287   -0.6224\n",
      "=====================================================================\n",
      "\n"
     ]
    }
   ],
   "source": [
    "formulaH1_NoInter = \"DV_hasContradictions ~ PIdSuccess + GEVSuccess + PIdFailure + GEVFailure\"\n",
    "logit2017H1_NoInter = smf.logit(formula=formulaH1_NoInter, data = dataW12).fit()\n",
    "print(logit2017H1_NoInter.summary2())"
   ]
  },
  {
   "cell_type": "markdown",
   "metadata": {},
   "source": [
    "Теперь всё те же переменные, но добавляется интеракция между переменными partyIdSuccess и generalElectionVoteSuccess"
   ]
  },
  {
   "cell_type": "code",
   "execution_count": 28,
   "metadata": {},
   "outputs": [
    {
     "name": "stdout",
     "output_type": "stream",
     "text": [
      "Optimization terminated successfully.\n",
      "         Current function value: 0.300780\n",
      "         Iterations 8\n",
      "                            Results: Logit\n",
      "======================================================================\n",
      "Model:               Logit                Pseudo R-squared: 0.412     \n",
      "Dependent Variable:  DV_hasContradictions AIC:              13439.3995\n",
      "Date:                2021-12-05 15:21     BIC:              13487.4792\n",
      "No. Observations:    22321                Log-Likelihood:   -6713.7   \n",
      "Df Model:            5                    LL-Null:          -11410.   \n",
      "Df Residuals:        22315                LLR p-value:      0.0000    \n",
      "Converged:           1.0000               Scale:            1.0000    \n",
      "No. Iterations:      8.0000                                           \n",
      "----------------------------------------------------------------------\n",
      "                       Coef.  Std.Err.    z     P>|z|   [0.025  0.975]\n",
      "----------------------------------------------------------------------\n",
      "Intercept             -4.0505   0.0981 -41.2804 0.0000 -4.2428 -3.8581\n",
      "PIdSuccess             0.0593   0.0020  29.5389 0.0000  0.0554  0.0632\n",
      "GEVSuccess             0.0955   0.0021  45.1566 0.0000  0.0914  0.0997\n",
      "PIdSuccess:GEVSuccess -0.0018   0.0000 -50.5261 0.0000 -0.0019 -0.0017\n",
      "PIdFailure             1.5099   0.0784  19.2581 0.0000  1.3562  1.6635\n",
      "GEVFailure            -0.4933   0.0838  -5.8847 0.0000 -0.6576 -0.3290\n",
      "======================================================================\n",
      "\n"
     ]
    }
   ],
   "source": [
    "formulaH1_Inter = \"DV_hasContradictions ~ PIdSuccess * GEVSuccess + PIdFailure + GEVFailure\"\n",
    "logit2017H1_Inter = smf.logit(formula=formulaH1_Inter, data = dataW12).fit()\n",
    "print(logit2017H1_Inter.summary2())"
   ]
  },
  {
   "cell_type": "code",
   "execution_count": 29,
   "metadata": {},
   "outputs": [
    {
     "name": "stdout",
     "output_type": "stream",
     "text": [
      "         Logit Marginal Effects        \n",
      "=======================================\n",
      "Dep. Variable:     DV_hasContradictions\n",
      "Method:                            dydx\n",
      "At:                             overall\n",
      "=========================================================================================\n",
      "                           dy/dx    std err          z      P>|z|      [0.025      0.975]\n",
      "-----------------------------------------------------------------------------------------\n",
      "PIdSuccess                0.0056      0.000     31.410      0.000       0.005       0.006\n",
      "GEVSuccess                0.0089      0.000     54.448      0.000       0.009       0.009\n",
      "PIdSuccess:GEVSuccess    -0.0002   2.71e-06    -62.775      0.000      -0.000      -0.000\n",
      "PIdFailure                0.1414      0.007     20.022      0.000       0.128       0.155\n",
      "GEVFailure               -0.0462      0.008     -5.902      0.000      -0.062      -0.031\n",
      "=========================================================================================\n"
     ]
    }
   ],
   "source": [
    "#logit marginal effects\n",
    "LME2017H1 = logit2017H1_Inter.get_margeff()\n",
    "print(LME2017H1.summary())"
   ]
  },
  {
   "cell_type": "markdown",
   "metadata": {},
   "source": [
    "Дальше эта картинка вместо 1000 слов"
   ]
  },
  {
   "cell_type": "markdown",
   "metadata": {},
   "source": [
    "![](data:image/png;base64,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)"
   ]
  },
  {
   "cell_type": "markdown",
   "metadata": {},
   "source": [
    "Для интрепретации посчитаем предельные эффекты"
   ]
  },
  {
   "cell_type": "markdown",
   "metadata": {},
   "source": [
    "Теперь коэффициенты говорят о том, на сколько (в среднем) увеличивается вероятность успеха при увеличении на единицу независимой переменной"
   ]
  },
  {
   "cell_type": "markdown",
   "metadata": {},
   "source": [
    "<section style=''>\n",
    "Подсчитаем пороговое значение, при котором увеличение partyIdSuccess не увеличивает вероятность<br>\n",
    "<div align = 'center'>\n",
    "partyIdSuccess = $\\beta_1$ + $\\beta_3$ * generalElectionVoteSuccess\n",
    "</div>\n",
    "<div align = 'center'>\n",
    "partyIdSuccess = 0.0056 + (-0.0002) * generalElectionVoteSuccess\n",
    "</div>\n",
    "<div align = 'center'>\n",
    "0 = 0.0056 + (-0.0002) * generalElectionVoteSuccess\n",
    "</div>\n",
    "<div align = 'center', style='margin: 20px'>\n",
    "generalElectionVoteSuccess = $\\frac{0.005550522018638351}{0.00017029773201904033}$\n",
    "</div>\n",
    "<div align = 'center'>\n",
    "generalElectionVoteSuccess $\\approx$ 33 \n",
    "</div>\n",
    "</section>"
   ]
  },
  {
   "cell_type": "code",
   "execution_count": 30,
   "metadata": {},
   "outputs": [
    {
     "data": {
      "text/plain": [
       "32.593047205219165"
      ]
     },
     "execution_count": 30,
     "metadata": {},
     "output_type": "execute_result"
    }
   ],
   "source": [
    "- LME2017H1.margeff[0]/LME2017H1.margeff[2]"
   ]
  },
  {
   "cell_type": "markdown",
   "metadata": {},
   "source": [
    "При generalElectionVoteSuccess = 32.6 => увеличение partyIdSuccess не изменяет вероятность.\n",
    "\n",
    "При generalElectionVoteSuccess < 32.6 => увеличение partyIdSuccess увеличивает вероятность.\n",
    "\n",
    "При generalElectionVoteSuccess > 32.6 => увеличение partyIdSuccess уменьшает вероятность."
   ]
  },
  {
   "cell_type": "markdown",
   "metadata": {},
   "source": [
    "#### 2015"
   ]
  },
  {
   "cell_type": "markdown",
   "metadata": {},
   "source": [
    "Без интеракции"
   ]
  },
  {
   "cell_type": "code",
   "execution_count": 31,
   "metadata": {},
   "outputs": [
    {
     "name": "stdout",
     "output_type": "stream",
     "text": [
      "Optimization terminated successfully.\n",
      "         Current function value: 0.459039\n",
      "         Iterations 6\n",
      "                            Results: Logit\n",
      "======================================================================\n",
      "Model:              Logit                Pseudo R-squared: 0.054      \n",
      "Dependent Variable: DV_hasContradictions AIC:              19263.9314 \n",
      "Date:               2021-12-05 15:21     BIC:              19303.6861 \n",
      "No. Observations:   20972                Log-Likelihood:   -9627.0    \n",
      "Df Model:           4                    LL-Null:          -10171.    \n",
      "Df Residuals:       20967                LLR p-value:      1.9913e-234\n",
      "Converged:          1.0000               Scale:            1.0000     \n",
      "No. Iterations:     6.0000                                            \n",
      "------------------------------------------------------------------------\n",
      "               Coef.    Std.Err.      z       P>|z|     [0.025    0.975]\n",
      "------------------------------------------------------------------------\n",
      "Intercept     -0.6606     0.0394   -16.7754   0.0000   -0.7378   -0.5834\n",
      "PIdSuccess    -0.0234     0.0010   -24.1241   0.0000   -0.0253   -0.0215\n",
      "GEVSuccess     0.0075     0.0010     7.4615   0.0000    0.0055    0.0094\n",
      "PIdFailure    -0.4882     0.1015    -4.8084   0.0000   -0.6872   -0.2892\n",
      "GEVFailure     1.0356     0.0968    10.6977   0.0000    0.8459    1.2253\n",
      "======================================================================\n",
      "\n"
     ]
    }
   ],
   "source": [
    "logit2015H1_NoInter = smf.logit(formula=formulaH1_NoInter, data = dataW04).fit()\n",
    "print(logit2015H1_NoInter.summary2())"
   ]
  },
  {
   "cell_type": "markdown",
   "metadata": {},
   "source": [
    "with interaction"
   ]
  },
  {
   "cell_type": "code",
   "execution_count": 32,
   "metadata": {},
   "outputs": [
    {
     "name": "stdout",
     "output_type": "stream",
     "text": [
      "Optimization terminated successfully.\n",
      "         Current function value: 0.367348\n",
      "         Iterations 7\n",
      "                            Results: Logit\n",
      "======================================================================\n",
      "Model:               Logit                Pseudo R-squared: 0.243     \n",
      "Dependent Variable:  DV_hasContradictions AIC:              15420.0510\n",
      "Date:                2021-12-05 15:21     BIC:              15467.7566\n",
      "No. Observations:    20972                Log-Likelihood:   -7704.0   \n",
      "Df Model:            5                    LL-Null:          -10171.   \n",
      "Df Residuals:        20966                LLR p-value:      0.0000    \n",
      "Converged:           1.0000               Scale:            1.0000    \n",
      "No. Iterations:      7.0000                                           \n",
      "----------------------------------------------------------------------\n",
      "                       Coef.  Std.Err.    z     P>|z|   [0.025  0.975]\n",
      "----------------------------------------------------------------------\n",
      "Intercept             -3.6482   0.0907 -40.2325 0.0000 -3.8259 -3.4704\n",
      "PIdSuccess             0.0633   0.0020  31.5732 0.0000  0.0593  0.0672\n",
      "GEVSuccess             0.0768   0.0020  38.7234 0.0000  0.0729  0.0806\n",
      "PIdSuccess:GEVSuccess -0.0016   0.0000 -47.2742 0.0000 -0.0017 -0.0016\n",
      "PIdFailure            -0.4083   0.1073  -3.8052 0.0001 -0.6185 -0.1980\n",
      "GEVFailure             1.0468   0.1038  10.0872 0.0000  0.8434  1.2502\n",
      "======================================================================\n",
      "\n"
     ]
    }
   ],
   "source": [
    "logit2015H1_Inter = smf.logit(formula=formulaH1_Inter, data = dataW04.rename(columns = {\"generalElectionVoteSuccess\": \"GEVSuccess\", \"generalElectionVoteFailure\": \"GEVFailure\"}, inplace=False)).fit()\n",
    "print(logit2015H1_Inter.summary2())"
   ]
  },
  {
   "cell_type": "markdown",
   "metadata": {},
   "source": [
    "Предельные эффекты"
   ]
  },
  {
   "cell_type": "code",
   "execution_count": 33,
   "metadata": {},
   "outputs": [
    {
     "name": "stdout",
     "output_type": "stream",
     "text": [
      "         Logit Marginal Effects        \n",
      "=======================================\n",
      "Dep. Variable:     DV_hasContradictions\n",
      "Method:                            dydx\n",
      "At:                             overall\n",
      "=========================================================================================\n",
      "                           dy/dx    std err          z      P>|z|      [0.025      0.975]\n",
      "-----------------------------------------------------------------------------------------\n",
      "PIdSuccess                0.0074      0.000     33.780      0.000       0.007       0.008\n",
      "GEVSuccess                0.0089      0.000     43.783      0.000       0.009       0.009\n",
      "PIdSuccess:GEVSuccess    -0.0002   3.38e-06    -56.404      0.000      -0.000      -0.000\n",
      "PIdFailure               -0.0476      0.012     -3.810      0.000      -0.072      -0.023\n",
      "GEVFailure                0.1219      0.012     10.191      0.000       0.098       0.145\n",
      "=========================================================================================\n"
     ]
    }
   ],
   "source": [
    "LME2015H1 = logit2015H1_Inter.get_margeff()\n",
    "print(LME2015H1.summary())"
   ]
  },
  {
   "cell_type": "code",
   "execution_count": 34,
   "metadata": {},
   "outputs": [
    {
     "data": {
      "text/plain": [
       "38.615308693491784"
      ]
     },
     "execution_count": 34,
     "metadata": {},
     "output_type": "execute_result"
    }
   ],
   "source": [
    "- LME2015H1.margeff[0]/LME2015H1.margeff[2]"
   ]
  },
  {
   "cell_type": "markdown",
   "metadata": {},
   "source": [
    "По 15 году объяснительная сила моделей слабее почти в 2 раза"
   ]
  },
  {
   "cell_type": "markdown",
   "metadata": {},
   "source": [
    "#### Результаты"
   ]
  },
  {
   "cell_type": "markdown",
   "metadata": {},
   "source": [
    "$H_1$ подтвердилась.\n",
    "Это было показано при помощи логистической регрессии.\n",
    "\n",
    "Появились намёки на вторую гипотезу."
   ]
  },
  {
   "cell_type": "markdown",
   "metadata": {},
   "source": [
    "## Гипотеза 2: signal voting"
   ]
  },
  {
   "cell_type": "markdown",
   "metadata": {},
   "source": [
    "Во время подтверждения гипотезы №1, было выявленно, что существует группа людей, которые имеют партийную принадлежность, голосуют за другую партию, хотя даже мало верят в её успех (думают, что её шансы меньше $\\frac{1}{3}$).\n",
    "\n",
    "Это может выглядеть странным на первый взгляд, но вовзращаюясь к теоретической рамке исследования и гипотезам - это подозрение на $H_2$"
   ]
  },
  {
   "cell_type": "markdown",
   "metadata": {},
   "source": [
    "Отсечём эту категорию населения и изучим поподробнее"
   ]
  },
  {
   "cell_type": "markdown",
   "metadata": {},
   "source": [
    "### 2017"
   ]
  },
  {
   "cell_type": "code",
   "execution_count": 35,
   "metadata": {},
   "outputs": [],
   "source": [
    "signalVotingW12 = dataW12[['partyId', 'GEV','bestOnMII', 'small_mii_cat',\n",
    "                           'PIdSuccess', 'GEVSuccess']]"
   ]
  },
  {
   "cell_type": "markdown",
   "metadata": {},
   "source": [
    "Отсекаем ситуацию, когда в победу своей партии избиратель верит больше, чем за которую голосует"
   ]
  },
  {
   "cell_type": "code",
   "execution_count": 36,
   "metadata": {},
   "outputs": [],
   "source": [
    "signalVotingW12 = signalVotingW12[signalVotingW12['PIdSuccess'] > signalVotingW12['GEVSuccess']]\n",
    "signalVotingW12 = signalVotingW12.reset_index(drop = True)"
   ]
  },
  {
   "cell_type": "markdown",
   "metadata": {},
   "source": [
    "Считаем самые крупные вариации комбинаций partyId и generalElectionVote в полученной subsample"
   ]
  },
  {
   "cell_type": "code",
   "execution_count": 37,
   "metadata": {},
   "outputs": [
    {
     "data": {
      "application/vnd.jupyter.widget-view+json": {
       "model_id": "ff54b225af874ef386e08aecaa375e6e",
       "version_major": 2,
       "version_minor": 0
      },
      "text/plain": [
       "  0%|          | 0/1284 [00:00<?, ?it/s]"
      ]
     },
     "metadata": {},
     "output_type": "display_data"
    },
    {
     "data": {
      "text/plain": [
       "1284"
      ]
     },
     "execution_count": 37,
     "metadata": {},
     "output_type": "execute_result"
    }
   ],
   "source": [
    "def create_PIDvsGEV(data, sep='vs', labelBar=''):\n",
    "    data = data.reset_index(drop=True)\n",
    "    for row in tqdm(range(len(data)), desc = labelBar):\n",
    "        data.loc[row, 'PIDvsGEV'] = data.loc[row, 'partyId'] + ' ' + sep + ' ' + data.loc[row, 'GEV']\n",
    "    return data\n",
    "\n",
    "signalVotingW12 = create_PIDvsGEV(signalVotingW12)\n",
    "len(signalVotingW12)"
   ]
  },
  {
   "cell_type": "markdown",
   "metadata": {},
   "source": [
    "Оставляем самые крупные кейсы и самые крупные категории (выводить на график категории со значениями близкими к нулю нет смысла"
   ]
  },
  {
   "cell_type": "code",
   "execution_count": 38,
   "metadata": {},
   "outputs": [
    {
     "name": "stdout",
     "output_type": "stream",
     "text": [
      "Labour vs Liberal Democrat                                  0.180685\n",
      "Labour vs Conservative                                      0.163551\n",
      "Conservative vs Liberal Democrat                            0.148754\n",
      "Conservative vs Labour                                      0.098131\n",
      "Conservative vs United Kingdom Independence Party (UKIP)    0.086449\n",
      "Labour vs United Kingdom Independence Party (UKIP)          0.062305\n",
      "Labour vs Green Party                                       0.052181\n",
      "Name: PIDvsGEV, dtype: float64\n"
     ]
    }
   ],
   "source": [
    "print(signalVotingW12.PIDvsGEV.value_counts()[:7] / len(signalVotingW12))\n",
    "largestCasesSV12 = list(signalVotingW12.PIDvsGEV.value_counts()[:7].index)\n",
    "largestMMI = ['Health', 'Terrorism', 'Economy', 'Immigration', 'Europe']"
   ]
  },
  {
   "cell_type": "markdown",
   "metadata": {},
   "source": [
    "Считаем процент каждой категории MMI в каждой паре партий (Идеологически близка vs голосую)"
   ]
  },
  {
   "cell_type": "code",
   "execution_count": 39,
   "metadata": {
    "code_folding": [
     0
    ]
   },
   "outputs": [],
   "source": [
    "def groupbySV_partyMII(data):\n",
    "    data = data[['partyId', 'GEV', 'small_mii_cat']]\n",
    "    aggregation = {\n",
    "        'small_mii_cat': 'count'\n",
    "    }\n",
    "\n",
    "    def percentageCategory(x):\n",
    "        x['miiPercentage'] = x['freq'] / x['freq'].sum()\n",
    "        return x\n",
    "\n",
    "    data = data.groupby(['partyId', 'GEV', 'small_mii_cat']).agg(aggregation).rename(columns = {'small_mii_cat': 'freq'})\n",
    "    return data.groupby(['partyId', 'GEV']).apply(percentageCategory).reset_index()"
   ]
  },
  {
   "cell_type": "code",
   "execution_count": 40,
   "metadata": {},
   "outputs": [
    {
     "data": {
      "application/vnd.jupyter.widget-view+json": {
       "model_id": "b71820406e7845f2aeced564604176b7",
       "version_major": 2,
       "version_minor": 0
      },
      "text/plain": [
       "  0%|          | 0/1200 [00:00<?, ?it/s]"
      ]
     },
     "metadata": {},
     "output_type": "display_data"
    }
   ],
   "source": [
    "SV12groupby = groupbySV_partyMII(signalVotingW12)\n",
    "\n",
    "SV12groupby = create_PIDvsGEV(SV12groupby)\n",
    "SV12groupby = SV12groupby[(SV12groupby['PIDvsGEV'].isin(largestCasesSV12)) & (SV12groupby['small_mii_cat'].isin(largestMMI))]"
   ]
  },
  {
   "cell_type": "markdown",
   "metadata": {},
   "source": [
    "Сокращаем длинные названия партия до аббревиатур для графика"
   ]
  },
  {
   "cell_type": "code",
   "execution_count": 41,
   "metadata": {
    "code_folding": [
     0
    ]
   },
   "outputs": [
    {
     "data": {
      "application/vnd.jupyter.widget-view+json": {
       "model_id": "5fe244c39d9f45b8b157ae3f996117dd",
       "version_major": 2,
       "version_minor": 0
      },
      "text/plain": [
       "  0%|          | 0/35 [00:00<?, ?it/s]"
      ]
     },
     "metadata": {},
     "output_type": "display_data"
    }
   ],
   "source": [
    "party_abbr = {\"Conservative\" : \"Con\", \"Labour\": \"Lab\", \"Liberal Democrat\": \"LD\",\n",
    "                          \"Green Party\": \"Grn\", \"United Kingdom Independence Party (UKIP)\": \"UKIP\",\n",
    "                          \"Scottish National Party (SNP)\": \"SNP\", \"Plaid Cymru\": \"PC\"}\n",
    "SV12groupby = SV12groupby.replace(party_abbr)\n",
    "SV12groupby = create_PIDvsGEV(SV12groupby, sep='>>>')\n",
    "\n",
    "SV12groupby['small_mii_cat'] = SV12groupby['small_mii_cat'].astype('str')"
   ]
  },
  {
   "cell_type": "markdown",
   "metadata": {},
   "source": [
    "#### bar"
   ]
  },
  {
   "cell_type": "code",
   "execution_count": 42,
   "metadata": {},
   "outputs": [
    {
     "data": {
      "image/png": "[encoded data removed]",
      "text/plain": [
       "<Figure size 1152x576 with 1 Axes>"
      ]
     },
     "metadata": {
      "needs_background": "light"
     },
     "output_type": "display_data"
    }
   ],
   "source": [
    "import seaborn as sns\n",
    "colors = [\"gold\", \"red\", \"royalblue\", \"faded green\", \"dusty purple\"]\n",
    "def SVbarplot(df, listOrder = None):\n",
    "    fig, ax = plt.subplots()\n",
    "    fig.set_size_inches(16,8)\n",
    "    sns.barplot(x = 'PIDvsGEV', y='miiPercentage', data=df, hue='small_mii_cat', ax=ax,\n",
    "                order=listOrder, palette = sns.color_palette(\"Set1\", 5))\n",
    "    ax.legend(fontsize = 'x-large')\n",
    "    ax.set(xlabel='Идеологически близкая партия >>> Партия, за которую голосую', ylabel='%')\n",
    "\n",
    "SVbarplot(SV12groupby, listOrder = ['Con >>> LD', 'Lab >>> LD', 'Con >>> UKIP', 'Lab >>> UKIP',\n",
    "                       'Lab >>> Grn', 'Lab >>> Con', 'Con >>> Lab'])\n",
    "plt.savefig('sv2017.png', dpi=300, transparent=True, bbox_inches='tight', pad_inches=0.1);"
   ]
  },
  {
   "cell_type": "markdown",
   "metadata": {},
   "source": [
    "<hr>"
   ]
  },
  {
   "cell_type": "markdown",
   "metadata": {},
   "source": [
    "### 2015"
   ]
  },
  {
   "cell_type": "code",
   "execution_count": 43,
   "metadata": {},
   "outputs": [
    {
     "data": {
      "application/vnd.jupyter.widget-view+json": {
       "model_id": "a76ef3d328c24975ae360c7e74afe253",
       "version_major": 2,
       "version_minor": 0
      },
      "text/plain": [
       "  0%|          | 0/1784 [00:00<?, ?it/s]"
      ]
     },
     "metadata": {},
     "output_type": "display_data"
    },
    {
     "data": {
      "text/plain": [
       "1784"
      ]
     },
     "execution_count": 43,
     "metadata": {},
     "output_type": "execute_result"
    }
   ],
   "source": [
    "signalVotingW04 = dataW04[['partyId', 'GEV','bestOnMII', 'small_mii_cat',\n",
    "                           'PIdSuccess', 'GEVSuccess']]\n",
    "\n",
    "signalVotingW04 = signalVotingW04[signalVotingW04['PIdSuccess'] > signalVotingW04['GEVSuccess']]\n",
    "signalVotingW04 = create_PIDvsGEV(signalVotingW04)\n",
    "len(signalVotingW04)"
   ]
  },
  {
   "cell_type": "code",
   "execution_count": 44,
   "metadata": {},
   "outputs": [
    {
     "name": "stdout",
     "output_type": "stream",
     "text": [
      "Conservative vs United Kingdom Independence Party (UKIP)    0.341928\n",
      "Labour vs United Kingdom Independence Party (UKIP)          0.173767\n",
      "Labour vs Green Party                                       0.113229\n",
      "Labour vs Conservative                                      0.063901\n",
      "Liberal Democrat vs Green Party                             0.040919\n",
      "Name: PIDvsGEV, dtype: float64\n"
     ]
    }
   ],
   "source": [
    "print((signalVotingW04.PIDvsGEV.value_counts()/ len(signalVotingW04))[0:5])\n",
    "largestCasesSV04 = list(signalVotingW04.PIDvsGEV.value_counts()[:5].index)\n",
    "largestMMI04 = ['Health', 'Terrorism', 'Economy', 'Immigration', 'Inequality']"
   ]
  },
  {
   "cell_type": "code",
   "execution_count": 45,
   "metadata": {},
   "outputs": [
    {
     "data": {
      "application/vnd.jupyter.widget-view+json": {
       "model_id": "f3e2cafd64b340119a41363d875acc82",
       "version_major": 2,
       "version_minor": 0
      },
      "text/plain": [
       "  0%|          | 0/1452 [00:00<?, ?it/s]"
      ]
     },
     "metadata": {},
     "output_type": "display_data"
    },
    {
     "data": {
      "application/vnd.jupyter.widget-view+json": {
       "model_id": "bc1198af24c34d22a8559f2e62b2e58a",
       "version_major": 2,
       "version_minor": 0
      },
      "text/plain": [
       "  0%|          | 0/25 [00:00<?, ?it/s]"
      ]
     },
     "metadata": {},
     "output_type": "display_data"
    }
   ],
   "source": [
    "SV04groupby = groupbySV_partyMII(signalVotingW04)\n",
    "SV04groupby = create_PIDvsGEV(SV04groupby)\n",
    "SV04groupby = SV04groupby[(SV04groupby['PIDvsGEV'].isin(largestCasesSV04)) & (SV04groupby['small_mii_cat'].isin(largestMMI04))]\n",
    "\n",
    "SV04groupby = SV04groupby.replace(party_abbr)\n",
    "\n",
    "SV04groupby = create_PIDvsGEV(SV04groupby, sep='>>>')\n",
    "\n",
    "SV04groupby['small_mii_cat'] = SV04groupby['small_mii_cat'].astype('str')"
   ]
  },
  {
   "cell_type": "markdown",
   "metadata": {},
   "source": [
    "#### bar"
   ]
  },
  {
   "cell_type": "code",
   "execution_count": 46,
   "metadata": {},
   "outputs": [
    {
     "data": {
      "image/png": "[encoded data removed]",
      "text/plain": [
       "<Figure size 1152x576 with 1 Axes>"
      ]
     },
     "metadata": {
      "needs_background": "light"
     },
     "output_type": "display_data"
    }
   ],
   "source": [
    "SVbarplot(SV04groupby, listOrder=['Con >>> UKIP','Lab >>> UKIP',\n",
    "                                  'Lab >>> Grn', 'LD >>> Grn', 'Lab >>> Con'])\n",
    "plt.savefig('sv2015.png', dpi=300, transparent=True, bbox_inches='tight', pad_inches=0.1);"
   ]
  },
  {
   "cell_type": "markdown",
   "metadata": {},
   "source": [
    "## Гипотеза 3: экономическое голосование"
   ]
  },
  {
   "cell_type": "markdown",
   "metadata": {},
   "source": [
    "* changeEconomy - Do you think that Economy is getting better, getting worse or staying about the same?"
   ]
  },
  {
   "cell_type": "markdown",
   "metadata": {},
   "source": [
    "### 2017"
   ]
  },
  {
   "cell_type": "markdown",
   "metadata": {},
   "source": [
    "* isPartyIdCon - является ли партия, которая близка идеологически избирателю, партией Консерваторов"
   ]
  },
  {
   "cell_type": "code",
   "execution_count": 47,
   "metadata": {
    "code_folding": [
     0
    ]
   },
   "outputs": [],
   "source": [
    "def create_isConservative(data):\n",
    "    for row in tqdm(range(len(data))):\n",
    "        if data.loc[row, \"partyId\"] == 'Conservative':\n",
    "            data.loc[row, 'isPIdCon'] = 1\n",
    "        else:\n",
    "            data.loc[row, 'isPIdCon'] = 0\n",
    "    return data"
   ]
  },
  {
   "cell_type": "code",
   "execution_count": 48,
   "metadata": {},
   "outputs": [
    {
     "data": {
      "application/vnd.jupyter.widget-view+json": {
       "model_id": "290ae1c8602f423daf5438463fb7fed0",
       "version_major": 2,
       "version_minor": 0
      },
      "text/plain": [
       "  0%|          | 0/24368 [00:00<?, ?it/s]"
      ]
     },
     "metadata": {},
     "output_type": "display_data"
    }
   ],
   "source": [
    "dataW12 = create_isConservative(dataW12)"
   ]
  },
  {
   "cell_type": "code",
   "execution_count": 49,
   "metadata": {},
   "outputs": [],
   "source": [
    "economicVoting12 = dataW12[['partyId', 'GEV', 'DV_hasContradictions',\n",
    "                            'PIdSuccess', 'GEVSuccess',\n",
    "                            'PIdFailure', 'GEVFailure',\n",
    "                            'changeEconomy', 'econPersonal', 'econGen', 'isPIdCon']]"
   ]
  },
  {
   "cell_type": "code",
   "execution_count": 50,
   "metadata": {},
   "outputs": [
    {
     "name": "stdout",
     "output_type": "stream",
     "text": [
      "Optimization terminated successfully.\n",
      "         Current function value: 0.465028\n",
      "         Iterations 7\n",
      "                                 Results: Logit\n",
      "=================================================================================\n",
      "Model:                  Logit                    Pseudo R-squared:     0.115     \n",
      "Dependent Variable:     DV_hasContradictions     AIC:                  22156.3667\n",
      "Date:                   2021-12-05 15:21         BIC:                  22188.6789\n",
      "No. Observations:       23814                    Log-Likelihood:       -11074.   \n",
      "Df Model:               3                        LL-Null:              -12512.   \n",
      "Df Residuals:           23810                    LLR p-value:          0.0000    \n",
      "Converged:              1.0000                   Scale:                1.0000    \n",
      "No. Iterations:         7.0000                                                   \n",
      "---------------------------------------------------------------------------------\n",
      "                                  Coef.  Std.Err.    z     P>|z|   [0.025  0.975]\n",
      "---------------------------------------------------------------------------------\n",
      "Intercept                        -0.4408   0.0229 -19.2583 0.0000 -0.4857 -0.3959\n",
      "C(isPIdCon)[T.1.0]               -2.0504   0.0480 -42.7245 0.0000 -2.1445 -1.9564\n",
      "changeEconomy                     0.5045   0.0194  25.9724 0.0000  0.4664  0.5426\n",
      "C(isPIdCon)[T.1.0]:changeEconomy -1.3007   0.0472 -27.5512 0.0000 -1.3933 -1.2082\n",
      "=================================================================================\n",
      "\n"
     ]
    }
   ],
   "source": [
    "logit2017EV = smf.logit(formula='DV_hasContradictions ~ C(isPIdCon)*changeEconomy', data = economicVoting12).fit()\n",
    "print(logit2017EV.summary2())"
   ]
  },
  {
   "cell_type": "markdown",
   "metadata": {},
   "source": [
    "Посмотрим на людей, которые удовлетворены текущим состоянием экономики (но ассоциируют себя не с Консерваторами). А точнее только тех, кто головал вопреки предпочтения."
   ]
  },
  {
   "cell_type": "code",
   "execution_count": 51,
   "metadata": {},
   "outputs": [
    {
     "data": {
      "text/plain": [
       "Conservative                                81.951872\n",
       "Labour                                       7.085561\n",
       "Liberal Democrat                             4.545455\n",
       "United Kingdom Independence Party (UKIP)     2.941176\n",
       "Other                                        1.203209\n",
       "Scottish National Party (SNP)                1.069519\n",
       "Green Party                                  0.935829\n",
       "Plaid Cymru                                  0.267380\n",
       "I would not vote                             0.000000\n",
       "Don't know                                   0.000000\n",
       "Name: GEV, dtype: float64"
      ]
     },
     "execution_count": 51,
     "metadata": {},
     "output_type": "execute_result"
    }
   ],
   "source": [
    "evNotConPOS = economicVoting12[(economicVoting12['DV_hasContradictions'] == 1) & (economicVoting12['partyId'] != 'Conservative') & (economicVoting12['changeEconomy'] > 0)]\n",
    "(evNotConPOS['GEV'].value_counts() / len(evNotConPOS)) * 100"
   ]
  },
  {
   "cell_type": "code",
   "execution_count": 52,
   "metadata": {},
   "outputs": [
    {
     "data": {
      "text/plain": [
       "Conservative                                96.8750\n",
       "Labour                                       1.5625\n",
       "United Kingdom Independence Party (UKIP)     1.5625\n",
       "I would not vote                             0.0000\n",
       "Liberal Democrat                             0.0000\n",
       "Scottish National Party (SNP)                0.0000\n",
       "Plaid Cymru                                  0.0000\n",
       "Green Party                                  0.0000\n",
       "Other                                        0.0000\n",
       "Don't know                                   0.0000\n",
       "Name: GEV, dtype: float64"
      ]
     },
     "execution_count": 52,
     "metadata": {},
     "output_type": "execute_result"
    }
   ],
   "source": [
    "evNotConOnly2 = economicVoting12[(economicVoting12['DV_hasContradictions'] == 1) & (economicVoting12['partyId'] != 'Conservative') & (economicVoting12['changeEconomy'] > 1)]\n",
    "(evNotConOnly2['GEV'].value_counts() / len(evNotConOnly2)) * 100"
   ]
  },
  {
   "cell_type": "markdown",
   "metadata": {},
   "source": [
    "### 2015"
   ]
  },
  {
   "cell_type": "code",
   "execution_count": 53,
   "metadata": {},
   "outputs": [
    {
     "data": {
      "application/vnd.jupyter.widget-view+json": {
       "model_id": "fb0a0696f4e140258e89ba17ed9d7afd",
       "version_major": 2,
       "version_minor": 0
      },
      "text/plain": [
       "  0%|          | 0/22802 [00:00<?, ?it/s]"
      ]
     },
     "metadata": {},
     "output_type": "display_data"
    }
   ],
   "source": [
    "dataW04 = create_isConservative(dataW04)"
   ]
  },
  {
   "cell_type": "code",
   "execution_count": 54,
   "metadata": {},
   "outputs": [],
   "source": [
    "economicVoting04 = dataW04[['partyId', 'GEV', 'DV_hasContradictions',\n",
    "                            'PIdSuccess', 'GEVSuccess', 'PIdFailure', 'GEVFailure',\n",
    "                            'changeEconomy', 'econPersonal', 'econGen', 'isPIdCon',\n",
    "                            'gender', 'country', 'age']]"
   ]
  },
  {
   "cell_type": "code",
   "execution_count": 55,
   "metadata": {},
   "outputs": [
    {
     "name": "stdout",
     "output_type": "stream",
     "text": [
      "Optimization terminated successfully.\n",
      "         Current function value: 0.491393\n",
      "         Iterations 6\n",
      "                                 Results: Logit\n",
      "=================================================================================\n",
      "Model:                   Logit                   Pseudo R-squared:    0.023      \n",
      "Dependent Variable:      DV_hasContradictions    AIC:                 22008.6616 \n",
      "Date:                    2021-12-05 15:21        BIC:                 22040.7264 \n",
      "No. Observations:        22386                   Log-Likelihood:      -11000.    \n",
      "Df Model:                3                       LL-Null:             -11258.    \n",
      "Df Residuals:            22382                   LLR p-value:         1.6150e-111\n",
      "Converged:               1.0000                  Scale:               1.0000     \n",
      "No. Iterations:          6.0000                                                  \n",
      "---------------------------------------------------------------------------------\n",
      "                                  Coef.  Std.Err.    z     P>|z|   [0.025  0.975]\n",
      "---------------------------------------------------------------------------------\n",
      "Intercept                        -1.2654   0.0203 -62.3793 0.0000 -1.3051 -1.2256\n",
      "C(isPIdCon)[T.1.0]                0.2426   0.0439   5.5275 0.0000  0.1566  0.3286\n",
      "changeEconomy                     0.2474   0.0198  12.4732 0.0000  0.2085  0.2863\n",
      "C(isPIdCon)[T.1.0]:changeEconomy -0.8796   0.0406 -21.6737 0.0000 -0.9592 -0.8001\n",
      "=================================================================================\n",
      "\n"
     ]
    }
   ],
   "source": [
    "logit2015EV = smf.logit(formula='DV_hasContradictions ~ C(isPIdCon)*changeEconomy', data = economicVoting04).fit()\n",
    "print(logit2015EV.summary2())"
   ]
  },
  {
   "cell_type": "markdown",
   "metadata": {},
   "source": [
    "Посмотрим на людей, которые удовлетворены текущим состоянием экономики (но ассоциируют себя не с Консерваторами). А точнее только тех, кто головал вопреки предпочтения."
   ]
  },
  {
   "cell_type": "code",
   "execution_count": 56,
   "metadata": {},
   "outputs": [
    {
     "data": {
      "text/plain": [
       "Conservative                                43.122363\n",
       "United Kingdom Independence Party (UKIP)    18.143460\n",
       "Labour                                      13.080169\n",
       "Green Party                                  9.198312\n",
       "Liberal Democrat                             8.016878\n",
       "Scottish National Party (SNP)                6.075949\n",
       "Plaid Cymru                                  1.181435\n",
       "Other                                        1.012658\n",
       "British National Party (BNP)                 0.168776\n",
       "I would not vote                             0.000000\n",
       "Don't know                                   0.000000\n",
       "Name: GEV, dtype: float64"
      ]
     },
     "execution_count": 56,
     "metadata": {},
     "output_type": "execute_result"
    }
   ],
   "source": [
    "evNotConPOS04 = economicVoting04[(economicVoting04['DV_hasContradictions'] == 1) & (economicVoting04['partyId'] != 'Conservative') & (economicVoting04['changeEconomy'] > 0)]\n",
    "(evNotConPOS04['GEV'].value_counts() / len(evNotConPOS04)) * 100"
   ]
  },
  {
   "cell_type": "code",
   "execution_count": 57,
   "metadata": {},
   "outputs": [
    {
     "data": {
      "text/plain": [
       "Conservative                                79.591837\n",
       "United Kingdom Independence Party (UKIP)     9.183673\n",
       "Labour                                       5.102041\n",
       "Liberal Democrat                             3.061224\n",
       "Scottish National Party (SNP)                2.040816\n",
       "Plaid Cymru                                  1.020408\n",
       "I would not vote                             0.000000\n",
       "Green Party                                  0.000000\n",
       "British National Party (BNP)                 0.000000\n",
       "Other                                        0.000000\n",
       "Don't know                                   0.000000\n",
       "Name: GEV, dtype: float64"
      ]
     },
     "execution_count": 57,
     "metadata": {},
     "output_type": "execute_result"
    }
   ],
   "source": [
    "evNotConOnlyTwo04 = economicVoting04[(economicVoting04['DV_hasContradictions'] == 1) & (economicVoting04['partyId'] != 'Conservative') & (economicVoting04['changeEconomy'] > 1)]\n",
    "(evNotConOnlyTwo04['GEV'].value_counts() / len(evNotConOnlyTwo04)) * 100"
   ]
  },
  {
   "cell_type": "markdown",
   "metadata": {},
   "source": [
    "## Модель, включающая гипотезу 1 и 3"
   ]
  },
  {
   "cell_type": "markdown",
   "metadata": {},
   "source": [
    "### Accuracy metrics. Predictions. 2017"
   ]
  },
  {
   "cell_type": "code",
   "execution_count": 58,
   "metadata": {},
   "outputs": [
    {
     "name": "stdout",
     "output_type": "stream",
     "text": [
      "Optimization terminated successfully.\n",
      "         Current function value: 0.288714\n",
      "         Iterations 8\n",
      "                                 Results: Logit\n",
      "=================================================================================\n",
      "Model:                  Logit                    Pseudo R-squared:     0.436     \n",
      "Dependent Variable:     DV_hasContradictions     AIC:                  12692.4648\n",
      "Date:                   2021-12-05 15:21         BIC:                  12796.4112\n",
      "No. Observations:       21936                    Log-Likelihood:       -6333.2   \n",
      "Df Model:               12                       LL-Null:              -11227.   \n",
      "Df Residuals:           21923                    LLR p-value:          0.0000    \n",
      "Converged:              1.0000                   Scale:                1.0000    \n",
      "No. Iterations:         8.0000                                                   \n",
      "---------------------------------------------------------------------------------\n",
      "                                  Coef.  Std.Err.    z     P>|z|   [0.025  0.975]\n",
      "---------------------------------------------------------------------------------\n",
      "Intercept                        -3.7170   0.1305 -28.4815 0.0000 -3.9727 -3.4612\n",
      "C(isPIdCon)[T.1.0]               -0.8969   0.0624 -14.3676 0.0000 -1.0192 -0.7745\n",
      "gender[T.Female]                 -0.1401   0.0457  -3.0654 0.0022 -0.2297 -0.0505\n",
      "country[T.Scotland]              -0.1241   0.0664  -1.8690 0.0616 -0.2542  0.0060\n",
      "country[T.Wales]                  0.0793   0.0815   0.9738 0.3301 -0.0803  0.2390\n",
      "PIdSuccess                        0.0587   0.0021  28.6300 0.0000  0.0547  0.0627\n",
      "GEVSuccess                        0.0937   0.0021  43.6668 0.0000  0.0894  0.0979\n",
      "PIdSuccess:GEVSuccess            -0.0018   0.0000 -48.6185 0.0000 -0.0018 -0.0017\n",
      "PIdFailure                        1.2592   0.0809  15.5649 0.0000  1.1007  1.4178\n",
      "GEVFailure                       -0.4287   0.0850  -5.0459 0.0000 -0.5953 -0.2622\n",
      "changeEconomy                     0.3862   0.0279  13.8414 0.0000  0.3315  0.4409\n",
      "C(isPIdCon)[T.1.0]:changeEconomy -1.1680   0.0595 -19.6388 0.0000 -1.2845 -1.0514\n",
      "age                               0.0043   0.0014   3.0122 0.0026  0.0015  0.0071\n",
      "=================================================================================\n",
      "\n"
     ]
    }
   ],
   "source": [
    "logit2017H_1_3 = smf.logit(formula='DV_hasContradictions ~ PIdSuccess * GEVSuccess + PIdFailure + GEVFailure + C(isPIdCon)*changeEconomy + gender + country + age', data = dataW12).fit()\n",
    "print(logit2017H_1_3.summary2())"
   ]
  },
  {
   "cell_type": "code",
   "execution_count": 59,
   "metadata": {},
   "outputs": [],
   "source": [
    "dataW12_4predict = dataW12[['DV_hasContradictions', 'PIdSuccess', 'GEVSuccess',\n",
    "                            'PIdFailure', 'GEVFailure',\n",
    "                            'isPIdCon', 'changeEconomy', 'gender', 'country', 'age']]\n",
    "dataW12_4predict = dataW12_4predict.dropna()\n",
    "predictedProb = logit2017H_1_3.predict(dataW12_4predict)"
   ]
  },
  {
   "cell_type": "code",
   "execution_count": 60,
   "metadata": {
    "code_folding": []
   },
   "outputs": [],
   "source": [
    "from sklearn.metrics import precision_recall_curve\n",
    "def Find_Optimal_Cutoff(target, predicted):\n",
    "    precisions, recalls, thresholds = precision_recall_curve(target, predicted)\n",
    "#     optimalIndex = np.argmax(2 * (precisions * recalls) / (precisions + recalls)) #f1-score\n",
    "    optimalIndex = np.argmin(np.abs(precisions - recalls)) #этот вариант находит пересечение двух кривых\n",
    "    return thresholds[optimalIndex]"
   ]
  },
  {
   "cell_type": "markdown",
   "metadata": {},
   "source": [
    "Оптимальный threshold может находится по-разному: roc-curve, f1-score или же пересечение precision-recall curve.\n",
    "\n",
    "Выбран последний вариант (btw: f1-score в данной точке равно 69, когда максильное значение всего лишь чуть больше полпроцентного пункта)"
   ]
  },
  {
   "cell_type": "code",
   "execution_count": 61,
   "metadata": {},
   "outputs": [
    {
     "name": "stdout",
     "output_type": "stream",
     "text": [
      "Optimal threshold is 0.341\n"
     ]
    }
   ],
   "source": [
    "optimal_threshold = Find_Optimal_Cutoff(dataW12_4predict['DV_hasContradictions'], predictedProb)\n",
    "print('Optimal threshold is', round(optimal_threshold, 3))"
   ]
  },
  {
   "cell_type": "code",
   "execution_count": 62,
   "metadata": {
    "code_folding": [
     0
    ]
   },
   "outputs": [
    {
     "data": {
      "image/png": "[encoded data removed]",
      "text/plain": [
       "<Figure size 864x360 with 1 Axes>"
      ]
     },
     "metadata": {
      "needs_background": "light"
     },
     "output_type": "display_data"
    }
   ],
   "source": [
    "def plot_prec_recall_vs_tresh(y_true, y_predProb):\n",
    "    precisions, recalls, thresholds = precision_recall_curve(y_true, y_predProb)\n",
    "    \n",
    "    OT_ind = np.argmin(np.abs(precisions - recalls))\n",
    "    optimal_threshold = thresholds[OT_ind]\n",
    "    precOT = precisions[OT_ind]\n",
    "#     recOT = recalls[OT_ind]\n",
    "    \n",
    "    plt.figure(figsize=(12,5))\n",
    "    plt.plot(thresholds, precisions[:-1], 'b-', linewidth = 2, label='precision')\n",
    "    plt.plot(thresholds, recalls[:-1], 'r-', linewidth = 2, label = 'recall')\n",
    "    plt.axvline(x=optimal_threshold, label = 'Optimal threshold', color='orange', linewidth=1, linestyle='--')\n",
    "    plt.axhline(y=precOT, color='grey', linewidth=0.5, linestyle='--')\n",
    "    \n",
    "    plt.xlabel('Threshold')\n",
    "    plt.xticks(np.append(np.arange(0,1,0.2), round(optimal_threshold, 2)))\n",
    "    plt.yticks(np.append(np.arange(0,1,0.2), round(precOT, 2)))\n",
    "    \n",
    "    plt.legend(loc='upper right', fontsize = 'x-large')\n",
    "    plt.ylim([0,1])\n",
    "\n",
    "plot_prec_recall_vs_tresh(dataW12_4predict['DV_hasContradictions'], predictedProb)\n",
    "\n",
    "plt.savefig('sensRecall2017.png', dpi=300, transparent=True, bbox_inches='tight', pad_inches=0.1)\n",
    "plt.show()"
   ]
  },
  {
   "cell_type": "code",
   "execution_count": 63,
   "metadata": {},
   "outputs": [],
   "source": [
    "predictedBinary = (predictedProb > optimal_threshold) * 1"
   ]
  },
  {
   "cell_type": "code",
   "execution_count": 64,
   "metadata": {},
   "outputs": [
    {
     "name": "stdout",
     "output_type": "stream",
     "text": [
      "[[15933  1432]\n",
      " [ 1433  3138]]\n",
      "Accuracy:  0.8693927789934355\n",
      "Recall:  0.6865018595493327\n",
      "Precision:  0.6866520787746171\n"
     ]
    }
   ],
   "source": [
    "from sklearn.metrics import confusion_matrix, accuracy_score, recall_score, precision_score\n",
    "print(confusion_matrix(y_true=dataW12_4predict['DV_hasContradictions'], y_pred=predictedBinary))\n",
    "\n",
    "print('Accuracy: ', accuracy_score(y_true=dataW12_4predict['DV_hasContradictions'], y_pred=predictedBinary))\n",
    "print('Recall: ', recall_score(y_true=dataW12_4predict['DV_hasContradictions'], y_pred=predictedBinary))\n",
    "print('Precision: ', precision_score(y_true=dataW12_4predict['DV_hasContradictions'], y_pred=predictedBinary))"
   ]
  },
  {
   "cell_type": "code",
   "execution_count": 65,
   "metadata": {},
   "outputs": [],
   "source": [
    "# from pandas_ml import ConfusionMatrix\n",
    "# cm = ConfusionMatrix(y_true=dataW12_4predict['DV_hasContradictions'], y_pred=predictedBinary)\n",
    "# cm.plot()"
   ]
  },
  {
   "cell_type": "markdown",
   "metadata": {},
   "source": [
    "### Accuracy metrics. Predictions. 2015"
   ]
  },
  {
   "cell_type": "code",
   "execution_count": 66,
   "metadata": {},
   "outputs": [
    {
     "name": "stdout",
     "output_type": "stream",
     "text": [
      "Optimization terminated successfully.\n",
      "         Current function value: 0.369913\n",
      "         Iterations 7\n",
      "                                 Results: Logit\n",
      "=================================================================================\n",
      "Model:                  Logit                    Pseudo R-squared:     0.257     \n",
      "Dependent Variable:     DV_hasContradictions     AIC:                  10800.8390\n",
      "Date:                   2021-12-05 15:21         BIC:                  10899.4610\n",
      "No. Observations:       14564                    Log-Likelihood:       -5387.4   \n",
      "Df Model:               12                       LL-Null:              -7252.0   \n",
      "Df Residuals:           14551                    LLR p-value:          0.0000    \n",
      "Converged:              1.0000                   Scale:                1.0000    \n",
      "No. Iterations:         7.0000                                                   \n",
      "---------------------------------------------------------------------------------\n",
      "                                  Coef.  Std.Err.    z     P>|z|   [0.025  0.975]\n",
      "---------------------------------------------------------------------------------\n",
      "Intercept                        -3.7492   0.1419 -26.4247 0.0000 -4.0272 -3.4711\n",
      "C(isPIdCon)[T.1.0]                0.5559   0.0639   8.7031 0.0000  0.4307  0.6811\n",
      "gender[T.Female]                 -0.2871   0.0494  -5.8150 0.0000 -0.3839 -0.1904\n",
      "country[T.Scotland]              -0.0698   0.0657  -1.0619 0.2883 -0.1986  0.0590\n",
      "country[T.Wales]                 -0.0725   0.0791  -0.9168 0.3592 -0.2276  0.0825\n",
      "PIdSuccess                        0.0604   0.0023  26.2473 0.0000  0.0559  0.0649\n",
      "GEVSuccess                        0.0727   0.0023  31.6784 0.0000  0.0682  0.0772\n",
      "PIdSuccess:GEVSuccess            -0.0016   0.0000 -39.2902 0.0000 -0.0016 -0.0015\n",
      "PIdFailure                       -0.3285   0.1281  -2.5646 0.0103 -0.5796 -0.0774\n",
      "GEVFailure                        0.9379   0.1237   7.5798 0.0000  0.6954  1.1805\n",
      "changeEconomy                     0.2070   0.0300   6.9120 0.0000  0.1483  0.2657\n",
      "C(isPIdCon)[T.1.0]:changeEconomy -0.9264   0.0593 -15.6356 0.0000 -1.0426 -0.8103\n",
      "age                               0.0090   0.0017   5.3470 0.0000  0.0057  0.0123\n",
      "=================================================================================\n",
      "\n"
     ]
    }
   ],
   "source": [
    "logit2015H_1_3 = smf.logit(formula='DV_hasContradictions ~ PIdSuccess * GEVSuccess + PIdFailure + GEVFailure + C(isPIdCon)*changeEconomy + gender + country + age', data = economicVoting04).fit()\n",
    "print(logit2015H_1_3.summary2())"
   ]
  },
  {
   "cell_type": "code",
   "execution_count": 67,
   "metadata": {},
   "outputs": [],
   "source": [
    "dataW04_4predict = dataW04[['DV_hasContradictions', 'PIdSuccess', 'GEVSuccess',\n",
    "                            'PIdFailure', 'GEVFailure',\n",
    "                            'isPIdCon', 'changeEconomy',\n",
    "                            'gender', 'country', 'age']]\n",
    "dataW04_4predict = dataW04_4predict.dropna()\n",
    "predicted2015Prob = logit2015H_1_3.predict(dataW04_4predict)"
   ]
  },
  {
   "cell_type": "code",
   "execution_count": 68,
   "metadata": {},
   "outputs": [
    {
     "name": "stdout",
     "output_type": "stream",
     "text": [
      "Optimal threshold is 0.33\n"
     ]
    }
   ],
   "source": [
    "optimal_threshold2015 = Find_Optimal_Cutoff(dataW04_4predict['DV_hasContradictions'], predicted2015Prob)\n",
    "print('Optimal threshold is', round(optimal_threshold2015, 3))"
   ]
  },
  {
   "cell_type": "code",
   "execution_count": 69,
   "metadata": {},
   "outputs": [
    {
     "data": {
      "image/png": "[encoded data removed]",
      "text/plain": [
       "<Figure size 864x360 with 1 Axes>"
      ]
     },
     "metadata": {
      "needs_background": "light"
     },
     "output_type": "display_data"
    }
   ],
   "source": [
    "plot_prec_recall_vs_tresh(dataW04_4predict['DV_hasContradictions'], predicted2015Prob)\n",
    "\n",
    "plt.savefig('sensRecall2015.png', dpi=300, transparent=True, bbox_inches='tight', pad_inches=0.1)\n",
    "plt.show()"
   ]
  },
  {
   "cell_type": "code",
   "execution_count": 70,
   "metadata": {},
   "outputs": [],
   "source": [
    "predictedBinary2015 = (predicted2015Prob > optimal_threshold2015) * 1"
   ]
  },
  {
   "cell_type": "code",
   "execution_count": 71,
   "metadata": {},
   "outputs": [
    {
     "name": "stdout",
     "output_type": "stream",
     "text": [
      "[[10412  1265]\n",
      " [ 1266  1621]]\n",
      "Accuracy:  0.8262153254600384\n",
      "Recall:  0.5614825077935574\n",
      "Precision:  0.5616770616770617\n"
     ]
    }
   ],
   "source": [
    "print(confusion_matrix(y_true=dataW04_4predict['DV_hasContradictions'], y_pred=predictedBinary2015))\n",
    "\n",
    "print('Accuracy: ', accuracy_score(y_true=dataW04_4predict['DV_hasContradictions'], y_pred=predictedBinary2015))\n",
    "print('Recall: ', recall_score(y_true=dataW04_4predict['DV_hasContradictions'], y_pred=predictedBinary2015))\n",
    "print('Precision: ', precision_score(y_true=dataW04_4predict['DV_hasContradictions'], y_pred=predictedBinary2015))"
   ]
  },
  {
   "cell_type": "markdown",
   "metadata": {},
   "source": [
    "## Гипотеза № 4"
   ]
  },
  {
   "cell_type": "code",
   "execution_count": 72,
   "metadata": {},
   "outputs": [],
   "source": [
    "selectedVar = ['partyId', 'GEV', 'mii', 'bestOnMII', 'mii_cat', 'small_mii_cat',\n",
    "               'handleMIICon', 'handleMIILab', 'handleMIILD', 'handleMIIUKIP', 'handleMIIGrn',\n",
    "               'DV_hasContradictions']\n",
    "MIIdataW12 = dataW12[selectedVar]\n",
    "MIIdataW04 = dataW04[selectedVar] "
   ]
  },
  {
   "cell_type": "code",
   "execution_count": 73,
   "metadata": {
    "code_folding": [
     0,
     3
    ]
   },
   "outputs": [],
   "source": [
    "party_abbr_handle = {\"Conservative\" : \"Con\", \"Labour\": \"Lab\", \"Liberal Democrat\": \"LD\",\n",
    "                     \"Green Party\": \"Grn\", \"United Kingdom Independence Party (UKIP)\": \"UKIP\"}\n",
    "\n",
    "def makeHandleVars(data, labelBar=''):\n",
    "    for row in tqdm(range(len(data)), desc = labelBar):\n",
    "        try:\n",
    "            if data.loc[row, \"partyId\"] in party_abbr_handle:\n",
    "                data.loc[row, \"PIdHandleMII\"] = data.loc[row,\"handleMII\" + party_abbr_handle[data.loc[row, \"partyId\"]]]\n",
    "\n",
    "            if data.loc[row, \"GEV\"] in party_abbr_handle:\n",
    "                data.loc[row, \"GEVHandleMII\"] = data.loc[row,\"handleMII\" + party_abbr_handle[data.loc[row, \"GEV\"]]]\n",
    "        except BaseException as error:\n",
    "            print(error)\n",
    "            print(\"Возникли проблемы со строчкой № \", row)\n",
    "    return data"
   ]
  },
  {
   "cell_type": "code",
   "execution_count": 74,
   "metadata": {},
   "outputs": [
    {
     "data": {
      "application/vnd.jupyter.widget-view+json": {
       "model_id": "f9a9523a022240f49d8a2276e3814ea5",
       "version_major": 2,
       "version_minor": 0
      },
      "text/plain": [
       "2017:   0%|          | 0/24368 [00:00<?, ?it/s]"
      ]
     },
     "metadata": {},
     "output_type": "display_data"
    },
    {
     "data": {
      "application/vnd.jupyter.widget-view+json": {
       "model_id": "23dfe9fb703e44eb8ef702a59a8ae1a3",
       "version_major": 2,
       "version_minor": 0
      },
      "text/plain": [
       "2015:   0%|          | 0/22802 [00:00<?, ?it/s]"
      ]
     },
     "metadata": {},
     "output_type": "display_data"
    }
   ],
   "source": [
    "MIIdataW12 = makeHandleVars(MIIdataW12, labelBar='2017')\n",
    "MIIdataW04 = makeHandleVars(MIIdataW04, labelBar='2015')"
   ]
  },
  {
   "cell_type": "code",
   "execution_count": 75,
   "metadata": {},
   "outputs": [],
   "source": [
    "MIIdataW12 = MIIdataW12.dropna(subset=[\"PIdHandleMII\", \"GEVHandleMII\"]).reset_index(drop = True)\n",
    "MIIdataW04 = MIIdataW04.dropna(subset=[\"PIdHandleMII\", \"GEVHandleMII\"]).reset_index(drop = True)"
   ]
  },
  {
   "cell_type": "code",
   "execution_count": 76,
   "metadata": {},
   "outputs": [
    {
     "name": "stdout",
     "output_type": "stream",
     "text": [
      "0    3824\n",
      "1     993\n",
      "Name: DV_hasContradictions, dtype: int64\n",
      "0    3584\n",
      "1     821\n",
      "Name: DV_hasContradictions, dtype: int64\n"
     ]
    }
   ],
   "source": [
    "print(MIIdataW12['DV_hasContradictions'].value_counts())\n",
    "\n",
    "print(MIIdataW04['DV_hasContradictions'].value_counts())"
   ]
  },
  {
   "cell_type": "code",
   "execution_count": 77,
   "metadata": {},
   "outputs": [
    {
     "name": "stdout",
     "output_type": "stream",
     "text": [
      "Optimization terminated successfully.\n",
      "         Current function value: 0.444537\n",
      "         Iterations 6\n",
      "                            Results: Logit\n",
      "======================================================================\n",
      "Model:              Logit                Pseudo R-squared: 0.126      \n",
      "Dependent Variable: DV_hasContradictions AIC:              4288.6701  \n",
      "Date:               2021-12-05 15:22     BIC:              4308.1098  \n",
      "No. Observations:   4817                 Log-Likelihood:   -2141.3    \n",
      "Df Model:           2                    LL-Null:          -2450.9    \n",
      "Df Residuals:       4814                 LLR p-value:      3.5800e-135\n",
      "Converged:          1.0000               Scale:            1.0000     \n",
      "No. Iterations:     6.0000                                            \n",
      "-----------------------------------------------------------------------\n",
      "                   Coef.   Std.Err.     z      P>|z|    [0.025   0.975]\n",
      "-----------------------------------------------------------------------\n",
      "Intercept          0.3479    0.1182    2.9426  0.0033   0.1162   0.5797\n",
      "PIdHandleMII      -0.4292    0.0222  -19.3665  0.0000  -0.4726  -0.3857\n",
      "GEVHandleMII       0.1593    0.0247    6.4509  0.0000   0.1109   0.2077\n",
      "======================================================================\n",
      "\n"
     ]
    }
   ],
   "source": [
    "MIIdataW12['partyId'] = MIIdataW12['partyId'].astype('str')\n",
    "\n",
    "miiLogitW12 = smf.logit(formula='DV_hasContradictions~PIdHandleMII+GEVHandleMII', data=MIIdataW12).fit()\n",
    "print(miiLogitW12.summary2())"
   ]
  },
  {
   "cell_type": "code",
   "execution_count": 78,
   "metadata": {},
   "outputs": [
    {
     "name": "stdout",
     "output_type": "stream",
     "text": [
      "Optimization terminated successfully.\n",
      "         Current function value: 0.386415\n",
      "         Iterations 7\n",
      "                            Results: Logit\n",
      "======================================================================\n",
      "Model:              Logit                Pseudo R-squared: 0.197      \n",
      "Dependent Variable: DV_hasContradictions AIC:              3410.3202  \n",
      "Date:               2021-12-05 15:22     BIC:              3429.4917  \n",
      "No. Observations:   4405                 Log-Likelihood:   -1702.2    \n",
      "Df Model:           2                    LL-Null:          -2118.5    \n",
      "Df Residuals:       4402                 LLR p-value:      1.5404e-181\n",
      "Converged:          1.0000               Scale:            1.0000     \n",
      "No. Iterations:     7.0000                                            \n",
      "-----------------------------------------------------------------------\n",
      "                   Coef.   Std.Err.     z      P>|z|    [0.025   0.975]\n",
      "-----------------------------------------------------------------------\n",
      "Intercept         -0.5880    0.1182   -4.9738  0.0000  -0.8197  -0.3563\n",
      "PIdHandleMII      -0.7440    0.0366  -20.3417  0.0000  -0.8157  -0.6723\n",
      "GEVHandleMII       0.5468    0.0369   14.8018  0.0000   0.4744   0.6192\n",
      "======================================================================\n",
      "\n"
     ]
    }
   ],
   "source": [
    "MIIdataW04['partyId'] = MIIdataW04['partyId'].astype('str')\n",
    "\n",
    "miiLogitW04 = smf.logit(formula='DV_hasContradictions~PIdHandleMII+GEVHandleMII', data=MIIdataW04).fit()\n",
    "print(miiLogitW04.summary2())"
   ]
  }
 ],
 "metadata": {
  "kernelspec": {
   "display_name": "Python 3",
   "language": "python",
   "name": "python3"
  },
  "language_info": {
   "codemirror_mode": {
    "name": "ipython",
    "version": 3
   },
   "file_extension": ".py",
   "mimetype": "text/x-python",
   "name": "python",
   "nbconvert_exporter": "python",
   "pygments_lexer": "ipython3",
   "version": "3.8.9"
  },
  "notify_time": "5",
  "toc": {
   "base_numbering": 1,
   "nav_menu": {},
   "number_sections": true,
   "sideBar": true,
   "skip_h1_title": false,
   "title_cell": "Table of Contents",
   "title_sidebar": "Содержание",
   "toc_cell": false,
   "toc_position": {
    "height": "452px",
    "left": "340px",
    "top": "205.133px",
    "width": "324.067px"
   },
   "toc_section_display": true,
   "toc_window_display": false
  },
  "varInspector": {
   "cols": {
    "lenName": "15",
    "lenType": "6",
    "lenVar": "5"
   },
   "kernels_config": {
    "python": {
     "delete_cmd_postfix": "",
     "delete_cmd_prefix": "del ",
     "library": "var_list.py",
     "varRefreshCmd": "print(var_dic_list())"
    },
    "r": {
     "delete_cmd_postfix": ") ",
     "delete_cmd_prefix": "rm(",
     "library": "var_list.r",
     "varRefreshCmd": "cat(var_dic_list()) "
    }
   },
   "position": {
    "height": "622px",
    "left": "1040.37px",
    "right": "21.5667px",
    "top": "13px",
    "width": "304.067px"
   },
   "types_to_exclude": [
    "module",
    "function",
    "builtin_function_or_method",
    "instance",
    "_Feature"
   ],
   "window_display": false
  }
 },
 "nbformat": 4,
 "nbformat_minor": 2
}
