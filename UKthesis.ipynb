{
 "cells": [
  {
   "cell_type": "markdown",
   "metadata": {},
   "source": [
    "<section class='universityLogo' style='display: inline-block; margin: 0 2em'>\n",
    "<img src='https://www.hse.ru/data/2012/01/19/1263884289/logo_%D1%81_hse_cmyk_e.png' width=\"90px\">\n",
    "</section>\n",
    "\n",
    "<section id='text' style='display:inline-block'>\n",
    "<div class='title' align = 'center' style='font-style: italic'>\n",
    "    Скрипт эмпирической части выпускной квалификационной работы\n",
    "</div>\n",
    "<div id='cwName' style='margin: 10px auto; color: #23C7ED'>\n",
    "    <div id='cwNameMain' align = 'center' style='font-size: 20px; font-weight: bold'>\n",
    "        Парламентские выборы Великобритании в 2015 и 2017 годах:\n",
    "    </div>\n",
    "    <div id= 'cwNameSub' align = 'center' style='font-size: 15px; font-weight: bold'>\n",
    "        чем объясняется голосование вопреки предпочтениям избирателей\n",
    "    </div>\n",
    "</div>\n",
    "<div id='university' align = 'center' style='font-style: italic'>Студента \"Высшей Школы Экономики\" ОП \"Политология\"</div>\n",
    "<div id='authorName' align = 'center' style='color: #0C92B1; font-size: 20px; font-weight: bold; margin: 10px auto'>\n",
    "    Барсукова Никиты Сергеевича\n",
    "</div>\n",
    "</section>\n",
    "\n",
    "<section class='universityLogo' style='display: inline-block; margin: 0 2em'>\n",
    "<img src='https://www.hse.ru/data/2012/01/19/1263884289/logo_%D1%81_hse_cmyk_e.png' width=\"90px\">\n",
    "</section>"
   ]
  },
  {
   "cell_type": "markdown",
   "metadata": {},
   "source": [
    "## Загрузка данных и пакетов"
   ]
  },
  {
   "cell_type": "code",
   "execution_count": 1,
   "metadata": {},
   "outputs": [],
   "source": [
    "from tqdm import tqdm, tqdm_notebook\n",
    "from IPython.display import display, HTML, Image\n",
    "import pandas as pd\n",
    "import numpy as np\n",
    "import matplotlib.pyplot as plt\n",
    "\n",
    "pd.options.mode.chained_assignment = None \n",
    "pd.set_option('display.max_columns', 50)"
   ]
  },
  {
   "cell_type": "markdown",
   "metadata": {},
   "source": [
    "Здесь можно загрузить любую из 14 волн<br>\n",
    "Получить их все можно на сайте [British Election Studies](https://www.britishelectionstudy.com/data-objects/panel-study-data/)"
   ]
  },
  {
   "cell_type": "markdown",
   "metadata": {},
   "source": [
    "Чтобы проще понять, какая нужна, то здесь можно найти даты их проведения<br>\n",
    "Для напоминания:\n",
    "* Парламентские выборы были 07.05.2015\n",
    "* Внеочередные парламентские выборы были 08.06.2017"
   ]
  },
  {
   "cell_type": "code",
   "execution_count": 2,
   "metadata": {
    "code_folding": []
   },
   "outputs": [],
   "source": [
    "from datetime import datetime\n",
    "waves_time = {\"W01\" : {'start': \"20.02.2014\", 'finish': \"09.03.2014\"},\n",
    "              \"W02\" : {'start': \"22.05.2014\", 'finish': \"25.06.2014\"},\n",
    "              \"W03\" : {'start': \"19.09.2014\", 'finish': \"17.10.2014\"},\n",
    "              \"W04\" : {'start': \"04.03.2015\", 'finish': \"30.03.2015\"},\n",
    "              \"W05\" : {'start': \"31.03.2015\", 'finish': \"06.05.2015\"}, #прям перед выбоарами 2015\n",
    "              \"W06\" : {'start': \"08.05.2015\", 'finish': \"26.05.2015\"},\n",
    "              \"W07\" : {'start': \"14.04.2016\", 'finish': \"04.05.2016\"},\n",
    "              \"W08\" : {'start': \"06.05.2016\", 'finish': \"22.06.2016\"},\n",
    "              \"W09\" : {'start': \"24.06.2016\", 'finish': \"04.07.2016\"},\n",
    "              \"W10\" : {'start': \"24.11.2016\", 'finish': \"12.12.2016\"},\n",
    "              \"W11\" : {'start': \"24.04.2017\", 'finish': \"03.05.2017\"},\n",
    "              \"W12\" : {'start': \"05.05.2017\", 'finish': \"07.06.2017\"}, #прям перед выборами 2017\n",
    "              \"W13\" : {'start': \"09.06.2017\", 'finish': \"23.06.2017\"},\n",
    "              \"W14\" : {'start': \"04.05.2018\", 'finish': \"21.05.2018\"}}\n",
    "\n",
    "for wave in waves_time:\n",
    "    waves_time[wave]['start'] = datetime.strptime(waves_time[wave]['start'], \"%d.%m.%Y\")\n",
    "    waves_time[wave]['finish'] = datetime.strptime(waves_time[wave]['finish'], \"%d.%m.%Y\")"
   ]
  },
  {
   "cell_type": "markdown",
   "metadata": {},
   "source": [
    "### Загрузка путём чтения файла с компьютера"
   ]
  },
  {
   "cell_type": "markdown",
   "metadata": {},
   "source": [
    "Это можно сделать \"ручками\", сложив файлы в ту же папку, что и скрипт, и исполнив следующий чанк. Либо ... "
   ]
  },
  {
   "cell_type": "code",
   "execution_count": 3,
   "metadata": {
    "code_folding": []
   },
   "outputs": [],
   "source": [
    "dataW04 = pd.read_stata(\"BES2015_W4_v3.9.dta\")\n",
    "dataW12 = pd.read_stata(\"BES2015_W12_v1.5.dta\")"
   ]
  },
  {
   "cell_type": "markdown",
   "metadata": {},
   "source": [
    "### Загрузка напрямую с интернета (используем только ссылку)"
   ]
  },
  {
   "cell_type": "markdown",
   "metadata": {},
   "source": [
    "...либо есть вот эта замечательная функция, которая автоматически загрузит с интернета датасет в рабочую среду <br>\n",
    "**НО:** нужно учесть, что особенно последние волны часто обновляются (а следовательно и меняются ссылки => чтобы работала функция нужно обновить ссылки внутри функции) <br>\n",
    "*Файл не сохраняется нигде на компьютере*"
   ]
  },
  {
   "cell_type": "code",
   "execution_count": 4,
   "metadata": {
    "code_folding": [
     2,
     4
    ]
   },
   "outputs": [],
   "source": [
    "import urllib.request\n",
    "\n",
    "def download_n_wave(n_wave = 4):\n",
    "    #здесь ссылки на все волны\n",
    "    urls_waves = ['https://www.britishelectionstudy.com/wp-content/uploads/2018/09/BES2015_W1_v7.9.dta',\n",
    "                  'https://www.britishelectionstudy.com/wp-content/uploads/2018/09/BES2015_W2_v6.9.dta',\n",
    "                  'https://www.britishelectionstudy.com/wp-content/uploads/2018/09/BES2015_W3_v4.9.dta',\n",
    "                  'https://www.britishelectionstudy.com/wp-content/uploads/2018/09/BES2015_W4_v3.9.dta',\n",
    "                  'https://www.britishelectionstudy.com/wp-content/uploads/2018/09/BES2015_W5_v3.9.dta',\n",
    "                  'https://www.britishelectionstudy.com/wp-content/uploads/2018/09/BES2015_W6_v3.9.dta',\n",
    "                  'https://www.britishelectionstudy.com/wp-content/uploads/2018/09/BES2015_W7_v2.2-1.dta',\n",
    "                  'https://www.britishelectionstudy.com/wp-content/uploads/2018/09/BES2015_W8_v2.3.dta',\n",
    "                  'https://www.britishelectionstudy.com/wp-content/uploads/2018/09/BES2015_W9_v1.7.dta',\n",
    "                  'https://www.britishelectionstudy.com/wp-content/uploads/2019/03/BES2015_W10_v0.8.dta',\n",
    "                  'https://www.britishelectionstudy.com/wp-content/uploads/2019/03/BES2015_W11_v1.5.dta',\n",
    "                  'https://www.britishelectionstudy.com/wp-content/uploads/2019/03/BES2015_W12_v1.5.dta',\n",
    "                  'https://www.britishelectionstudy.com/wp-content/uploads/2019/03/BES2017_W13_v1.5.dta',\n",
    "                  'https://www.britishelectionstudy.com/wp-content/uploads/2019/03/BES2017_W14_v0.3.dta']\n",
    "    \n",
    "    #отсылает те данные, как это делает и любой браузер (имитируем повседневный вход, чтобы избежать httpError 403)\n",
    "    myHeaders = {'User-Agent': 'Mozilla/5.0 (Macintosh; Intel Mac OS X 10_11_5) AppleWebKit/537.36 (KHTML, like Gecko) Chrome/50.0.2661.102 Safari/537.36'}\n",
    "    \n",
    "    \n",
    "    url_request  = urllib.request.Request(urls_waves[n_wave - 1], headers=myHeaders)\n",
    "    data = urllib.request.urlopen(url_request)\n",
    "\n",
    "    return pd.read_stata(data)"
   ]
  },
  {
   "cell_type": "code",
   "execution_count": 5,
   "metadata": {},
   "outputs": [],
   "source": [
    "# dataW04 = download_n_wave(4)\n",
    "# dataW12 = download_n_wave(12)"
   ]
  },
  {
   "cell_type": "markdown",
   "metadata": {},
   "source": [
    "*Примечание*: взята была 4 волна, а не 5 (которая казалось бы ближе к выборам), потому что в 5 отсутствует интересуемая нас зависимая переменная. Разница в пару месяцев в данном случае не критична."
   ]
  },
  {
   "cell_type": "markdown",
   "metadata": {},
   "source": [
    "## Отсечение нужных переменных"
   ]
  },
  {
   "cell_type": "markdown",
   "metadata": {},
   "source": [
    "<div align = 'center' style=\"font-weight: bold\">Для зависимой</div>\n",
    "\n",
    "* partyId - Generally speaking, do you think of yourself as Labour, Conservative, Liberal Democrat or what?\n",
    "* generalElectionVote - And if there were a UK General Election tomorrow, which party would you vote for?\n",
    "<hr>\n",
    "\n",
    "<hr>\n",
    "<div align = 'center' style=\"font-weight: bold\">Гипотеза 1: малая вера в успех партии</div>\n",
    "\n",
    "* winConstituencyPlacement - How likely is it that each of these parties will win the General Election in your local constituency? (0-Very unlikely to win; 100-Very likely to win)\n",
    "\n",
    "* noChanceCoalition - Which of these parties do you think has no real chanceof being part of the next UK government (either forming a government by itself or as part of a coalition)? Tick all that apply\n",
    "\n",
    "\n",
    "<hr>\n",
    "\n",
    "<hr>\n",
    "<div align = 'center' style=\"font-weight: bold\">Гипотеза 3: экономическое голосование</div>\n",
    "\n",
    "* changeEconomy (W12, W04) - Do you think that Economy is getting better, getting worse or staying about the same?\n",
    "\n",
    "* econPersonalRetro (W12, W04) - How does the *financial situation of your household* now compare with what it was 12 months ago?\n",
    "\n",
    "* econGenRetro (W12, W04) - How do you think the *general economic situation in this country* has changed over the *last 12 months*?\n",
    "\n",
    "\n",
    "* govtHandleCostLive (W04 only) = The costs of living. How well do you think the *present government* has handled?\n",
    "* govtHandleEcon (W04 only) = The economy. How well do you think the *present government* has handled?\n",
    "\n",
    "<hr>\n",
    "\n",
    "<hr>\n",
    "<div align = 'center' style=\"font-weight: bold\">Гипотеза 4: нарушение иерархии ценностей</div>\n",
    "\n",
    "* mii - As far as you're concerned, what is the SINGLE MOST important issue facing the country at the present time? (open question)\n",
    "* bestOnMII - Which party is best able to handle this issue? (if mii is not None or Don't know)\n",
    "* handleMII - Earlier you said that the single most important issue facing the country was: ... How well do you think that each of the parties is able to handle that issue? (0 –Very badly)\n",
    "\n",
    "<hr>\n",
    "\n",
    "<div style='font-weight: bold' align = 'center'>Контрольные?</div>\n",
    "\n",
    "* country (England, Scotland, Wales)\n",
    "* gender\n",
    "\n",
    "<hr>\n",
    "<hr>\n",
    "Может быть\n",
    "\n",
    "* euRefVote - If there was a referendum on Britain’s membership of the European Union\\, how do you think you would vote? (интересно вообще посмотреть динамику)"
   ]
  },
  {
   "cell_type": "code",
   "execution_count": 6,
   "metadata": {},
   "outputs": [],
   "source": [
    "chosenVar = [\"partyId\", \"generalElectionVote\", #для создания зависимой переменной\n",
    "             \n",
    "             #гипотеза 1: успех партии\n",
    "             'winConstituencyCon', 'winConstituencyLab', 'winConstituencyLD', 'winConstituencyUKIP',\n",
    "             'winConstituencyGreen', 'winConstituencySNP', 'winConstituencyPC',\n",
    "             \n",
    "             'noChanceCoalitionLab', 'noChanceCoalitionCon', 'noChanceCoalitionLD','noChanceCoalitionSNP',\n",
    "             'noChanceCoalitionPC', 'noChanceCoalitionGrn', 'noChanceCoalitionUKIP', 'noChanceCoalitionNone',\n",
    "             #-----------------------#\n",
    "             \n",
    "             #гипотеза 3: экономическое голосование\n",
    "             'changeEconomy', 'econPersonalRetro', 'econGenRetro',\n",
    "             #------------------------------------#\n",
    "             \n",
    "             #Гипотезы 2 и 4: сигнальное голосование и про иерархию ценностей\n",
    "             'mii', 'bestOnMII', \n",
    "             'handleMIICon', 'handleMIILab', 'handleMIILD', 'handleMIIUKIP', 'handleMIIGrn',\n",
    "             'mii_cat', 'small_mii_cat',\n",
    "             #--------------------------------------------------------------#\n",
    "             \n",
    "             #Контрольные переменные\n",
    "             'country', 'gender']\n",
    "             #---------------------#\n",
    "    \n",
    "chosenVar_W04_only = ['miilabel']"
   ]
  },
  {
   "cell_type": "code",
   "execution_count": 7,
   "metadata": {},
   "outputs": [],
   "source": [
    "dataW04 = dataW04[chosenVar + chosenVar_W04_only]\n",
    "dataW12 = dataW12[chosenVar]"
   ]
  },
  {
   "cell_type": "code",
   "execution_count": 8,
   "metadata": {},
   "outputs": [],
   "source": [
    "dataW04 = dataW04.dropna(subset=[\"partyId\", \"generalElectionVote\"]).reset_index(drop = True)\n",
    "dataW12 = dataW12.dropna(subset=[\"partyId\", \"generalElectionVote\"]).reset_index(drop = True)"
   ]
  },
  {
   "cell_type": "markdown",
   "metadata": {},
   "source": [
    "## Перекодировка переменных"
   ]
  },
  {
   "cell_type": "code",
   "execution_count": 9,
   "metadata": {
    "code_folding": [
     0
    ]
   },
   "outputs": [],
   "source": [
    "transcodingVariables = {\n",
    "    \"mii\" : {\"Issue stated\": 1, \"Don't know\": 0, 'None': 0},\n",
    "    \n",
    "    \"handleMIICon\": {\"Very badly\": 0, \"Very well\": 10, \"Don't know\": np.nan},\n",
    "    \"handleMIILab\": {\"Very badly\": 0, \"Very well\": 10, \"Don't know\": np.nan},\n",
    "    \"handleMIILD\": {\"Very badly\": 0, \"Very well\": 10, \"Don't know\": np.nan},\n",
    "    \"handleMIIUKIP\": {\"Very badly\": 0, \"Very well\": 10, \"Don't know\": np.nan},\n",
    "    \"handleMIIGrn\": {\"Very badly\": 0, \"Very well\": 10, \"Don't know\": np.nan},\n",
    "    \n",
    "    \"winConstituencyCon\": {\"0 - Very unlikely to win\": 0, \"100 - Very likely to win\": 100, \"Don't know\": np.nan},\n",
    "    \"winConstituencyLab\": {\"0 - Very unlikely to win\": 0, \"100 - Very likely to win\": 100, \"Don't know\": np.nan},\n",
    "    \"winConstituencyLD\": {\"0 - Very unlikely to win\": 0, \"100 - Very likely to win\": 100, \"Don't know\": np.nan},\n",
    "    \"winConstituencyUKIP\": {\"0 - Very unlikely to win\": 0, \"100 - Very likely to win\": 100, \"Don't know\": np.nan},\n",
    "    \"winConstituencyGreen\": {\"0 - Very unlikely to win\": 0, \"100 - Very likely to win\": 100, \"Don't know\": np.nan},\n",
    "    \"winConstituencySNP\": {\"0 - Very unlikely to win\": 0, \"100 - Very likely to win\": 100, \"Don't know\": np.nan},\n",
    "    \"winConstituencyPC\": {\"0 - Very unlikely to win\": 0, \"100 - Very likely to win\": 100, \"Don't know\": np.nan},\n",
    "    \n",
    "    \"noChanceCoalitionLab\": {\"Yes\": 1, \"No\": 0, \"Don't know\": np.nan},\n",
    "    \"noChanceCoalitionCon\": {\"Yes\": 1, \"No\": 0, \"Don't know\": np.nan},\n",
    "    \"noChanceCoalitionLD\": {\"Yes\": 1, \"No\": 0, \"Don't know\": np.nan},\n",
    "    \"noChanceCoalitionSNP\": {\"Yes\": 1, \"No\": 0, \"Don't know\": np.nan},\n",
    "    \"noChanceCoalitionPC\": {\"Yes\": 1, \"No\": 0, \"Don't know\": np.nan},\n",
    "    \"noChanceCoalitionGrn\": {\"Yes\": 1, \"No\": 0, \"Don't know\": np.nan},\n",
    "    \"noChanceCoalitionUKIP\": {\"Yes\": 1, \"No\": 0, \"Don't know\": np.nan},\n",
    "    \"noChanceCoalitionNone\": {\"Yes\": 1, \"No\": 0, \"Don't know\": np.nan},\n",
    "    \n",
    "    \"majorityPartyCon\": {\"Very unlikely\": 0, \"Very likely\": 10, \"Don't know\": np.nan},\n",
    "    \"majorityPartyLab\": {\"Very unlikely\": 0, \"Very likely\": 10, \"Don't know\": np.nan},\n",
    "    \n",
    "    \"changeEconomy\": {\"Getting a lot worse\": -2, \"Getting a little worse\": -1,\n",
    "                      \"Staying about the same\": 0, \"Don't know\": np.nan,\n",
    "                      \"Getting a little better\": 1, \"Getting a lot better\": 2},\n",
    "    \n",
    "    'econPersonalRetro': {\"Got a lot worse\": -2, \"Got a little worse\": -1,\n",
    "                          \"Stayed the same\": 0, \"Don't know\": np.nan,\n",
    "                          \"Got a little better\": 1, \"Got a lot better\": 2},\n",
    "    \n",
    "    'econGenRetro': {\"Got a lot worse\": -2, \"Got a little worse\": -1,\n",
    "                     \"Stayed the same\": 0, \"Don't know\": np.nan,\n",
    "                     \"Got a little better\": 1, \"Got a lot better\": 2},\n",
    "    \n",
    "    \"govtHandleCostLive\": {\"Very badly\": -2, \"Fairly badly\": -1,\n",
    "                           \"Neither well nor badly\": 0, \"Don't know\": np.nan,\n",
    "                           \"Fairly well\": 1, \"Very well\": 2},\n",
    "    \n",
    "    \"govtHandleEcon\": {\"Very badly\": -2, \"Fairly badly\": -1,\n",
    "                       \"Neither well nor badly\": 0, \"Don't know\": np.nan,\n",
    "                       \"Fairly well\": 1, \"Very well\": 2}\n",
    "    \n",
    "    \n",
    "}\n",
    "\n",
    "dataW04.replace(to_replace=transcodingVariables, inplace = True)\n",
    "dataW12.replace(to_replace=transcodingVariables, inplace = True)"
   ]
  },
  {
   "cell_type": "markdown",
   "metadata": {},
   "source": [
    "convert some var types"
   ]
  },
  {
   "cell_type": "code",
   "execution_count": 10,
   "metadata": {
    "code_folding": [
     0
    ]
   },
   "outputs": [],
   "source": [
    "def transform_str2num(data):\n",
    "    varToNum = ['winConstituencyCon', 'winConstituencyLab', 'winConstituencyLD', 'winConstituencyUKIP',\n",
    "                'winConstituencyGreen', 'winConstituencySNP', 'winConstituencyPC']\n",
    "    for var in varToNum:\n",
    "        data[var] = pd.to_numeric(data[var])\n",
    "    return data\n",
    "\n",
    "dataW04 = transform_str2num(dataW04)\n",
    "dataW12 = transform_str2num(dataW12)"
   ]
  },
  {
   "cell_type": "markdown",
   "metadata": {},
   "source": [
    "Сокращение имён переменных (чтобы они умещались в регрессионной выдаче)"
   ]
  },
  {
   "cell_type": "code",
   "execution_count": 11,
   "metadata": {},
   "outputs": [],
   "source": [
    "renameDictionary = {\"generalElectionVote\": \"GEV\",\n",
    "                    \"econPersonalRetro\": \"econPersonal\", \"econGenRetro\" : \"econGen\",\n",
    "                    #Green Party везде по-разному прописана (делаем везде одинаково)\n",
    "                    \"winConstituencyGreen\": \"winConstituencyGrn\"}\n",
    "dataW12 = dataW12.rename(columns = renameDictionary)\n",
    "dataW04 = dataW04.rename(columns = renameDictionary)"
   ]
  },
  {
   "cell_type": "markdown",
   "metadata": {},
   "source": [
    "## Зависимая переменная DV"
   ]
  },
  {
   "cell_type": "code",
   "execution_count": 12,
   "metadata": {},
   "outputs": [
    {
     "data": {
      "text/html": [
       "<h4>partyId</h4>"
      ],
      "text/plain": [
       "<IPython.core.display.HTML object>"
      ]
     },
     "metadata": {},
     "output_type": "display_data"
    },
    {
     "name": "stdout",
     "output_type": "stream",
     "text": [
      "Labour                                      9135\n",
      "Conservative                                8190\n",
      "No - none                                   5610\n",
      "Liberal Democrat                            2056\n",
      "Scottish National Party (SNP)               1675\n",
      "United Kingdom Independence Party (UKIP)    1605\n",
      "Don't know                                  1455\n",
      "Green Party                                  997\n",
      "Other                                        299\n",
      "Plaid Cymru                                  205\n",
      "British National Party (BNP)                  97\n",
      "Name: partyId, dtype: int64\n",
      "_________________________________________________\n"
     ]
    },
    {
     "data": {
      "text/html": [
       "<h4>generalElectionVote</h4>"
      ],
      "text/plain": [
       "<IPython.core.display.HTML object>"
      ]
     },
     "metadata": {},
     "output_type": "display_data"
    },
    {
     "name": "stdout",
     "output_type": "stream",
     "text": [
      "Labour                                      8735\n",
      "Conservative                                8216\n",
      "United Kingdom Independence Party (UKIP)    3927\n",
      "Don't know                                  2918\n",
      "Scottish National Party (SNP)               2306\n",
      "Liberal Democrat                            1668\n",
      "Green Party                                 1647\n",
      "I would not vote                            1299\n",
      "Plaid Cymru                                  299\n",
      "Other                                        231\n",
      "British National Party (BNP)                  78\n",
      "Name: GEV, dtype: int64\n"
     ]
    }
   ],
   "source": [
    "display(HTML(\"<h4>partyId</h4>\"))\n",
    "print(dataW04['partyId'].value_counts())\n",
    "print(\"_________________________________________________\")\n",
    "display(HTML(\"<h4>generalElectionVote</h4>\"))\n",
    "print(dataW04['GEV'].value_counts())"
   ]
  },
  {
   "cell_type": "markdown",
   "metadata": {},
   "source": [
    "Уберём No - none, Don't know, I would not vote"
   ]
  },
  {
   "cell_type": "code",
   "execution_count": 13,
   "metadata": {},
   "outputs": [],
   "source": [
    "filterWords = [\"No - none\", \"Don't know\", \"I would not vote\"]\n",
    "dataW04 = dataW04[~dataW04['partyId'].isin(filterWords)]\n",
    "dataW04 = dataW04[~dataW04['GEV'].isin(filterWords)].reset_index(drop = True)"
   ]
  },
  {
   "cell_type": "code",
   "execution_count": 14,
   "metadata": {},
   "outputs": [
    {
     "data": {
      "text/html": [
       "<h4>partyId</h4>"
      ],
      "text/plain": [
       "<IPython.core.display.HTML object>"
      ]
     },
     "metadata": {},
     "output_type": "display_data"
    },
    {
     "name": "stdout",
     "output_type": "stream",
     "text": [
      "Labour                                      8558\n",
      "Conservative                                7761\n",
      "Liberal Democrat                            1816\n",
      "Scottish National Party (SNP)               1647\n",
      "United Kingdom Independence Party (UKIP)    1538\n",
      "Green Party                                  946\n",
      "Other                                        257\n",
      "Plaid Cymru                                  196\n",
      "British National Party (BNP)                  83\n",
      "Don't know                                     0\n",
      "No - none                                      0\n",
      "Name: partyId, dtype: int64\n",
      "_________________________________________________\n"
     ]
    },
    {
     "data": {
      "text/html": [
       "<h4>generalElectionVote</h4>"
      ],
      "text/plain": [
       "<IPython.core.display.HTML object>"
      ]
     },
     "metadata": {},
     "output_type": "display_data"
    },
    {
     "name": "stdout",
     "output_type": "stream",
     "text": [
      "Labour                                      7681\n",
      "Conservative                                7047\n",
      "United Kingdom Independence Party (UKIP)    3104\n",
      "Scottish National Party (SNP)               2018\n",
      "Liberal Democrat                            1351\n",
      "Green Party                                 1145\n",
      "Plaid Cymru                                  247\n",
      "Other                                        146\n",
      "British National Party (BNP)                  63\n",
      "Don't know                                     0\n",
      "I would not vote                               0\n",
      "Name: GEV, dtype: int64\n"
     ]
    }
   ],
   "source": [
    "display(HTML(\"<h4>partyId</h4>\"))\n",
    "print(dataW04['partyId'].value_counts())\n",
    "print(\"_________________________________________________\")\n",
    "display(HTML(\"<h4>generalElectionVote</h4>\"))\n",
    "print(dataW04['GEV'].value_counts())"
   ]
  },
  {
   "cell_type": "markdown",
   "metadata": {},
   "source": [
    "Повторим всё с 12 волной"
   ]
  },
  {
   "cell_type": "code",
   "execution_count": 15,
   "metadata": {},
   "outputs": [],
   "source": [
    "dataW12 = dataW12[~dataW12['partyId'].isin(filterWords)]\n",
    "dataW12 = dataW12[~dataW12['GEV'].isin(filterWords)].reset_index(drop = True)"
   ]
  },
  {
   "cell_type": "markdown",
   "metadata": {},
   "source": [
    "Глянем на 12 волну"
   ]
  },
  {
   "cell_type": "code",
   "execution_count": 16,
   "metadata": {},
   "outputs": [
    {
     "data": {
      "text/html": [
       "<h4>partyId</h4>"
      ],
      "text/plain": [
       "<IPython.core.display.HTML object>"
      ]
     },
     "metadata": {},
     "output_type": "display_data"
    },
    {
     "name": "stdout",
     "output_type": "stream",
     "text": [
      "Conservative                                9207\n",
      "Labour                                      8938\n",
      "Liberal Democrat                            2298\n",
      "United Kingdom Independence Party (UKIP)    1446\n",
      "Scottish National Party (SNP)               1121\n",
      "Green Party                                  914\n",
      "Other                                        288\n",
      "Plaid Cymru                                  156\n",
      "Don't know                                     0\n",
      "No - none                                      0\n",
      "Name: partyId, dtype: int64\n",
      "_________________________________________________\n"
     ]
    },
    {
     "data": {
      "text/html": [
       "<h4>generalElectionVote</h4>"
      ],
      "text/plain": [
       "<IPython.core.display.HTML object>"
      ]
     },
     "metadata": {},
     "output_type": "display_data"
    },
    {
     "name": "stdout",
     "output_type": "stream",
     "text": [
      "Conservative                                10445\n",
      "Labour                                       8423\n",
      "Liberal Democrat                             2359\n",
      "Scottish National Party (SNP)                1329\n",
      "United Kingdom Independence Party (UKIP)      934\n",
      "Green Party                                   514\n",
      "Other                                         192\n",
      "Plaid Cymru                                   172\n",
      "Don't know                                      0\n",
      "I would not vote                                0\n",
      "Name: GEV, dtype: int64\n"
     ]
    }
   ],
   "source": [
    "display(HTML(\"<h4>partyId</h4>\"))\n",
    "print(dataW12['partyId'].value_counts())\n",
    "print(\"_________________________________________________\")\n",
    "display(HTML(\"<h4>generalElectionVote</h4>\"))\n",
    "print(dataW12['GEV'].value_counts())"
   ]
  },
  {
   "cell_type": "markdown",
   "metadata": {},
   "source": [
    "<div align='center' style='font-weight: bold'>DV = (partyId != generalElectionVote)</div>"
   ]
  },
  {
   "cell_type": "code",
   "execution_count": 17,
   "metadata": {
    "code_folding": []
   },
   "outputs": [],
   "source": [
    "def make_DV_var(data, label = \"\"):\n",
    "    for row in tqdm_notebook(range(len(data)), desc = label):\n",
    "        if data.loc[row, 'partyId'] == data.loc[row, 'GEV']:\n",
    "            data.loc[row, 'DV_hasContradictions'] = False\n",
    "        else:\n",
    "            data.loc[row, 'DV_hasContradictions'] = True"
   ]
  },
  {
   "cell_type": "code",
   "execution_count": 18,
   "metadata": {},
   "outputs": [
    {
     "data": {
      "application/vnd.jupyter.widget-view+json": {
       "model_id": "973ae2384b934f7398517e7a75e74c4a",
       "version_major": 2,
       "version_minor": 0
      },
      "text/plain": [
       "HBox(children=(IntProgress(value=0, description='Выборы 2015 года', max=22802, style=ProgressStyle(description…"
      ]
     },
     "metadata": {},
     "output_type": "display_data"
    },
    {
     "name": "stdout",
     "output_type": "stream",
     "text": [
      "\n"
     ]
    },
    {
     "data": {
      "application/vnd.jupyter.widget-view+json": {
       "model_id": "f10b4a543f0740e8bcbc799b67b5e62b",
       "version_major": 2,
       "version_minor": 0
      },
      "text/plain": [
       "HBox(children=(IntProgress(value=0, description='Выборы 2017 года', max=24368, style=ProgressStyle(description…"
      ]
     },
     "metadata": {},
     "output_type": "display_data"
    },
    {
     "name": "stdout",
     "output_type": "stream",
     "text": [
      "\n"
     ]
    }
   ],
   "source": [
    "make_DV_var(dataW04, label=\"Выборы 2015 года\")\n",
    "make_DV_var(dataW12, label=\"Выборы 2017 года\")"
   ]
  },
  {
   "cell_type": "code",
   "execution_count": 19,
   "metadata": {},
   "outputs": [
    {
     "data": {
      "text/html": [
       "<h4>2015 год</h4>"
      ],
      "text/plain": [
       "<IPython.core.display.HTML object>"
      ]
     },
     "metadata": {},
     "output_type": "display_data"
    },
    {
     "name": "stdout",
     "output_type": "stream",
     "text": [
      "False    18223\n",
      "True      4579\n",
      "Name: DV_hasContradictions, dtype: int64\n"
     ]
    },
    {
     "data": {
      "text/html": [
       "<h4>2017 год</h4>"
      ],
      "text/plain": [
       "<IPython.core.display.HTML object>"
      ]
     },
     "metadata": {},
     "output_type": "display_data"
    },
    {
     "name": "stdout",
     "output_type": "stream",
     "text": [
      "False    19063\n",
      "True      5305\n",
      "Name: DV_hasContradictions, dtype: int64\n"
     ]
    }
   ],
   "source": [
    "display(HTML(\"<h4>2015 год</h4>\"))\n",
    "print(dataW04['DV_hasContradictions'].value_counts())\n",
    "display(HTML(\"<h4>2017 год</h4>\"))\n",
    "print(dataW12['DV_hasContradictions'].value_counts())"
   ]
  },
  {
   "cell_type": "markdown",
   "metadata": {},
   "source": [
    "Преобразуем True и False у DV в 1 и 0 (так нужно для построения модели)"
   ]
  },
  {
   "cell_type": "code",
   "execution_count": 20,
   "metadata": {},
   "outputs": [],
   "source": [
    "dataW04['DV_hasContradictions'] = dataW04['DV_hasContradictions']*1\n",
    "dataW12['DV_hasContradictions'] = dataW12['DV_hasContradictions']*1"
   ]
  },
  {
   "cell_type": "markdown",
   "metadata": {},
   "source": [
    "## Гипотеза 1: малая вера в успех партии"
   ]
  },
  {
   "cell_type": "markdown",
   "metadata": {},
   "source": [
    "Здесь будет проверяться гипотеза о том, что респонденты голосуют вопреки своим предпчотениям, потому что их истинные предпочтения - партии, которые имеют малый шанс на успех"
   ]
  },
  {
   "cell_type": "markdown",
   "metadata": {},
   "source": [
    "### Голос отдан за более крупную партию?"
   ]
  },
  {
   "cell_type": "markdown",
   "metadata": {},
   "source": [
    "Для начала стоит обозначить, какие партии мы будем считать мелкими, а какие крупными"
   ]
  },
  {
   "cell_type": "code",
   "execution_count": 21,
   "metadata": {},
   "outputs": [],
   "source": [
    "largeParties = ['Conservative', 'Labour', 'Liberal Democrat']\n",
    "smallParties = ['United Kingdom Independence Party (UKIP)', 'Scottish National Party (SNP)',\n",
    "                'Green Party', 'Plaid Cymru']\n",
    "ultraSmall = ['British National Party (BNP)', 'Other']"
   ]
  },
  {
   "cell_type": "markdown",
   "metadata": {},
   "source": [
    "Интересно было бы создать переменную sizeComparison c тремя уровнями:\n",
    "\n",
    "* larger (1) - истинные предпочтения - мелкая партия, а голосует избиратель за крупную\n",
    "* smaller (-1) - истинные предпочтения - партия, которая более крупная, чем за ту, что голосует\n",
    "* no difference (0) - нет разницы в размерах (но партии разные)\n",
    "* the same - партия и там, и там одинаковая"
   ]
  },
  {
   "cell_type": "code",
   "execution_count": 22,
   "metadata": {
    "code_folding": [
     0
    ]
   },
   "outputs": [],
   "source": [
    "def make_sizeComparison(data, labelBar = ''):\n",
    "    for row in tqdm_notebook(range(len(data)), desc=labelBar):\n",
    "        \n",
    "        #the same\n",
    "        if (data.loc[row, 'DV_hasContradictions'] == False):\n",
    "            data.loc[row, 'sizeComparison'] = 'the same'\n",
    "            data.loc[row, 'sizeComparisonD'] = 0\n",
    "        \n",
    "        #no difference    \n",
    "        elif (data.loc[row, 'GEV'] in largeParties) and (data.loc[row, 'partyId'] in largeParties):\n",
    "            data.loc[row, 'sizeComparison'] = 'no difference'\n",
    "            data.loc[row, 'sizeComparisonD'] = 0\n",
    "        elif (data.loc[row, 'GEV'] in smallParties) and (data.loc[row, 'partyId'] in smallParties):\n",
    "            data.loc[row, 'sizeComparison'] = 'no difference'\n",
    "            data.loc[row, 'sizeComparisonD'] = 0\n",
    "        elif (data.loc[row, 'GEV'] in ultraSmall) and (data.loc[row, 'partyId'] in ultraSmall):\n",
    "            data.loc[row, 'sizeComparison'] = 'no difference'\n",
    "            data.loc[row, 'sizeComparisonD'] = 0\n",
    "        \n",
    "        #larger\n",
    "        elif (data.loc[row, 'GEV'] in largeParties) and (data.loc[row, 'partyId'] not in largeParties):\n",
    "            data.loc[row, 'sizeComparison'] = 'larger'\n",
    "            data.loc[row, 'sizeComparisonD'] = 1\n",
    "        elif (data.loc[row, 'GEV'] in smallParties) and (data.loc[row, 'partyId'] in ultraSmall):\n",
    "            data.loc[row, 'sizeComparison'] = 'larger'\n",
    "            data.loc[row, 'sizeComparisonD'] = 1\n",
    "            \n",
    "        else:\n",
    "            data.loc[row, 'sizeComparison'] = 'smaller'\n",
    "            data.loc[row, 'sizeComparisonD'] = -1"
   ]
  },
  {
   "cell_type": "code",
   "execution_count": 23,
   "metadata": {},
   "outputs": [
    {
     "data": {
      "application/vnd.jupyter.widget-view+json": {
       "model_id": "114e482f0dd744eeba674adf36094d67",
       "version_major": 2,
       "version_minor": 0
      },
      "text/plain": [
       "HBox(children=(IntProgress(value=0, description='2015', max=22802, style=ProgressStyle(description_width='init…"
      ]
     },
     "metadata": {},
     "output_type": "display_data"
    },
    {
     "name": "stdout",
     "output_type": "stream",
     "text": [
      "\n"
     ]
    },
    {
     "data": {
      "application/vnd.jupyter.widget-view+json": {
       "model_id": "318fba4b06f44db0a10102ac113c94d0",
       "version_major": 2,
       "version_minor": 0
      },
      "text/plain": [
       "HBox(children=(IntProgress(value=0, description='2017', max=24368, style=ProgressStyle(description_width='init…"
      ]
     },
     "metadata": {},
     "output_type": "display_data"
    },
    {
     "name": "stdout",
     "output_type": "stream",
     "text": [
      "\n"
     ]
    }
   ],
   "source": [
    "make_sizeComparison(dataW04, labelBar = '2015')\n",
    "make_sizeComparison(dataW12, labelBar = '2017')"
   ]
  },
  {
   "cell_type": "code",
   "execution_count": 24,
   "metadata": {},
   "outputs": [
    {
     "data": {
      "text/html": [
       "<h4>2015 год</h4>"
      ],
      "text/plain": [
       "<IPython.core.display.HTML object>"
      ]
     },
     "metadata": {},
     "output_type": "display_data"
    },
    {
     "name": "stdout",
     "output_type": "stream",
     "text": [
      "the same         18223\n",
      "smaller           2553\n",
      "no difference     1408\n",
      "larger             618\n",
      "Name: sizeComparison, dtype: int64\n"
     ]
    },
    {
     "data": {
      "text/html": [
       "<h4>2017 год</h4>"
      ],
      "text/plain": [
       "<IPython.core.display.HTML object>"
      ]
     },
     "metadata": {},
     "output_type": "display_data"
    },
    {
     "name": "stdout",
     "output_type": "stream",
     "text": [
      "the same         19063\n",
      "no difference     2933\n",
      "larger            1589\n",
      "smaller            783\n",
      "Name: sizeComparison, dtype: int64\n"
     ]
    }
   ],
   "source": [
    "display(HTML(\"<h4>2015 год</h4>\"))\n",
    "print(dataW04['sizeComparison'].value_counts())\n",
    "display(HTML(\"<h4>2017 год</h4>\"))\n",
    "print(dataW12['sizeComparison'].value_counts())"
   ]
  },
  {
   "cell_type": "markdown",
   "metadata": {},
   "source": [
    "### Оценка респондента шансов на успех у партии"
   ]
  },
  {
   "cell_type": "markdown",
   "metadata": {},
   "source": [
    "Работаем с данными переменными:\n",
    "\n",
    "* winConstituencyPlacement - How likely is it that each of these parties will win the General Election in your local constituency? (0-Very unlikely to win; 100-Very likely to win)\n",
    "\n",
    "* noChanceCoalition - Which of these parties do you think has no real chanceof being part of the next UK government (either forming a government by itself or as part of a coalition)? Tick all that apply"
   ]
  },
  {
   "cell_type": "markdown",
   "metadata": {},
   "source": [
    "Создаются переменные partyIdSuccess, generalElectionVoteSuccess.<br>\n",
    "В них респондент говорит о том, верит ли он в то, что его партия (к которой себя относит и за которую голосуют) сможет выиграть или нет\n",
    "\n",
    "<br>\n",
    "\n",
    "Также создаё аналогичные переменные partyIdFailure и generalElectionVoteFailure.<br>\n",
    "Говорит о том, думает ли респондент о провале данных партий\n",
    "\n",
    "<br>\n",
    "\n",
    "Переменные, говорящие об успехи партии, измеряется по шкале от 0 до 100.\n",
    "\n",
    "Перемеменные, говорящие о провале, являются бинарными.\n"
   ]
  },
  {
   "cell_type": "code",
   "execution_count": 25,
   "metadata": {
    "code_folding": [
     0,
     4
    ]
   },
   "outputs": [],
   "source": [
    "party_abbr = {\"Conservative\" : \"Con\", \"Labour\": \"Lab\", \"Liberal Democrat\": \"LD\",\n",
    "                          \"Green Party\": \"Grn\", \"United Kingdom Independence Party (UKIP)\": \"UKIP\",\n",
    "                          \"Scottish National Party (SNP)\": \"SNP\", \"Plaid Cymru\": \"PC\"}\n",
    "\n",
    "def makeFailureSuccessVars(data, labelBar=''):\n",
    "    for row in tqdm_notebook(range(len(data)), desc = labelBar):\n",
    "        try:\n",
    "            if data.loc[row, \"partyId\"] in party_abbr:\n",
    "                data.loc[row, \"PIdSuccess\"] = data.loc[row,\"winConstituency\" + party_abbr[data.loc[row, \"partyId\"]]]\n",
    "                data.loc[row, \"PIdFailure\"] = data.loc[row,\"noChanceCoalition\" + party_abbr[data.loc[row, \"partyId\"]]]\n",
    "\n",
    "            if data.loc[row, \"GEV\"] in party_abbr:\n",
    "                data.loc[row, \"GEVSuccess\"] = data.loc[row,\"winConstituency\" + party_abbr[data.loc[row, \"GEV\"]]]\n",
    "                data.loc[row, \"GEVFailure\"] = data.loc[row,\"noChanceCoalition\" + party_abbr[data.loc[row, \"GEV\"]]]\n",
    "        except:\n",
    "            print(\"Возникли проблемы со строчкой № \", row)"
   ]
  },
  {
   "cell_type": "code",
   "execution_count": 26,
   "metadata": {},
   "outputs": [
    {
     "data": {
      "application/vnd.jupyter.widget-view+json": {
       "model_id": "a963174a8b6b46abbff4a143455c8928",
       "version_major": 2,
       "version_minor": 0
      },
      "text/plain": [
       "HBox(children=(IntProgress(value=0, description='2015', max=22802, style=ProgressStyle(description_width='init…"
      ]
     },
     "metadata": {},
     "output_type": "display_data"
    },
    {
     "name": "stdout",
     "output_type": "stream",
     "text": [
      "\n"
     ]
    },
    {
     "data": {
      "application/vnd.jupyter.widget-view+json": {
       "model_id": "cb1d32d120704633b6f527377301ab72",
       "version_major": 2,
       "version_minor": 0
      },
      "text/plain": [
       "HBox(children=(IntProgress(value=0, description='2017', max=24368, style=ProgressStyle(description_width='init…"
      ]
     },
     "metadata": {},
     "output_type": "display_data"
    },
    {
     "name": "stdout",
     "output_type": "stream",
     "text": [
      "\n"
     ]
    }
   ],
   "source": [
    "makeFailureSuccessVars(dataW04, labelBar=\"2015\")\n",
    "makeFailureSuccessVars(dataW12, labelBar=\"2017\")"
   ]
  },
  {
   "cell_type": "markdown",
   "metadata": {},
   "source": [
    "### Logit. Проверка $H_1$"
   ]
  },
  {
   "cell_type": "code",
   "execution_count": 27,
   "metadata": {},
   "outputs": [],
   "source": [
    "import statsmodels.api as sm\n",
    "import statsmodels.formula.api as smf"
   ]
  },
  {
   "cell_type": "markdown",
   "metadata": {},
   "source": [
    "* **Зависимая переменная**: DV_hasContradictions - голосует ли избиратель вопреки предпчотениям? (1 - да, 0 - нет)\n",
    "* **Независимые переменные**:\n",
    "    <hr>\n",
    "    \n",
    "    + partyIdSuccess - оценка шансов на успех партии, к которой избиратель близок идеологически (0 - низкие шансы, 100 - максимальные)\n",
    "    + generalElectionVoteSuccess - оценка шансов на успех партии,за которую избиратель голосует (аналогично, от 0 до 100)\n",
    "    <hr>\n",
    "    + partyIdFailure - есть ли шанс (по мнению избирателя) у партии (к которой он близок идеологически) шанса быть частью парламента Великобритании (бинарная переменная: 1 - да, 0 - нет)\n",
    "    \n",
    "    + generalElectionVoteFailure - есть ли шанс (по мнению избирателя) у партии (за которую он голосует) шанса быть частью парламента Великобритании (бинарная переменная: 1 - да, 0 - нет)"
   ]
  },
  {
   "cell_type": "markdown",
   "metadata": {},
   "source": [
    "#### 2017"
   ]
  },
  {
   "cell_type": "markdown",
   "metadata": {},
   "source": [
    "Без интеракции"
   ]
  },
  {
   "cell_type": "code",
   "execution_count": 28,
   "metadata": {},
   "outputs": [
    {
     "name": "stdout",
     "output_type": "stream",
     "text": [
      "Optimization terminated successfully.\n",
      "         Current function value: 0.397737\n",
      "         Iterations 6\n",
      "                           Results: Logit\n",
      "=====================================================================\n",
      "Model:              Logit                Pseudo R-squared: 0.222     \n",
      "Dependent Variable: DV_hasContradictions AIC:              17765.7801\n",
      "Date:               2019-04-30 22:09     BIC:              17805.8465\n",
      "No. Observations:   22321                Log-Likelihood:   -8877.9   \n",
      "Df Model:           4                    LL-Null:          -11410.   \n",
      "Df Residuals:       22316                LLR p-value:      0.0000    \n",
      "Converged:          1.0000               Scale:            1.0000    \n",
      "No. Iterations:     6.0000                                           \n",
      "-----------------------------------------------------------------------\n",
      "              Coef.    Std.Err.      z       P>|z|     [0.025    0.975]\n",
      "-----------------------------------------------------------------------\n",
      "Intercept    -0.7558     0.0455   -16.6167   0.0000   -0.8449   -0.6666\n",
      "PIdSuccess   -0.0437     0.0010   -45.9648   0.0000   -0.0456   -0.0419\n",
      "GEVSuccess    0.0250     0.0010    25.3738   0.0000    0.0231    0.0269\n",
      "PIdFailure    1.4142     0.0703    20.1075   0.0000    1.2763    1.5520\n",
      "GEVFailure   -0.7756     0.0781    -9.9260   0.0000   -0.9287   -0.6224\n",
      "=====================================================================\n",
      "\n"
     ]
    }
   ],
   "source": [
    "formulaH1_NoInter = \"DV_hasContradictions ~ PIdSuccess + GEVSuccess + PIdFailure + GEVFailure\"\n",
    "logit2017H1_NoInter = smf.logit(formula=formulaH1_NoInter, data = dataW12).fit()\n",
    "print(logit2017H1_NoInter.summary2())"
   ]
  },
  {
   "cell_type": "markdown",
   "metadata": {},
   "source": [
    "Теперь всё те же переменные, но добавляется интеракция между переменными partyIdSuccess и generalElectionVoteSuccess"
   ]
  },
  {
   "cell_type": "code",
   "execution_count": 29,
   "metadata": {},
   "outputs": [
    {
     "name": "stdout",
     "output_type": "stream",
     "text": [
      "Optimization terminated successfully.\n",
      "         Current function value: 0.300780\n",
      "         Iterations 8\n",
      "                            Results: Logit\n",
      "======================================================================\n",
      "Model:               Logit                Pseudo R-squared: 0.412     \n",
      "Dependent Variable:  DV_hasContradictions AIC:              13439.3995\n",
      "Date:                2019-04-30 22:09     BIC:              13487.4792\n",
      "No. Observations:    22321                Log-Likelihood:   -6713.7   \n",
      "Df Model:            5                    LL-Null:          -11410.   \n",
      "Df Residuals:        22315                LLR p-value:      0.0000    \n",
      "Converged:           1.0000               Scale:            1.0000    \n",
      "No. Iterations:      8.0000                                           \n",
      "----------------------------------------------------------------------\n",
      "                       Coef.  Std.Err.    z     P>|z|   [0.025  0.975]\n",
      "----------------------------------------------------------------------\n",
      "Intercept             -4.0505   0.0981 -41.2804 0.0000 -4.2428 -3.8581\n",
      "PIdSuccess             0.0593   0.0020  29.5389 0.0000  0.0554  0.0632\n",
      "GEVSuccess             0.0955   0.0021  45.1566 0.0000  0.0914  0.0997\n",
      "PIdSuccess:GEVSuccess -0.0018   0.0000 -50.5261 0.0000 -0.0019 -0.0017\n",
      "PIdFailure             1.5099   0.0784  19.2581 0.0000  1.3562  1.6635\n",
      "GEVFailure            -0.4933   0.0838  -5.8847 0.0000 -0.6576 -0.3290\n",
      "======================================================================\n",
      "\n"
     ]
    }
   ],
   "source": [
    "formulaH1_Inter = \"DV_hasContradictions ~ PIdSuccess * GEVSuccess + PIdFailure + GEVFailure\"\n",
    "logit2017H1_Inter = smf.logit(formula=formulaH1_Inter, data = dataW12).fit()\n",
    "print(logit2017H1_Inter.summary2())"
   ]
  },
  {
   "cell_type": "code",
   "execution_count": 30,
   "metadata": {},
   "outputs": [
    {
     "name": "stdout",
     "output_type": "stream",
     "text": [
      "         Logit Marginal Effects        \n",
      "=======================================\n",
      "Dep. Variable:     DV_hasContradictions\n",
      "Method:                            dydx\n",
      "At:                             overall\n",
      "=========================================================================================\n",
      "                           dy/dx    std err          z      P>|z|      [0.025      0.975]\n",
      "-----------------------------------------------------------------------------------------\n",
      "PIdSuccess                0.0056      0.000     31.410      0.000       0.005       0.006\n",
      "GEVSuccess                0.0089      0.000     54.448      0.000       0.009       0.009\n",
      "PIdSuccess:GEVSuccess    -0.0002   2.71e-06    -62.775      0.000      -0.000      -0.000\n",
      "PIdFailure                0.1414      0.007     20.022      0.000       0.128       0.155\n",
      "GEVFailure               -0.0462      0.008     -5.902      0.000      -0.062      -0.031\n",
      "=========================================================================================\n"
     ]
    }
   ],
   "source": [
    "#logit marginal effects\n",
    "LME2017H1 = logit2017H1_Inter.get_margeff()\n",
    "print(LME2017H1.summary())"
   ]
  },
  {
   "cell_type": "markdown",
   "metadata": {},
   "source": [
    "Дальше эта картинка вместо 1000 слов"
   ]
  },
  {
   "cell_type": "code",
   "execution_count": 31,
   "metadata": {},
   "outputs": [
    {
     "data": {
      "image/png": "[encoded data removed]",
      "text/plain": [
       "<IPython.core.display.Image object>"
      ]
     },
     "execution_count": 31,
     "metadata": {
      "image/png": {
       "width": "50%"
      }
     },
     "output_type": "execute_result"
    }
   ],
   "source": [
    "Image('interaction.png', width='50%')"
   ]
  },
  {
   "cell_type": "markdown",
   "metadata": {},
   "source": [
    "Для интрепретации посчитаем предельные эффекты"
   ]
  },
  {
   "cell_type": "markdown",
   "metadata": {},
   "source": [
    "Теперь коэффициенты говорят о том, на сколько (в среднем) увеличивается вероятность успеха при увеличении на единицу независимой переменной"
   ]
  },
  {
   "cell_type": "markdown",
   "metadata": {},
   "source": [
    "Подсчитаем пороговое значение, при котором увеличение partyIdSuccess не увеличивает вероятность<br>\n",
    "<div align = 'center'>\n",
    "partyIdSuccess = $\\beta_1$ + $\\beta_3$ * generalElectionVoteSuccess\n",
    "</div>\n",
    "<div align = 'center'>\n",
    "partyIdSuccess = 0.0056 + (-0.0002) * generalElectionVoteSuccess\n",
    "</div>\n",
    "<div align = 'center'>\n",
    "0 = 0.0056 + (-0.0002) * generalElectionVoteSuccess\n",
    "</div>\n",
    "<div align = 'center', style='margin: 20px'>\n",
    "generalElectionVoteSuccess = $\\frac{0.005550522018638351}{0.00017029773201904033}$\n",
    "</div>\n",
    "<div align = 'center'>\n",
    "generalElectionVoteSuccess $\\approx$ 33 \n",
    "</div>"
   ]
  },
  {
   "cell_type": "code",
   "execution_count": 32,
   "metadata": {},
   "outputs": [
    {
     "data": {
      "text/plain": [
       "32.5930472052192"
      ]
     },
     "execution_count": 32,
     "metadata": {},
     "output_type": "execute_result"
    }
   ],
   "source": [
    "- LME2017H1.margeff[0]/LME2017H1.margeff[2]"
   ]
  },
  {
   "cell_type": "markdown",
   "metadata": {},
   "source": [
    "При generalElectionVoteSuccess = 32.6 => увеличение partyIdSuccess не изменяет вероятность.\n",
    "\n",
    "При generalElectionVoteSuccess < 32.6 => увеличение partyIdSuccess увеличивает вероятность.\n",
    "\n",
    "При generalElectionVoteSuccess > 32.6 => увеличение partyIdSuccess уменьшает вероятность."
   ]
  },
  {
   "cell_type": "markdown",
   "metadata": {},
   "source": [
    "#### 2015"
   ]
  },
  {
   "cell_type": "markdown",
   "metadata": {},
   "source": [
    "Без интеракции"
   ]
  },
  {
   "cell_type": "code",
   "execution_count": 33,
   "metadata": {},
   "outputs": [
    {
     "name": "stdout",
     "output_type": "stream",
     "text": [
      "Optimization terminated successfully.\n",
      "         Current function value: 0.459039\n",
      "         Iterations 6\n",
      "                            Results: Logit\n",
      "======================================================================\n",
      "Model:              Logit                Pseudo R-squared: 0.054      \n",
      "Dependent Variable: DV_hasContradictions AIC:              19263.9314 \n",
      "Date:               2019-04-30 22:09     BIC:              19303.6861 \n",
      "No. Observations:   20972                Log-Likelihood:   -9627.0    \n",
      "Df Model:           4                    LL-Null:          -10171.    \n",
      "Df Residuals:       20967                LLR p-value:      1.9913e-234\n",
      "Converged:          1.0000               Scale:            1.0000     \n",
      "No. Iterations:     6.0000                                            \n",
      "------------------------------------------------------------------------\n",
      "               Coef.    Std.Err.      z       P>|z|     [0.025    0.975]\n",
      "------------------------------------------------------------------------\n",
      "Intercept     -0.6606     0.0394   -16.7754   0.0000   -0.7378   -0.5834\n",
      "PIdSuccess    -0.0234     0.0010   -24.1241   0.0000   -0.0253   -0.0215\n",
      "GEVSuccess     0.0075     0.0010     7.4615   0.0000    0.0055    0.0094\n",
      "PIdFailure    -0.4882     0.1015    -4.8084   0.0000   -0.6872   -0.2892\n",
      "GEVFailure     1.0356     0.0968    10.6977   0.0000    0.8459    1.2253\n",
      "======================================================================\n",
      "\n"
     ]
    }
   ],
   "source": [
    "logit2015H1_NoInter = smf.logit(formula=formulaH1_NoInter, data = dataW04).fit()\n",
    "print(logit2015H1_NoInter.summary2())"
   ]
  },
  {
   "cell_type": "markdown",
   "metadata": {},
   "source": [
    "with interaction"
   ]
  },
  {
   "cell_type": "code",
   "execution_count": 34,
   "metadata": {},
   "outputs": [
    {
     "name": "stdout",
     "output_type": "stream",
     "text": [
      "Optimization terminated successfully.\n",
      "         Current function value: 0.367348\n",
      "         Iterations 7\n",
      "                            Results: Logit\n",
      "======================================================================\n",
      "Model:               Logit                Pseudo R-squared: 0.243     \n",
      "Dependent Variable:  DV_hasContradictions AIC:              15420.0510\n",
      "Date:                2019-04-30 22:10     BIC:              15467.7566\n",
      "No. Observations:    20972                Log-Likelihood:   -7704.0   \n",
      "Df Model:            5                    LL-Null:          -10171.   \n",
      "Df Residuals:        20966                LLR p-value:      0.0000    \n",
      "Converged:           1.0000               Scale:            1.0000    \n",
      "No. Iterations:      7.0000                                           \n",
      "----------------------------------------------------------------------\n",
      "                       Coef.  Std.Err.    z     P>|z|   [0.025  0.975]\n",
      "----------------------------------------------------------------------\n",
      "Intercept             -3.6482   0.0907 -40.2325 0.0000 -3.8259 -3.4704\n",
      "PIdSuccess             0.0633   0.0020  31.5732 0.0000  0.0593  0.0672\n",
      "GEVSuccess             0.0768   0.0020  38.7234 0.0000  0.0729  0.0806\n",
      "PIdSuccess:GEVSuccess -0.0016   0.0000 -47.2742 0.0000 -0.0017 -0.0016\n",
      "PIdFailure            -0.4083   0.1073  -3.8052 0.0001 -0.6185 -0.1980\n",
      "GEVFailure             1.0468   0.1038  10.0872 0.0000  0.8434  1.2502\n",
      "======================================================================\n",
      "\n"
     ]
    }
   ],
   "source": [
    "logit2015H1_Inter = smf.logit(formula=formulaH1_Inter, data = dataW04.rename(columns = {\"generalElectionVoteSuccess\": \"GEVSuccess\", \"generalElectionVoteFailure\": \"GEVFailure\"}, inplace=False)).fit()\n",
    "print(logit2015H1_Inter.summary2())"
   ]
  },
  {
   "cell_type": "markdown",
   "metadata": {},
   "source": [
    "Предельные эффекты"
   ]
  },
  {
   "cell_type": "code",
   "execution_count": 35,
   "metadata": {},
   "outputs": [
    {
     "name": "stdout",
     "output_type": "stream",
     "text": [
      "         Logit Marginal Effects        \n",
      "=======================================\n",
      "Dep. Variable:     DV_hasContradictions\n",
      "Method:                            dydx\n",
      "At:                             overall\n",
      "=========================================================================================\n",
      "                           dy/dx    std err          z      P>|z|      [0.025      0.975]\n",
      "-----------------------------------------------------------------------------------------\n",
      "PIdSuccess                0.0074      0.000     33.780      0.000       0.007       0.008\n",
      "GEVSuccess                0.0089      0.000     43.783      0.000       0.009       0.009\n",
      "PIdSuccess:GEVSuccess    -0.0002   3.38e-06    -56.404      0.000      -0.000      -0.000\n",
      "PIdFailure               -0.0476      0.012     -3.810      0.000      -0.072      -0.023\n",
      "GEVFailure                0.1219      0.012     10.191      0.000       0.098       0.145\n",
      "=========================================================================================\n"
     ]
    }
   ],
   "source": [
    "LME2015H1 = logit2015H1_Inter.get_margeff()\n",
    "print(LME2015H1.summary())"
   ]
  },
  {
   "cell_type": "code",
   "execution_count": 36,
   "metadata": {},
   "outputs": [
    {
     "data": {
      "text/plain": [
       "38.61530869349035"
      ]
     },
     "execution_count": 36,
     "metadata": {},
     "output_type": "execute_result"
    }
   ],
   "source": [
    "- LME2015H1.margeff[0]/LME2015H1.margeff[2]"
   ]
  },
  {
   "cell_type": "markdown",
   "metadata": {},
   "source": [
    "По 15 году объяснительная сила моделей слабее почти в 2 раза"
   ]
  },
  {
   "cell_type": "markdown",
   "metadata": {},
   "source": [
    "#### Результаты"
   ]
  },
  {
   "cell_type": "markdown",
   "metadata": {},
   "source": [
    "$H_1$ подтвердилась.\n",
    "Это было показано при помощи логистической регрессии.\n",
    "\n",
    "Появились намёки на вторую гипотезу."
   ]
  },
  {
   "cell_type": "markdown",
   "metadata": {},
   "source": [
    "## Гипотеза 2: signal voting"
   ]
  },
  {
   "cell_type": "markdown",
   "metadata": {},
   "source": [
    "Во время подтверждения гипотезы №1, было выявленно, что существует группа людей, которые имеют партийную принадлежность, голосуют за другую партию, хотя даже мало верят в её успех (думают, что её шансы меньше $\\frac{1}{3}$).\n",
    "\n",
    "Это может выглядеть странным на первый взгляд, но вовзращаюясь к теоретической рамке исследования и гипотезам - это подозрение на $H_2$"
   ]
  },
  {
   "cell_type": "markdown",
   "metadata": {},
   "source": [
    "Отсечём эту категорию населения и изучим поподробнее"
   ]
  },
  {
   "cell_type": "markdown",
   "metadata": {},
   "source": [
    "### 2017"
   ]
  },
  {
   "cell_type": "code",
   "execution_count": 37,
   "metadata": {},
   "outputs": [],
   "source": [
    "signalVotingW12 = dataW12[['partyId', 'GEV','bestOnMII', 'small_mii_cat',\n",
    "                           'PIdSuccess', 'GEVSuccess']]"
   ]
  },
  {
   "cell_type": "markdown",
   "metadata": {},
   "source": [
    "Отсекаем ситуацию, когда в победу своей партии избиратель верит больше, чем за которую голосует"
   ]
  },
  {
   "cell_type": "code",
   "execution_count": 38,
   "metadata": {},
   "outputs": [],
   "source": [
    "signalVotingW12 = signalVotingW12[signalVotingW12['PIdSuccess'] > signalVotingW12['GEVSuccess']]\n",
    "signalVotingW12 = signalVotingW12.reset_index(drop = True)"
   ]
  },
  {
   "cell_type": "markdown",
   "metadata": {},
   "source": [
    "Считаем самые крупные вариации комбинаций partyId и generalElectionVote в полученной subsample"
   ]
  },
  {
   "cell_type": "code",
   "execution_count": 39,
   "metadata": {},
   "outputs": [
    {
     "data": {
      "application/vnd.jupyter.widget-view+json": {
       "model_id": "bda4db710a654b19a1dcec0435515af4",
       "version_major": 2,
       "version_minor": 0
      },
      "text/plain": [
       "HBox(children=(IntProgress(value=0, max=1284), HTML(value='')))"
      ]
     },
     "metadata": {},
     "output_type": "display_data"
    },
    {
     "name": "stdout",
     "output_type": "stream",
     "text": [
      "\n"
     ]
    },
    {
     "data": {
      "text/plain": [
       "1284"
      ]
     },
     "execution_count": 39,
     "metadata": {},
     "output_type": "execute_result"
    }
   ],
   "source": [
    "def create_PIDvsGEV(data, sep='vs', labelBar=''):\n",
    "    data = data.reset_index(drop=True)\n",
    "    for row in tqdm_notebook(range(len(data)), desc = labelBar):\n",
    "        data.loc[row, 'PIDvsGEV'] = data.loc[row, 'partyId'] + ' ' + sep + ' ' + data.loc[row, 'GEV']\n",
    "    return data\n",
    "\n",
    "signalVotingW12 = create_PIDvsGEV(signalVotingW12)\n",
    "len(signalVotingW12)"
   ]
  },
  {
   "cell_type": "markdown",
   "metadata": {},
   "source": [
    "Оставляем самые крупные кейсы и самые крупные категории (выводить на график категории со значениями близкими к нулю нет смысла"
   ]
  },
  {
   "cell_type": "code",
   "execution_count": 40,
   "metadata": {},
   "outputs": [
    {
     "name": "stdout",
     "output_type": "stream",
     "text": [
      "Labour vs Liberal Democrat                                  0.180685\n",
      "Labour vs Conservative                                      0.163551\n",
      "Conservative vs Liberal Democrat                            0.148754\n",
      "Conservative vs Labour                                      0.098131\n",
      "Conservative vs United Kingdom Independence Party (UKIP)    0.086449\n",
      "Labour vs United Kingdom Independence Party (UKIP)          0.062305\n",
      "Labour vs Green Party                                       0.052181\n",
      "Name: PIDvsGEV, dtype: float64\n"
     ]
    }
   ],
   "source": [
    "print(signalVotingW12.PIDvsGEV.value_counts()[:7] / len(signalVotingW12))\n",
    "largestCasesSV12 = list(signalVotingW12.PIDvsGEV.value_counts()[:7].index)\n",
    "largestMMI = ['Health', 'Terrorism', 'Economy', 'Immigration', 'Europe']"
   ]
  },
  {
   "cell_type": "markdown",
   "metadata": {},
   "source": [
    "Считаем процент каждой категории MMI в каждой паре партий (Идеологически близка vs голосую)"
   ]
  },
  {
   "cell_type": "code",
   "execution_count": 41,
   "metadata": {
    "code_folding": [
     0
    ]
   },
   "outputs": [],
   "source": [
    "def groupbySV_partyMII(data):\n",
    "    data = data[['partyId', 'GEV', 'small_mii_cat']]\n",
    "    aggregation = {\n",
    "        'small_mii_cat': 'count'\n",
    "    }\n",
    "\n",
    "    def percentageCategory(x):\n",
    "        x['miiPercentage'] = x['freq'] / x['freq'].sum()\n",
    "        return x\n",
    "\n",
    "    data = data.groupby(['partyId', 'GEV', 'small_mii_cat']).agg(aggregation).rename(columns = {'small_mii_cat': 'freq'})\n",
    "    return data.groupby(['partyId', 'GEV']).apply(percentageCategory).reset_index()"
   ]
  },
  {
   "cell_type": "code",
   "execution_count": 42,
   "metadata": {},
   "outputs": [
    {
     "data": {
      "application/vnd.jupyter.widget-view+json": {
       "model_id": "3dc5001d062a4fffacfa83938885f539",
       "version_major": 2,
       "version_minor": 0
      },
      "text/plain": [
       "HBox(children=(IntProgress(value=0, max=175), HTML(value='')))"
      ]
     },
     "metadata": {},
     "output_type": "display_data"
    },
    {
     "name": "stdout",
     "output_type": "stream",
     "text": [
      "\n"
     ]
    }
   ],
   "source": [
    "SV12groupby = groupbySV_partyMII(signalVotingW12)\n",
    "\n",
    "SV12groupby = create_PIDvsGEV(SV12groupby)\n",
    "SV12groupby = SV12groupby[(SV12groupby['PIDvsGEV'].isin(largestCasesSV12)) & (SV12groupby['small_mii_cat'].isin(largestMMI))]"
   ]
  },
  {
   "cell_type": "markdown",
   "metadata": {},
   "source": [
    "Сокращаем длинные названия партия до аббревиатур для графика"
   ]
  },
  {
   "cell_type": "code",
   "execution_count": 43,
   "metadata": {
    "code_folding": [
     0
    ]
   },
   "outputs": [
    {
     "data": {
      "application/vnd.jupyter.widget-view+json": {
       "model_id": "4ecfe40379184d0b8d362f39e6c13595",
       "version_major": 2,
       "version_minor": 0
      },
      "text/plain": [
       "HBox(children=(IntProgress(value=0, max=35), HTML(value='')))"
      ]
     },
     "metadata": {},
     "output_type": "display_data"
    },
    {
     "name": "stdout",
     "output_type": "stream",
     "text": [
      "\n"
     ]
    }
   ],
   "source": [
    "party_abbr = {\"Conservative\" : \"Con\", \"Labour\": \"Lab\", \"Liberal Democrat\": \"LD\",\n",
    "                          \"Green Party\": \"Grn\", \"United Kingdom Independence Party (UKIP)\": \"UKIP\",\n",
    "                          \"Scottish National Party (SNP)\": \"SNP\", \"Plaid Cymru\": \"PC\"}\n",
    "SV12groupby = SV12groupby.replace(party_abbr)\n",
    "SV12groupby = create_PIDvsGEV(SV12groupby, sep='>>>')\n",
    "\n",
    "SV12groupby['small_mii_cat'] = SV12groupby['small_mii_cat'].astype('str')"
   ]
  },
  {
   "cell_type": "markdown",
   "metadata": {},
   "source": [
    "#### bar"
   ]
  },
  {
   "cell_type": "code",
   "execution_count": 44,
   "metadata": {},
   "outputs": [
    {
     "data": {
      "image/png": "[encoded data removed]",
      "text/plain": [
       "<Figure size 1152x576 with 1 Axes>"
      ]
     },
     "metadata": {
      "needs_background": "light"
     },
     "output_type": "display_data"
    }
   ],
   "source": [
    "import seaborn as sns\n",
    "colors = [\"gold\", \"red\", \"royalblue\", \"faded green\", \"dusty purple\"]\n",
    "def SVbarplot(df, listOrder = None):\n",
    "    fig, ax = plt.subplots()\n",
    "    fig.set_size_inches(16,8)\n",
    "    sns.barplot(x = 'PIDvsGEV', y='miiPercentage', data=df, hue='small_mii_cat', ax=ax,\n",
    "                order=listOrder, palette = sns.color_palette(\"Set1\", 5))\n",
    "    ax.legend(fontsize = 'x-large')\n",
    "    ax.set(xlabel='Идеологически близкая партия >>> Партия, за которую голосую', ylabel='%')\n",
    "\n",
    "SVbarplot(SV12groupby, listOrder = ['Con >>> LD', 'Lab >>> LD', 'Con >>> UKIP', 'Lab >>> UKIP',\n",
    "                       'Lab >>> Grn', 'Lab >>> Con', 'Con >>> Lab'])\n",
    "plt.savefig('sv2017.png', dpi=300, transparent=True, bbox_inches='tight', pad_inches=0.1);"
   ]
  },
  {
   "cell_type": "markdown",
   "metadata": {},
   "source": [
    "<hr>"
   ]
  },
  {
   "cell_type": "markdown",
   "metadata": {},
   "source": [
    "### 2015"
   ]
  },
  {
   "cell_type": "code",
   "execution_count": 45,
   "metadata": {},
   "outputs": [
    {
     "data": {
      "application/vnd.jupyter.widget-view+json": {
       "model_id": "bed2d1bce7e84c5ba2b01ab9477ed83f",
       "version_major": 2,
       "version_minor": 0
      },
      "text/plain": [
       "HBox(children=(IntProgress(value=0, max=1784), HTML(value='')))"
      ]
     },
     "metadata": {},
     "output_type": "display_data"
    },
    {
     "name": "stdout",
     "output_type": "stream",
     "text": [
      "\n"
     ]
    },
    {
     "data": {
      "text/plain": [
       "1784"
      ]
     },
     "execution_count": 45,
     "metadata": {},
     "output_type": "execute_result"
    }
   ],
   "source": [
    "signalVotingW04 = dataW04[['partyId', 'GEV','bestOnMII', 'small_mii_cat',\n",
    "                           'PIdSuccess', 'GEVSuccess']]\n",
    "\n",
    "signalVotingW04 = signalVotingW04[signalVotingW04['PIdSuccess'] > signalVotingW04['GEVSuccess']]\n",
    "signalVotingW04 = create_PIDvsGEV(signalVotingW04)\n",
    "len(signalVotingW04)"
   ]
  },
  {
   "cell_type": "code",
   "execution_count": 46,
   "metadata": {},
   "outputs": [
    {
     "name": "stdout",
     "output_type": "stream",
     "text": [
      "Conservative vs United Kingdom Independence Party (UKIP)    0.341928\n",
      "Labour vs United Kingdom Independence Party (UKIP)          0.173767\n",
      "Labour vs Green Party                                       0.113229\n",
      "Labour vs Conservative                                      0.063901\n",
      "Liberal Democrat vs Green Party                             0.040919\n",
      "Name: PIDvsGEV, dtype: float64\n"
     ]
    }
   ],
   "source": [
    "print((signalVotingW04.PIDvsGEV.value_counts()/ len(signalVotingW04))[0:5])\n",
    "largestCasesSV04 = list(signalVotingW04.PIDvsGEV.value_counts()[:5].index)\n",
    "largestMMI04 = ['Health', 'Terrorism', 'Economy', 'Immigration', 'Inequality']"
   ]
  },
  {
   "cell_type": "code",
   "execution_count": 47,
   "metadata": {},
   "outputs": [
    {
     "data": {
      "application/vnd.jupyter.widget-view+json": {
       "model_id": "0d1503008a6d4c4692a6c6ece1ac80c4",
       "version_major": 2,
       "version_minor": 0
      },
      "text/plain": [
       "HBox(children=(IntProgress(value=0, max=192), HTML(value='')))"
      ]
     },
     "metadata": {},
     "output_type": "display_data"
    },
    {
     "name": "stdout",
     "output_type": "stream",
     "text": [
      "\n"
     ]
    },
    {
     "data": {
      "application/vnd.jupyter.widget-view+json": {
       "model_id": "350602cc2d074919a37c1cc6867bf3fb",
       "version_major": 2,
       "version_minor": 0
      },
      "text/plain": [
       "HBox(children=(IntProgress(value=0, max=25), HTML(value='')))"
      ]
     },
     "metadata": {},
     "output_type": "display_data"
    },
    {
     "name": "stdout",
     "output_type": "stream",
     "text": [
      "\n"
     ]
    }
   ],
   "source": [
    "SV04groupby = groupbySV_partyMII(signalVotingW04)\n",
    "SV04groupby = create_PIDvsGEV(SV04groupby)\n",
    "SV04groupby = SV04groupby[(SV04groupby['PIDvsGEV'].isin(largestCasesSV04)) & (SV04groupby['small_mii_cat'].isin(largestMMI04))]\n",
    "\n",
    "SV04groupby = SV04groupby.replace(party_abbr)\n",
    "\n",
    "SV04groupby = create_PIDvsGEV(SV04groupby, sep='>>>')\n",
    "\n",
    "SV04groupby['small_mii_cat'] = SV04groupby['small_mii_cat'].astype('str')"
   ]
  },
  {
   "cell_type": "markdown",
   "metadata": {},
   "source": [
    "#### bar"
   ]
  },
  {
   "cell_type": "code",
   "execution_count": 48,
   "metadata": {},
   "outputs": [
    {
     "data": {
      "image/png": "[encoded data removed]",
      "text/plain": [
       "<Figure size 1152x576 with 1 Axes>"
      ]
     },
     "metadata": {
      "needs_background": "light"
     },
     "output_type": "display_data"
    }
   ],
   "source": [
    "SVbarplot(SV04groupby, listOrder=['Con >>> UKIP','Lab >>> UKIP',\n",
    "                                  'Lab >>> Grn', 'LD >>> Grn', 'Lab >>> Con'])\n",
    "plt.savefig('sv2015.png', dpi=300, transparent=True, bbox_inches='tight', pad_inches=0.1);"
   ]
  },
  {
   "cell_type": "markdown",
   "metadata": {},
   "source": [
    "## Гипотеза 3: экономическое голосование"
   ]
  },
  {
   "cell_type": "markdown",
   "metadata": {},
   "source": [
    "* changeEconomy - Do you think that Economy is getting better, getting worse or staying about the same?\n",
    "\n",
    "* econPersonalRetro - How does the *financial situation of your household* now compare with what it was 12 months ago?\n",
    "\n",
    "* econGenRetro - How do you think the *general economic situation in this country* has changed over the *last 12 months*?"
   ]
  },
  {
   "cell_type": "markdown",
   "metadata": {},
   "source": [
    "### 2017"
   ]
  },
  {
   "cell_type": "markdown",
   "metadata": {},
   "source": [
    "* isPartyIdCon - является ли партия, которая близка идеологически избирателю, партией Консерваторов"
   ]
  },
  {
   "cell_type": "code",
   "execution_count": 50,
   "metadata": {
    "code_folding": [
     0
    ]
   },
   "outputs": [],
   "source": [
    "def create_isConservative(data):\n",
    "    for row in tqdm_notebook(range(len(data))):\n",
    "        if data.loc[row, \"partyId\"] == 'Conservative':\n",
    "            data.loc[row, 'isPIdCon'] = 1\n",
    "        else:\n",
    "            data.loc[row, 'isPIdCon'] = 0\n",
    "    return data"
   ]
  },
  {
   "cell_type": "code",
   "execution_count": 51,
   "metadata": {},
   "outputs": [
    {
     "data": {
      "application/vnd.jupyter.widget-view+json": {
       "model_id": "1ba3b1232fa743a0a4145966ddba26a9",
       "version_major": 2,
       "version_minor": 0
      },
      "text/plain": [
       "HBox(children=(IntProgress(value=0, max=24368), HTML(value='')))"
      ]
     },
     "metadata": {},
     "output_type": "display_data"
    },
    {
     "name": "stdout",
     "output_type": "stream",
     "text": [
      "\n"
     ]
    }
   ],
   "source": [
    "dataW12 = create_isConservative(dataW12)"
   ]
  },
  {
   "cell_type": "code",
   "execution_count": 52,
   "metadata": {},
   "outputs": [],
   "source": [
    "economicVoting12 = dataW12[['partyId', 'GEV', 'DV_hasContradictions',\n",
    "                            'PIdSuccess', 'GEVSuccess',\n",
    "                            'PIdFailure', 'GEVFailure',\n",
    "                            'changeEconomy', 'econPersonal', 'econGen', 'isPIdCon']]"
   ]
  },
  {
   "cell_type": "code",
   "execution_count": 53,
   "metadata": {},
   "outputs": [
    {
     "name": "stdout",
     "output_type": "stream",
     "text": [
      "Optimization terminated successfully.\n",
      "         Current function value: 0.465028\n",
      "         Iterations 7\n",
      "                                 Results: Logit\n",
      "=================================================================================\n",
      "Model:                  Logit                    Pseudo R-squared:     0.115     \n",
      "Dependent Variable:     DV_hasContradictions     AIC:                  22156.3667\n",
      "Date:                   2019-04-30 22:11         BIC:                  22188.6789\n",
      "No. Observations:       23814                    Log-Likelihood:       -11074.   \n",
      "Df Model:               3                        LL-Null:              -12512.   \n",
      "Df Residuals:           23810                    LLR p-value:          0.0000    \n",
      "Converged:              1.0000                   Scale:                1.0000    \n",
      "No. Iterations:         7.0000                                                   \n",
      "---------------------------------------------------------------------------------\n",
      "                                  Coef.  Std.Err.    z     P>|z|   [0.025  0.975]\n",
      "---------------------------------------------------------------------------------\n",
      "Intercept                        -0.4408   0.0229 -19.2583 0.0000 -0.4857 -0.3959\n",
      "C(isPIdCon)[T.1.0]               -2.0504   0.0480 -42.7245 0.0000 -2.1445 -1.9564\n",
      "changeEconomy                     0.5045   0.0194  25.9724 0.0000  0.4664  0.5426\n",
      "C(isPIdCon)[T.1.0]:changeEconomy -1.3007   0.0472 -27.5512 0.0000 -1.3933 -1.2082\n",
      "=================================================================================\n",
      "\n"
     ]
    }
   ],
   "source": [
    "logit2017EV = smf.logit(formula='DV_hasContradictions ~ C(isPIdCon)*changeEconomy', data = economicVoting12).fit()\n",
    "print(logit2017EV.summary2())"
   ]
  },
  {
   "cell_type": "markdown",
   "metadata": {},
   "source": [
    "Посмотрим на людей, которые удовлетворены текущим состоянием экономики (но ассоциируют себя не с Консерваторами). А точнее только тех, кто головал вопреки предпочтения."
   ]
  },
  {
   "cell_type": "code",
   "execution_count": 54,
   "metadata": {},
   "outputs": [
    {
     "data": {
      "text/plain": [
       "Conservative                                81.951872\n",
       "Labour                                       7.085561\n",
       "Liberal Democrat                             4.545455\n",
       "United Kingdom Independence Party (UKIP)     2.941176\n",
       "Other                                        1.203209\n",
       "Scottish National Party (SNP)                1.069519\n",
       "Green Party                                  0.935829\n",
       "Plaid Cymru                                  0.267380\n",
       "Don't know                                   0.000000\n",
       "I would not vote                             0.000000\n",
       "Name: GEV, dtype: float64"
      ]
     },
     "execution_count": 54,
     "metadata": {},
     "output_type": "execute_result"
    }
   ],
   "source": [
    "evNotConPOS = economicVoting12[(economicVoting12['DV_hasContradictions'] == 1) & (economicVoting12['partyId'] != 'Conservative') & (economicVoting12['changeEconomy'] > 0)]\n",
    "(evNotConPOS['GEV'].value_counts() / len(evNotConPOS)) * 100"
   ]
  },
  {
   "cell_type": "code",
   "execution_count": 55,
   "metadata": {},
   "outputs": [
    {
     "data": {
      "text/plain": [
       "Conservative                                96.8750\n",
       "United Kingdom Independence Party (UKIP)     1.5625\n",
       "Labour                                       1.5625\n",
       "Don't know                                   0.0000\n",
       "Other                                        0.0000\n",
       "Green Party                                  0.0000\n",
       "Plaid Cymru                                  0.0000\n",
       "Scottish National Party (SNP)                0.0000\n",
       "Liberal Democrat                             0.0000\n",
       "I would not vote                             0.0000\n",
       "Name: GEV, dtype: float64"
      ]
     },
     "execution_count": 55,
     "metadata": {},
     "output_type": "execute_result"
    }
   ],
   "source": [
    "evNotConOnly2 = economicVoting12[(economicVoting12['DV_hasContradictions'] == 1) & (economicVoting12['partyId'] != 'Conservative') & (economicVoting12['changeEconomy'] > 1)]\n",
    "(evNotConOnly2['GEV'].value_counts() / len(evNotConOnly2)) * 100"
   ]
  },
  {
   "cell_type": "markdown",
   "metadata": {},
   "source": [
    "### 2015"
   ]
  },
  {
   "cell_type": "code",
   "execution_count": 56,
   "metadata": {},
   "outputs": [
    {
     "data": {
      "application/vnd.jupyter.widget-view+json": {
       "model_id": "401e24521da34595b52cdcd4cf05d91f",
       "version_major": 2,
       "version_minor": 0
      },
      "text/plain": [
       "HBox(children=(IntProgress(value=0, max=22802), HTML(value='')))"
      ]
     },
     "metadata": {},
     "output_type": "display_data"
    },
    {
     "name": "stdout",
     "output_type": "stream",
     "text": [
      "\n"
     ]
    }
   ],
   "source": [
    "dataW04 = create_isConservative(dataW04)"
   ]
  },
  {
   "cell_type": "code",
   "execution_count": 57,
   "metadata": {},
   "outputs": [],
   "source": [
    "economicVoting04 = dataW04[['partyId', 'GEV', 'DV_hasContradictions',\n",
    "                            'PIdSuccess', 'GEVSuccess', 'PIdFailure', 'GEVFailure',\n",
    "                            'changeEconomy', 'econPersonal', 'econGen', 'isPIdCon']]"
   ]
  },
  {
   "cell_type": "code",
   "execution_count": 58,
   "metadata": {},
   "outputs": [
    {
     "name": "stdout",
     "output_type": "stream",
     "text": [
      "Optimization terminated successfully.\n",
      "         Current function value: 0.491393\n",
      "         Iterations 6\n",
      "                                 Results: Logit\n",
      "=================================================================================\n",
      "Model:                   Logit                   Pseudo R-squared:    0.023      \n",
      "Dependent Variable:      DV_hasContradictions    AIC:                 22008.6616 \n",
      "Date:                    2019-04-30 22:12        BIC:                 22040.7264 \n",
      "No. Observations:        22386                   Log-Likelihood:      -11000.    \n",
      "Df Model:                3                       LL-Null:             -11258.    \n",
      "Df Residuals:            22382                   LLR p-value:         1.6150e-111\n",
      "Converged:               1.0000                  Scale:               1.0000     \n",
      "No. Iterations:          6.0000                                                  \n",
      "---------------------------------------------------------------------------------\n",
      "                                  Coef.  Std.Err.    z     P>|z|   [0.025  0.975]\n",
      "---------------------------------------------------------------------------------\n",
      "Intercept                        -1.2654   0.0203 -62.3793 0.0000 -1.3051 -1.2256\n",
      "C(isPIdCon)[T.1.0]                0.2426   0.0439   5.5275 0.0000  0.1566  0.3286\n",
      "changeEconomy                     0.2474   0.0198  12.4732 0.0000  0.2085  0.2863\n",
      "C(isPIdCon)[T.1.0]:changeEconomy -0.8796   0.0406 -21.6737 0.0000 -0.9592 -0.8001\n",
      "=================================================================================\n",
      "\n"
     ]
    }
   ],
   "source": [
    "logit2015EV = smf.logit(formula='DV_hasContradictions ~ C(isPIdCon)*changeEconomy', data = economicVoting04).fit()\n",
    "print(logit2015EV.summary2())"
   ]
  },
  {
   "cell_type": "markdown",
   "metadata": {},
   "source": [
    "Посмотрим на людей, которые удовлетворены текущим состоянием экономики (но ассоциируют себя не с Консерваторами). А точнее только тех, кто головал вопреки предпочтения."
   ]
  },
  {
   "cell_type": "code",
   "execution_count": 59,
   "metadata": {},
   "outputs": [
    {
     "data": {
      "text/plain": [
       "Conservative                                43.122363\n",
       "United Kingdom Independence Party (UKIP)    18.143460\n",
       "Labour                                      13.080169\n",
       "Green Party                                  9.198312\n",
       "Liberal Democrat                             8.016878\n",
       "Scottish National Party (SNP)                6.075949\n",
       "Plaid Cymru                                  1.181435\n",
       "Other                                        1.012658\n",
       "British National Party (BNP)                 0.168776\n",
       "Don't know                                   0.000000\n",
       "I would not vote                             0.000000\n",
       "Name: GEV, dtype: float64"
      ]
     },
     "execution_count": 59,
     "metadata": {},
     "output_type": "execute_result"
    }
   ],
   "source": [
    "evNotConPOS04 = economicVoting04[(economicVoting04['DV_hasContradictions'] == 1) & (economicVoting04['partyId'] != 'Conservative') & (economicVoting04['changeEconomy'] > 0)]\n",
    "(evNotConPOS04['GEV'].value_counts() / len(evNotConPOS04)) * 100"
   ]
  },
  {
   "cell_type": "code",
   "execution_count": 60,
   "metadata": {},
   "outputs": [
    {
     "data": {
      "text/plain": [
       "Conservative                                79.591837\n",
       "United Kingdom Independence Party (UKIP)     9.183673\n",
       "Labour                                       5.102041\n",
       "Liberal Democrat                             3.061224\n",
       "Scottish National Party (SNP)                2.040816\n",
       "Plaid Cymru                                  1.020408\n",
       "Don't know                                   0.000000\n",
       "Other                                        0.000000\n",
       "British National Party (BNP)                 0.000000\n",
       "Green Party                                  0.000000\n",
       "I would not vote                             0.000000\n",
       "Name: GEV, dtype: float64"
      ]
     },
     "execution_count": 60,
     "metadata": {},
     "output_type": "execute_result"
    }
   ],
   "source": [
    "evNotConOnlyTwo04 = economicVoting04[(economicVoting04['DV_hasContradictions'] == 1) & (economicVoting04['partyId'] != 'Conservative') & (economicVoting04['changeEconomy'] > 1)]\n",
    "(evNotConOnlyTwo04['GEV'].value_counts() / len(evNotConOnlyTwo04)) * 100"
   ]
  },
  {
   "cell_type": "markdown",
   "metadata": {},
   "source": [
    "## Модель, включающая гипотезу 1 и 3"
   ]
  },
  {
   "cell_type": "markdown",
   "metadata": {},
   "source": [
    "### Accuracy metrics. Predictions. 2017"
   ]
  },
  {
   "cell_type": "code",
   "execution_count": 61,
   "metadata": {},
   "outputs": [
    {
     "name": "stdout",
     "output_type": "stream",
     "text": [
      "Optimization terminated successfully.\n",
      "         Current function value: 0.288922\n",
      "         Iterations 8\n",
      "                                 Results: Logit\n",
      "=================================================================================\n",
      "Model:                  Logit                    Pseudo R-squared:     0.435     \n",
      "Dependent Variable:     DV_hasContradictions     AIC:                  12699.5787\n",
      "Date:                   2019-04-30 22:12         BIC:                  12795.5293\n",
      "No. Observations:       21936                    Log-Likelihood:       -6337.8   \n",
      "Df Model:               11                       LL-Null:              -11227.   \n",
      "Df Residuals:           21924                    LLR p-value:          0.0000    \n",
      "Converged:              1.0000                   Scale:                1.0000    \n",
      "No. Iterations:         8.0000                                                   \n",
      "---------------------------------------------------------------------------------\n",
      "                                  Coef.  Std.Err.    z     P>|z|   [0.025  0.975]\n",
      "---------------------------------------------------------------------------------\n",
      "Intercept                        -3.4787   0.1031 -33.7337 0.0000 -3.6809 -3.2766\n",
      "C(isPIdCon)[T.1.0]               -0.8739   0.0619 -14.1172 0.0000 -0.9952 -0.7526\n",
      "gender[T.Female]                 -0.1517   0.0455  -3.3331 0.0009 -0.2409 -0.0625\n",
      "country[T.Scotland]              -0.1126   0.0662  -1.6996 0.0892 -0.2424  0.0172\n",
      "country[T.Wales]                  0.0972   0.0812   1.1963 0.2316 -0.0620  0.2564\n",
      "PIdSuccess                        0.0587   0.0020  28.6239 0.0000  0.0546  0.0627\n",
      "GEVSuccess                        0.0935   0.0021  43.6356 0.0000  0.0893  0.0977\n",
      "PIdSuccess:GEVSuccess            -0.0018   0.0000 -48.6079 0.0000 -0.0018 -0.0017\n",
      "PIdFailure                        1.2615   0.0809  15.6013 0.0000  1.1030  1.4200\n",
      "GEVFailure                       -0.4316   0.0849  -5.0814 0.0000 -0.5981 -0.2651\n",
      "changeEconomy                     0.3887   0.0279  13.9443 0.0000  0.3340  0.4433\n",
      "C(isPIdCon)[T.1.0]:changeEconomy -1.1705   0.0594 -19.6935 0.0000 -1.2870 -1.0540\n",
      "=================================================================================\n",
      "\n"
     ]
    }
   ],
   "source": [
    "logit2017H_1_3 = smf.logit(formula='DV_hasContradictions ~ PIdSuccess * GEVSuccess + PIdFailure + GEVFailure + C(isPIdCon)*changeEconomy + gender + country', data = dataW12).fit()\n",
    "print(logit2017H_1_3.summary2())"
   ]
  },
  {
   "cell_type": "code",
   "execution_count": 62,
   "metadata": {},
   "outputs": [],
   "source": [
    "dataW12_4predict = dataW12[['DV_hasContradictions', 'PIdSuccess', 'GEVSuccess',\n",
    "                            'PIdFailure', 'GEVFailure',\n",
    "                            'isPIdCon', 'changeEconomy', 'gender', 'country']]\n",
    "dataW12_4predict = dataW12_4predict.dropna()\n",
    "predictedProb = logit2017H_1_3.predict(dataW12_4predict)"
   ]
  },
  {
   "cell_type": "code",
   "execution_count": 65,
   "metadata": {
    "code_folding": []
   },
   "outputs": [],
   "source": [
    "from sklearn.metrics import precision_recall_curve\n",
    "def Find_Optimal_Cutoff(target, predicted):\n",
    "    precisions, recalls, thresholds = precision_recall_curve(target, predicted)\n",
    "#     optimalIndex = np.argmax(2 * (precisions * recalls) / (precisions + recalls)) #f1-score\n",
    "    optimalIndex = np.argmin(np.abs(precisions - recalls)) #этот вариант находит пересечение двух кривых\n",
    "    return thresholds[optimalIndex]"
   ]
  },
  {
   "cell_type": "markdown",
   "metadata": {},
   "source": [
    "Оптимальный threshold может находится по-разному: roc-curve, f1-score или же пересечение precision-recall curve.\n",
    "\n",
    "Выбран последний вариант (btw: f1-score в данной точке равно 69, когда максильное значение всего лишь чуть больше полпроцентного пункта)"
   ]
  },
  {
   "cell_type": "code",
   "execution_count": 66,
   "metadata": {},
   "outputs": [
    {
     "name": "stdout",
     "output_type": "stream",
     "text": [
      "Optimal threshold is 0.342\n"
     ]
    }
   ],
   "source": [
    "optimal_threshold = Find_Optimal_Cutoff(dataW12_4predict['DV_hasContradictions'], predictedProb)\n",
    "print('Optimal threshold is', round(optimal_threshold, 3))"
   ]
  },
  {
   "cell_type": "code",
   "execution_count": 67,
   "metadata": {
    "code_folding": [
     0
    ]
   },
   "outputs": [
    {
     "data": {
      "image/png": "[encoded data removed]",
      "text/plain": [
       "<Figure size 864x360 with 1 Axes>"
      ]
     },
     "metadata": {
      "needs_background": "light"
     },
     "output_type": "display_data"
    }
   ],
   "source": [
    "def plot_prec_recall_vs_tresh(y_true, y_predProb):\n",
    "    precisions, recalls, thresholds = precision_recall_curve(y_true, y_predProb)\n",
    "    \n",
    "    OT_ind = np.argmin(np.abs(precisions - recalls))\n",
    "    optimal_threshold = thresholds[OT_ind]\n",
    "    precOT = precisions[OT_ind]\n",
    "#     recOT = recalls[OT_ind]\n",
    "    \n",
    "    plt.figure(figsize=(12,5))\n",
    "    plt.plot(thresholds, precisions[:-1], 'b-', linewidth = 2, label='precision')\n",
    "    plt.plot(thresholds, recalls[:-1], 'r-', linewidth = 2, label = 'recall')\n",
    "    plt.axvline(x=optimal_threshold, label = 'Optimal threshold', color='orange', linewidth=1, linestyle='--')\n",
    "    plt.axhline(y=precOT, color='grey', linewidth=0.5, linestyle='--')\n",
    "    \n",
    "    plt.xlabel('Threshold')\n",
    "    plt.xticks(np.append(np.arange(0,1,0.2), round(optimal_threshold, 2)))\n",
    "    plt.yticks(np.append(np.arange(0,1,0.2), round(precOT, 2)))\n",
    "    \n",
    "    plt.legend(loc='upper right', fontsize = 'x-large')\n",
    "    plt.ylim([0,1])\n",
    "\n",
    "plot_prec_recall_vs_tresh(dataW12_4predict['DV_hasContradictions'], predictedProb)\n",
    "\n",
    "plt.savefig('sensRecall2017.png', dpi=300, transparent=True, bbox_inches='tight', pad_inches=0.1)\n",
    "plt.show()"
   ]
  },
  {
   "cell_type": "code",
   "execution_count": 68,
   "metadata": {},
   "outputs": [],
   "source": [
    "predictedBinary = (predictedProb > optimal_threshold) * 1"
   ]
  },
  {
   "cell_type": "code",
   "execution_count": 69,
   "metadata": {},
   "outputs": [
    {
     "name": "stdout",
     "output_type": "stream",
     "text": [
      "[[15954  1411]\n",
      " [ 1434  3137]]\n",
      "Accuracy:  0.8703045222465354\n",
      "Recall:  0.6862830890395974\n",
      "Precision:  0.6897537379067722\n"
     ]
    }
   ],
   "source": [
    "from sklearn.metrics import confusion_matrix, accuracy_score, recall_score, precision_score\n",
    "print(confusion_matrix(y_true=dataW12_4predict['DV_hasContradictions'], y_pred=predictedBinary))\n",
    "\n",
    "print('Accuracy: ', accuracy_score(y_true=dataW12_4predict['DV_hasContradictions'], y_pred=predictedBinary))\n",
    "print('Recall: ', recall_score(y_true=dataW12_4predict['DV_hasContradictions'], y_pred=predictedBinary))\n",
    "print('Precision: ', precision_score(y_true=dataW12_4predict['DV_hasContradictions'], y_pred=predictedBinary))"
   ]
  },
  {
   "cell_type": "code",
   "execution_count": null,
   "metadata": {},
   "outputs": [],
   "source": [
    "# from pandas_ml import ConfusionMatrix\n",
    "# cm = ConfusionMatrix(y_true=dataW12_4predict['DV_hasContradictions'], y_pred=predictedBinary)\n",
    "# cm.plot()"
   ]
  },
  {
   "cell_type": "markdown",
   "metadata": {},
   "source": [
    "### Accuracy metrics. Predictions. 2015"
   ]
  },
  {
   "cell_type": "code",
   "execution_count": 70,
   "metadata": {},
   "outputs": [
    {
     "name": "stdout",
     "output_type": "stream",
     "text": [
      "Optimization terminated successfully.\n",
      "         Current function value: 0.361724\n",
      "         Iterations 7\n",
      "                                 Results: Logit\n",
      "=================================================================================\n",
      "Model:                  Logit                    Pseudo R-squared:     0.256     \n",
      "Dependent Variable:     DV_hasContradictions     AIC:                  14995.5553\n",
      "Date:                   2019-04-30 22:13         BIC:                  15066.9976\n",
      "No. Observations:       20703                    Log-Likelihood:       -7488.8   \n",
      "Df Model:               8                        LL-Null:              -10061.   \n",
      "Df Residuals:           20694                    LLR p-value:          0.0000    \n",
      "Converged:              1.0000                   Scale:                1.0000    \n",
      "No. Iterations:         7.0000                                                   \n",
      "---------------------------------------------------------------------------------\n",
      "                                  Coef.  Std.Err.    z     P>|z|   [0.025  0.975]\n",
      "---------------------------------------------------------------------------------\n",
      "Intercept                        -3.5976   0.0919 -39.1359 0.0000 -3.7777 -3.4174\n",
      "C(isPIdCon)[T.1.0]                0.4229   0.0544   7.7790 0.0000  0.3164  0.5295\n",
      "PIdSuccess                        0.0629   0.0020  31.0522 0.0000  0.0589  0.0668\n",
      "GEVSuccess                        0.0760   0.0020  38.1154 0.0000  0.0721  0.0799\n",
      "PIdSuccess:GEVSuccess            -0.0016   0.0000 -46.4872 0.0000 -0.0017 -0.0016\n",
      "PIdFailure                       -0.3891   0.1086  -3.5815 0.0003 -0.6020 -0.1761\n",
      "GEVFailure                        0.9972   0.1051   9.4905 0.0000  0.7913  1.2031\n",
      "changeEconomy                     0.2143   0.0251   8.5354 0.0000  0.1651  0.2636\n",
      "C(isPIdCon)[T.1.0]:changeEconomy -0.8074   0.0502 -16.0911 0.0000 -0.9058 -0.7091\n",
      "=================================================================================\n",
      "\n"
     ]
    }
   ],
   "source": [
    "logit2015H_1_3 = smf.logit(formula='DV_hasContradictions ~ PIdSuccess * GEVSuccess + PIdFailure + GEVFailure + C(isPIdCon)*changeEconomy', data = economicVoting04).fit()\n",
    "print(logit2015H_1_3.summary2())"
   ]
  },
  {
   "cell_type": "code",
   "execution_count": 71,
   "metadata": {},
   "outputs": [],
   "source": [
    "dataW04_4predict = dataW04[['DV_hasContradictions', 'PIdSuccess', 'GEVSuccess',\n",
    "                            'PIdFailure', 'GEVFailure',\n",
    "                            'isPIdCon', 'changeEconomy']]\n",
    "dataW04_4predict = dataW04_4predict.dropna()\n",
    "predicted2015Prob = logit2015H_1_3.predict(dataW04_4predict)"
   ]
  },
  {
   "cell_type": "code",
   "execution_count": 72,
   "metadata": {},
   "outputs": [
    {
     "name": "stdout",
     "output_type": "stream",
     "text": [
      "Optimal threshold is 0.319\n"
     ]
    }
   ],
   "source": [
    "optimal_threshold2015 = Find_Optimal_Cutoff(dataW04_4predict['DV_hasContradictions'], predicted2015Prob)\n",
    "print('Optimal threshold is', round(optimal_threshold2015, 3))"
   ]
  },
  {
   "cell_type": "code",
   "execution_count": 73,
   "metadata": {},
   "outputs": [
    {
     "data": {
      "image/png": "[encoded data removed]",
      "text/plain": [
       "<Figure size 864x360 with 1 Axes>"
      ]
     },
     "metadata": {
      "needs_background": "light"
     },
     "output_type": "display_data"
    }
   ],
   "source": [
    "plot_prec_recall_vs_tresh(dataW04_4predict['DV_hasContradictions'], predicted2015Prob)\n",
    "\n",
    "plt.savefig('sensRecall2015.png', dpi=300, transparent=True, bbox_inches='tight', pad_inches=0.1)\n",
    "plt.show()"
   ]
  },
  {
   "cell_type": "code",
   "execution_count": 74,
   "metadata": {},
   "outputs": [],
   "source": [
    "predictedBinary2015 = (predicted2015Prob > optimal_threshold2015) * 1"
   ]
  },
  {
   "cell_type": "code",
   "execution_count": 75,
   "metadata": {},
   "outputs": [
    {
     "name": "stdout",
     "output_type": "stream",
     "text": [
      "[[15044  1729]\n",
      " [ 1730  2200]]\n",
      "Accuracy:  0.8329227648166933\n",
      "Recall:  0.5597964376590331\n",
      "Precision:  0.5599389157546449\n"
     ]
    }
   ],
   "source": [
    "print(confusion_matrix(y_true=dataW04_4predict['DV_hasContradictions'], y_pred=predictedBinary2015))\n",
    "\n",
    "print('Accuracy: ', accuracy_score(y_true=dataW04_4predict['DV_hasContradictions'], y_pred=predictedBinary2015))\n",
    "print('Recall: ', recall_score(y_true=dataW04_4predict['DV_hasContradictions'], y_pred=predictedBinary2015))\n",
    "print('Precision: ', precision_score(y_true=dataW04_4predict['DV_hasContradictions'], y_pred=predictedBinary2015))"
   ]
  },
  {
   "cell_type": "markdown",
   "metadata": {},
   "source": [
    "## Гипотеза № 4"
   ]
  },
  {
   "cell_type": "code",
   "execution_count": 76,
   "metadata": {},
   "outputs": [],
   "source": [
    "selectedVar = ['partyId', 'GEV', 'mii', 'bestOnMII', 'mii_cat', 'small_mii_cat',\n",
    "               'handleMIICon', 'handleMIILab', 'handleMIILD', 'handleMIIUKIP', 'handleMIIGrn',\n",
    "               'DV_hasContradictions']\n",
    "MIIdataW12 = dataW12[selectedVar]\n",
    "MIIdataW04 = dataW04[selectedVar] "
   ]
  },
  {
   "cell_type": "code",
   "execution_count": 77,
   "metadata": {
    "code_folding": [
     0,
     3
    ]
   },
   "outputs": [],
   "source": [
    "party_abbr_handle = {\"Conservative\" : \"Con\", \"Labour\": \"Lab\", \"Liberal Democrat\": \"LD\",\n",
    "                     \"Green Party\": \"Grn\", \"United Kingdom Independence Party (UKIP)\": \"UKIP\"}\n",
    "\n",
    "def makeHandleVars(data, labelBar=''):\n",
    "    for row in tqdm_notebook(range(len(data)), desc = labelBar):\n",
    "        try:\n",
    "            if data.loc[row, \"partyId\"] in party_abbr_handle:\n",
    "                data.loc[row, \"PIdHandleMII\"] = data.loc[row,\"handleMII\" + party_abbr_handle[data.loc[row, \"partyId\"]]]\n",
    "\n",
    "            if data.loc[row, \"GEV\"] in party_abbr_handle:\n",
    "                data.loc[row, \"GEVHandleMII\"] = data.loc[row,\"handleMII\" + party_abbr_handle[data.loc[row, \"GEV\"]]]\n",
    "        except BaseException as error:\n",
    "            print(error)\n",
    "            print(\"Возникли проблемы со строчкой № \", row)\n",
    "    return data"
   ]
  },
  {
   "cell_type": "code",
   "execution_count": 78,
   "metadata": {},
   "outputs": [
    {
     "data": {
      "application/vnd.jupyter.widget-view+json": {
       "model_id": "67aed2cf4e9548f989404b17702dbf88",
       "version_major": 2,
       "version_minor": 0
      },
      "text/plain": [
       "HBox(children=(IntProgress(value=0, description='2017', max=24368, style=ProgressStyle(description_width='init…"
      ]
     },
     "metadata": {},
     "output_type": "display_data"
    },
    {
     "name": "stdout",
     "output_type": "stream",
     "text": [
      "\n"
     ]
    },
    {
     "data": {
      "application/vnd.jupyter.widget-view+json": {
       "model_id": "303d9c657ff24a289e2c1cccf50b2c14",
       "version_major": 2,
       "version_minor": 0
      },
      "text/plain": [
       "HBox(children=(IntProgress(value=0, description='2015', max=22802, style=ProgressStyle(description_width='init…"
      ]
     },
     "metadata": {},
     "output_type": "display_data"
    },
    {
     "name": "stdout",
     "output_type": "stream",
     "text": [
      "\n"
     ]
    }
   ],
   "source": [
    "MIIdataW12 = makeHandleVars(MIIdataW12, labelBar='2017')\n",
    "MIIdataW04 = makeHandleVars(MIIdataW04, labelBar='2015')"
   ]
  },
  {
   "cell_type": "code",
   "execution_count": 79,
   "metadata": {},
   "outputs": [],
   "source": [
    "MIIdataW12 = MIIdataW12.dropna(subset=[\"PIdHandleMII\", \"GEVHandleMII\"]).reset_index(drop = True)\n",
    "MIIdataW04 = MIIdataW04.dropna(subset=[\"PIdHandleMII\", \"GEVHandleMII\"]).reset_index(drop = True)"
   ]
  },
  {
   "cell_type": "code",
   "execution_count": 80,
   "metadata": {},
   "outputs": [
    {
     "name": "stdout",
     "output_type": "stream",
     "text": [
      "0    3824\n",
      "1     993\n",
      "Name: DV_hasContradictions, dtype: int64\n",
      "0    3584\n",
      "1     821\n",
      "Name: DV_hasContradictions, dtype: int64\n"
     ]
    }
   ],
   "source": [
    "print(MIIdataW12['DV_hasContradictions'].value_counts())\n",
    "\n",
    "print(MIIdataW04['DV_hasContradictions'].value_counts())"
   ]
  },
  {
   "cell_type": "code",
   "execution_count": 81,
   "metadata": {},
   "outputs": [
    {
     "name": "stdout",
     "output_type": "stream",
     "text": [
      "Optimization terminated successfully.\n",
      "         Current function value: 0.444537\n",
      "         Iterations 6\n",
      "                            Results: Logit\n",
      "======================================================================\n",
      "Model:              Logit                Pseudo R-squared: 0.126      \n",
      "Dependent Variable: DV_hasContradictions AIC:              4288.6701  \n",
      "Date:               2019-04-30 22:18     BIC:              4308.1098  \n",
      "No. Observations:   4817                 Log-Likelihood:   -2141.3    \n",
      "Df Model:           2                    LL-Null:          -2450.9    \n",
      "Df Residuals:       4814                 LLR p-value:      3.5800e-135\n",
      "Converged:          1.0000               Scale:            1.0000     \n",
      "No. Iterations:     6.0000                                            \n",
      "-----------------------------------------------------------------------\n",
      "                   Coef.   Std.Err.     z      P>|z|    [0.025   0.975]\n",
      "-----------------------------------------------------------------------\n",
      "Intercept          0.3479    0.1182    2.9426  0.0033   0.1162   0.5797\n",
      "PIdHandleMII      -0.4292    0.0222  -19.3665  0.0000  -0.4726  -0.3857\n",
      "GEVHandleMII       0.1593    0.0247    6.4509  0.0000   0.1109   0.2077\n",
      "======================================================================\n",
      "\n"
     ]
    }
   ],
   "source": [
    "MIIdataW12['partyId'] = MIIdataW12['partyId'].astype('str')\n",
    "\n",
    "miiLogitW12 = smf.logit(formula='DV_hasContradictions~PIdHandleMII+GEVHandleMII', data=MIIdataW12).fit()\n",
    "print(miiLogitW12.summary2())"
   ]
  },
  {
   "cell_type": "code",
   "execution_count": 82,
   "metadata": {},
   "outputs": [
    {
     "name": "stdout",
     "output_type": "stream",
     "text": [
      "Optimization terminated successfully.\n",
      "         Current function value: 0.386415\n",
      "         Iterations 7\n",
      "                            Results: Logit\n",
      "======================================================================\n",
      "Model:              Logit                Pseudo R-squared: 0.197      \n",
      "Dependent Variable: DV_hasContradictions AIC:              3410.3202  \n",
      "Date:               2019-04-30 22:18     BIC:              3429.4917  \n",
      "No. Observations:   4405                 Log-Likelihood:   -1702.2    \n",
      "Df Model:           2                    LL-Null:          -2118.5    \n",
      "Df Residuals:       4402                 LLR p-value:      1.5404e-181\n",
      "Converged:          1.0000               Scale:            1.0000     \n",
      "No. Iterations:     7.0000                                            \n",
      "-----------------------------------------------------------------------\n",
      "                   Coef.   Std.Err.     z      P>|z|    [0.025   0.975]\n",
      "-----------------------------------------------------------------------\n",
      "Intercept         -0.5880    0.1182   -4.9738  0.0000  -0.8197  -0.3563\n",
      "PIdHandleMII      -0.7440    0.0366  -20.3417  0.0000  -0.8157  -0.6723\n",
      "GEVHandleMII       0.5468    0.0369   14.8018  0.0000   0.4744   0.6192\n",
      "======================================================================\n",
      "\n"
     ]
    }
   ],
   "source": [
    "MIIdataW04['partyId'] = MIIdataW04['partyId'].astype('str')\n",
    "\n",
    "miiLogitW04 = smf.logit(formula='DV_hasContradictions~PIdHandleMII+GEVHandleMII', data=MIIdataW04).fit()\n",
    "print(miiLogitW04.summary2())"
   ]
  }
 ],
 "metadata": {
  "kernelspec": {
   "display_name": "Python 3",
   "language": "python",
   "name": "python3"
  },
  "language_info": {
   "codemirror_mode": {
    "name": "ipython",
    "version": 3
   },
   "file_extension": ".py",
   "mimetype": "text/x-python",
   "name": "python",
   "nbconvert_exporter": "python",
   "pygments_lexer": "ipython3",
   "version": "3.6.6"
  },
  "notify_time": "5",
  "toc": {
   "base_numbering": 1,
   "nav_menu": {},
   "number_sections": true,
   "sideBar": true,
   "skip_h1_title": false,
   "title_cell": "Table of Contents",
   "title_sidebar": "Содержание",
   "toc_cell": false,
   "toc_position": {
    "height": "452px",
    "left": "340px",
    "top": "205.133px",
    "width": "324.067px"
   },
   "toc_section_display": true,
   "toc_window_display": false
  },
  "varInspector": {
   "cols": {
    "lenName": "15",
    "lenType": "6",
    "lenVar": "5"
   },
   "kernels_config": {
    "python": {
     "delete_cmd_postfix": "",
     "delete_cmd_prefix": "del ",
     "library": "var_list.py",
     "varRefreshCmd": "print(var_dic_list())"
    },
    "r": {
     "delete_cmd_postfix": ") ",
     "delete_cmd_prefix": "rm(",
     "library": "var_list.r",
     "varRefreshCmd": "cat(var_dic_list()) "
    }
   },
   "position": {
    "height": "622px",
    "left": "1040.37px",
    "right": "21.5667px",
    "top": "13px",
    "width": "304.067px"
   },
   "types_to_exclude": [
    "module",
    "function",
    "builtin_function_or_method",
    "instance",
    "_Feature"
   ],
   "window_display": false
  }
 },
 "nbformat": 4,
 "nbformat_minor": 2
}
